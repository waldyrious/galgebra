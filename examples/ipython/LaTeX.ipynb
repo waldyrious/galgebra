{
 "cells": [
  {
   "cell_type": "code",
   "execution_count": 1,
   "metadata": {},
   "outputs": [],
   "source": [
    "%cd -q ../LaTeX"
   ]
  },
  {
   "cell_type": "code",
   "execution_count": 2,
   "metadata": {},
   "outputs": [
    {
     "data": {
      "text/plain": [
       "' \\\\left [ \\\\begin{array}{cccc} 0 & 0 & 1 & 0  \\\\\\\\ 0 & 0 & 0 & 1  \\\\\\\\ 1 & 0 & 0 & 0  \\\\\\\\ 0 & 1 & 0 & 0  \\\\end{array}\\\\right ] '"
      ]
     },
     "metadata": {},
     "output_type": "display_data"
    }
   ],
   "source": [
    "%run 4Derr.py"
   ]
  },
  {
   "cell_type": "code",
   "execution_count": 3,
   "metadata": {},
   "outputs": [
    {
     "name": "stdout",
     "output_type": "stream",
     "text": [
      "\r\n",
      "\\documentclass[10pt,fleqn]{report}\r\n",
      "\\usepackage[vcentering]{geometry}\r\n",
      "\\geometry{papersize={14in,11in},total={13in,10in}}\r\n",
      "\r\n",
      "\\pagestyle{empty}\r\n",
      "\\usepackage[latin1]{inputenc}\r\n",
      "\\usepackage{amsmath}\r\n",
      "\\usepackage{amsfonts}\r\n",
      "\\usepackage{amssymb}\r\n",
      "\\usepackage{amsbsy}\r\n",
      "\\usepackage{tensor}\r\n",
      "\\usepackage{listings}\r\n",
      "\\usepackage{color}\r\n",
      "\\usepackage{xcolor}\r\n",
      "\\usepackage{bm}\r\n",
      "\\usepackage{breqn}\r\n",
      "\\definecolor{gray}{rgb}{0.95,0.95,0.95}\r\n",
      "\\setlength{\\parindent}{0pt}\r\n",
      "\\DeclareMathOperator{\\Tr}{Tr}\r\n",
      "\\DeclareMathOperator{\\Adj}{Adj}\r\n",
      "\\newcommand{\\bfrac}[2]{\\displaystyle\\frac{#1}{#2}}\r\n",
      "\\newcommand{\\lp}{\\left (}\r\n",
      "\\newcommand{\\rp}{\\right )}\r\n",
      "\\newcommand{\\paren}[1]{\\lp {#1} \\rp}\r\n",
      "\\newcommand{\\half}{\\frac{1}{2}}\r\n",
      "\\newcommand{\\llt}{\\left <}\r\n",
      "\\newcommand{\\rgt}{\\right >}\r\n",
      "\\newcommand{\\abs}[1]{\\left |{#1}\\right | }\r\n",
      "\\newcommand{\\pdiff}[2]{\\bfrac{\\partial {#1}}{\\partial {#2}}}\r\n",
      "\\newcommand{\\lbrc}{\\left \\{}\r\n",
      "\\newcommand{\\rbrc}{\\right \\}}\r\n",
      "\\newcommand{\\W}{\\wedge}\r\n",
      "\\newcommand{\\prm}[1]{{#1}'}\r\n",
      "\\newcommand{\\ddt}[1]{\\bfrac{d{#1}}{dt}}\r\n",
      "\\newcommand{\\R}{\\dagger}\r\n",
      "\\newcommand{\\deriv}[3]{\\bfrac{d^{#3}#1}{d{#2}^{#3}}}\r\n",
      "\\newcommand{\\grade}[1]{\\left < {#1} \\right >}\r\n",
      "\\newcommand{\\f}[2]{{#1}\\lp{#2}\\rp}\r\n",
      "\\newcommand{\\eval}[2]{\\left . {#1} \\right |_{#2}}\r\n",
      "\\newcommand{\\Nabla}{\\boldsymbol{\\nabla}}\r\n",
      "\\newcommand{\\eb}{\\boldsymbol{e}}\r\n",
      "\\usepackage{float}\r\n",
      "\\floatstyle{plain} % optionally change the style of the new float\r\n",
      "\\newfloat{Code}{H}{myc}\r\n",
      "\\lstloadlanguages{Python}\r\n",
      "\r\n",
      "\\begin{document}\r\n",
      "\\begin{equation*} g_{ii} = None \\end{equation*}\r\n",
      "\\begin{equation*} x_1\\rfloor x_1== 1 \\end{equation*}\r\n",
      "\\begin{equation*} x_1\\rfloor x_2== 0 \\end{equation*}\r\n",
      "\\begin{equation*} x_2\\rfloor x_1== 0 \\end{equation*}\r\n",
      "\\begin{equation*} x_2\\rfloor x_2== 1 \\end{equation*}\r\n",
      "$-\\infty < v < \\infty$\r\n",
      "\\begin{equation*} (-v (x_1\\W x_2)/2) \\cdot exp()== \\cos{\\left (\\frac{\\left|{v}\\right|}{2} \\right )}  - \\frac{v \\sin{\\left (\\frac{\\left|{v}\\right|}{2} \\right )}}{2 \\left|{v}\\right|} \\boldsymbol{e}_{1}\\wedge \\boldsymbol{e}_{2} - \\frac{v \\sin{\\left (\\frac{\\left|{v}\\right|}{2} \\right )}}{2 \\left|{v}\\right|} \\boldsymbol{e}_{1}\\wedge \\boldsymbol{e}_{4} + \\frac{v \\sin{\\left (\\frac{\\left|{v}\\right|}{2} \\right )}}{2 \\left|{v}\\right|} \\boldsymbol{e}_{2}\\wedge \\boldsymbol{e}_{3} - \\frac{v \\sin{\\left (\\frac{\\left|{v}\\right|}{2} \\right )}}{2 \\left|{v}\\right|} \\boldsymbol{e}_{3}\\wedge \\boldsymbol{e}_{4} \\end{equation*}\r\n",
      "$0\\le v < \\infty$\r\n",
      "\\begin{equation*} (-v (x_1\\W x_2)/2) \\cdot exp()== \\cos{\\left (\\frac{v}{2} \\right )}  - \\frac{\\sin{\\left (\\frac{v}{2} \\right )}}{2} \\boldsymbol{e}_{1}\\wedge \\boldsymbol{e}_{2} - \\frac{\\sin{\\left (\\frac{v}{2} \\right )}}{2} \\boldsymbol{e}_{1}\\wedge \\boldsymbol{e}_{4} + \\frac{\\sin{\\left (\\frac{v}{2} \\right )}}{2} \\boldsymbol{e}_{2}\\wedge \\boldsymbol{e}_{3} - \\frac{\\sin{\\left (\\frac{v}{2} \\right )}}{2} \\boldsymbol{e}_{3}\\wedge \\boldsymbol{e}_{4} \\end{equation*}\r\n",
      "\\end{document}\r\n"
     ]
    }
   ],
   "source": [
    "!cat 4Derr.tex"
   ]
  },
  {
   "cell_type": "code",
   "execution_count": 10,
   "metadata": {},
   "outputs": [],
   "source": [
    "%run curvi_linear_latex.py"
   ]
  },
  {
   "cell_type": "code",
   "execution_count": 11,
   "metadata": {
    "scrolled": false
   },
   "outputs": [
    {
     "name": "stdout",
     "output_type": "stream",
     "text": [
      "\r\n",
      "\\documentclass[10pt,fleqn]{report}\r\n",
      "\\usepackage[vcentering]{geometry}\r\n",
      "\\geometry{papersize={14in,11in},total={13in,10in}}\r\n",
      "\r\n",
      "\\pagestyle{empty}\r\n",
      "\\usepackage[latin1]{inputenc}\r\n",
      "\\usepackage{amsmath}\r\n",
      "\\usepackage{amsfonts}\r\n",
      "\\usepackage{amssymb}\r\n",
      "\\usepackage{amsbsy}\r\n",
      "\\usepackage{tensor}\r\n",
      "\\usepackage{listings}\r\n",
      "\\usepackage{color}\r\n",
      "\\usepackage{xcolor}\r\n",
      "\\usepackage{bm}\r\n",
      "\\usepackage{breqn}\r\n",
      "\\definecolor{gray}{rgb}{0.95,0.95,0.95}\r\n",
      "\\setlength{\\parindent}{0pt}\r\n",
      "\\DeclareMathOperator{\\Tr}{Tr}\r\n",
      "\\DeclareMathOperator{\\Adj}{Adj}\r\n",
      "\\newcommand{\\bfrac}[2]{\\displaystyle\\frac{#1}{#2}}\r\n",
      "\\newcommand{\\lp}{\\left (}\r\n",
      "\\newcommand{\\rp}{\\right )}\r\n",
      "\\newcommand{\\paren}[1]{\\lp {#1} \\rp}\r\n",
      "\\newcommand{\\half}{\\frac{1}{2}}\r\n",
      "\\newcommand{\\llt}{\\left <}\r\n",
      "\\newcommand{\\rgt}{\\right >}\r\n",
      "\\newcommand{\\abs}[1]{\\left |{#1}\\right | }\r\n",
      "\\newcommand{\\pdiff}[2]{\\bfrac{\\partial {#1}}{\\partial {#2}}}\r\n",
      "\\newcommand{\\lbrc}{\\left \\{}\r\n",
      "\\newcommand{\\rbrc}{\\right \\}}\r\n",
      "\\newcommand{\\W}{\\wedge}\r\n",
      "\\newcommand{\\prm}[1]{{#1}'}\r\n",
      "\\newcommand{\\ddt}[1]{\\bfrac{d{#1}}{dt}}\r\n",
      "\\newcommand{\\R}{\\dagger}\r\n",
      "\\newcommand{\\deriv}[3]{\\bfrac{d^{#3}#1}{d{#2}^{#3}}}\r\n",
      "\\newcommand{\\grade}[1]{\\left < {#1} \\right >}\r\n",
      "\\newcommand{\\f}[2]{{#1}\\lp{#2}\\rp}\r\n",
      "\\newcommand{\\eval}[2]{\\left . {#1} \\right |_{#2}}\r\n",
      "\\newcommand{\\Nabla}{\\boldsymbol{\\nabla}}\r\n",
      "\\newcommand{\\eb}{\\boldsymbol{e}}\r\n",
      "\\usepackage{float}\r\n",
      "\\floatstyle{plain} % optionally change the style of the new float\r\n",
      "\\newfloat{Code}{H}{myc}\r\n",
      "\\lstloadlanguages{Python}\r\n",
      "\r\n",
      "\\begin{document}\r\n",
      "\\begin{equation*} f = f \\end{equation*}\r\n",
      "  \\begin{align*} A =  & A^{\\xi }  \\boldsymbol{e}_{\\xi } \\\\  &  + A^{\\eta }  \\boldsymbol{e}_{\\eta } \\\\  &  + A^{\\phi }  \\boldsymbol{e}_{\\phi }  \\end{align*} \r\n",
      "  \\begin{align*} B =  & B^{\\xi \\eta }  \\boldsymbol{e}_{\\xi }\\wedge \\boldsymbol{e}_{\\eta } \\\\  &  + B^{\\xi \\phi }  \\boldsymbol{e}_{\\xi }\\wedge \\boldsymbol{e}_{\\phi } \\\\  &  + B^{\\eta \\phi }  \\boldsymbol{e}_{\\eta }\\wedge \\boldsymbol{e}_{\\phi }  \\end{align*} \r\n",
      "  \\begin{align*} \\boldsymbol{\\nabla}  f =  & \\frac{\\partial_{\\xi } f }{\\sqrt{{\\sin{\\left (\\eta  \\right )}}^{2} + {\\sinh{\\left (\\xi  \\right )}}^{2}} \\left|{a}\\right|} \\boldsymbol{e}_{\\xi } \\\\  &  + \\frac{\\partial_{\\eta } f }{\\sqrt{{\\sin{\\left (\\eta  \\right )}}^{2} + {\\sinh{\\left (\\xi  \\right )}}^{2}} \\left|{a}\\right|} \\boldsymbol{e}_{\\eta } \\\\  &  + \\frac{\\partial_{\\phi } f }{a \\cos{\\left (\\eta  \\right )} \\cosh{\\left (\\xi  \\right )}} \\boldsymbol{e}_{\\phi }  \\end{align*} \r\n",
      "\\begin{equation*} \\boldsymbol{\\nabla} \\cdot A = \\frac{a \\left({\\sin{\\left (\\eta  \\right )}}^{2} + {\\sinh{\\left (\\xi  \\right )}}^{2}\\right)^{3} \\partial_{\\phi } A^{\\phi }  + \\frac{\\left(A^{\\eta }  \\sin{\\left (2 \\eta  \\right )} + A^{\\xi }  \\sinh{\\left (2 \\xi  \\right )}\\right) \\left({\\sin{\\left (\\eta  \\right )}}^{2} + {\\sinh{\\left (\\xi  \\right )}}^{2}\\right)^{\\frac{3}{2}} \\cos{\\left (\\eta  \\right )} \\cosh{\\left (\\xi  \\right )} \\left|{a}\\right|}{2} + \\left({\\sin{\\left (\\eta  \\right )}}^{2} + {\\sinh{\\left (\\xi  \\right )}}^{2}\\right)^{\\frac{5}{2}} \\left(\\partial_{\\eta } A^{\\eta }  + \\partial_{\\xi } A^{\\xi } \\right) \\cos{\\left (\\eta  \\right )} \\cosh{\\left (\\xi  \\right )} \\left|{a}\\right| - \\left({\\sin{\\left (\\eta  \\right )}}^{2} + {\\sinh{\\left (\\xi  \\right )}}^{2}\\right)^{\\frac{5}{2}} A^{\\eta }  \\sin{\\left (\\eta  \\right )} \\cosh{\\left (\\xi  \\right )} \\left|{a}\\right| + \\left({\\sin{\\left (\\eta  \\right )}}^{2} + {\\sinh{\\left (\\xi  \\right )}}^{2}\\right)^{\\frac{5}{2}} A^{\\xi }  \\cos{\\left (\\eta  \\right )} \\sinh{\\left (\\xi  \\right )} \\left|{a}\\right|}{a^{2} \\left({\\sin{\\left (\\eta  \\right )}}^{2} + {\\sinh{\\left (\\xi  \\right )}}^{2}\\right)^{3} \\cos{\\left (\\eta  \\right )} \\cosh{\\left (\\xi  \\right )}} \\end{equation*}\r\n",
      "  \\begin{align*} -I (\\boldsymbol{\\nabla} \\W A) =  & - \\frac{a \\left({\\sin{\\left (\\eta  \\right )}}^{2} + {\\sinh{\\left (\\xi  \\right )}}^{2}\\right) \\partial_{\\phi } A^{\\eta }  + \\sqrt{{\\sin{\\left (\\eta  \\right )}}^{2} + {\\sinh{\\left (\\xi  \\right )}}^{2}} A^{\\phi }  \\sin{\\left (\\eta  \\right )} \\cosh{\\left (\\xi  \\right )} \\left|{a}\\right| - \\sqrt{{\\sin{\\left (\\eta  \\right )}}^{2} + {\\sinh{\\left (\\xi  \\right )}}^{2}} \\cos{\\left (\\eta  \\right )} \\cosh{\\left (\\xi  \\right )} \\left|{a}\\right| \\partial_{\\eta } A^{\\phi } }{a^{2} \\left({\\sin{\\left (\\eta  \\right )}}^{2} + {\\sinh{\\left (\\xi  \\right )}}^{2}\\right) \\cos{\\left (\\eta  \\right )} \\cosh{\\left (\\xi  \\right )}} \\boldsymbol{e}_{\\xi } \\\\  &  - \\frac{- a \\left({\\sin{\\left (\\eta  \\right )}}^{2} + {\\sinh{\\left (\\xi  \\right )}}^{2}\\right) \\partial_{\\phi } A^{\\xi }  + \\sqrt{{\\sin{\\left (\\eta  \\right )}}^{2} + {\\sinh{\\left (\\xi  \\right )}}^{2}} A^{\\phi }  \\cos{\\left (\\eta  \\right )} \\sinh{\\left (\\xi  \\right )} \\left|{a}\\right| + \\sqrt{{\\sin{\\left (\\eta  \\right )}}^{2} + {\\sinh{\\left (\\xi  \\right )}}^{2}} \\cos{\\left (\\eta  \\right )} \\cosh{\\left (\\xi  \\right )} \\left|{a}\\right| \\partial_{\\xi } A^{\\phi } }{a^{2} \\left({\\sin{\\left (\\eta  \\right )}}^{2} + {\\sinh{\\left (\\xi  \\right )}}^{2}\\right) \\cos{\\left (\\eta  \\right )} \\cosh{\\left (\\xi  \\right )}} \\boldsymbol{e}_{\\eta } \\\\  &  + \\frac{\\left({\\sin{\\left (\\eta  \\right )}}^{2} + {\\sinh{\\left (\\xi  \\right )}}^{2}\\right) \\left(2 \\partial_{\\xi } A^{\\eta }  - 2 \\partial_{\\eta } A^{\\xi } \\right) + A^{\\eta }  \\sinh{\\left (2 \\xi  \\right )} - A^{\\xi }  \\sin{\\left (2 \\eta  \\right )}}{2 \\left({\\sin{\\left (\\eta  \\right )}}^{2} + {\\sinh{\\left (\\xi  \\right )}}^{2}\\right)^{\\frac{3}{2}} \\left|{a}\\right|} \\boldsymbol{e}_{\\phi }  \\end{align*} \r\n",
      "\\begin{equation*} \\boldsymbol{\\nabla} \\W B = \\frac{a \\left({\\sin{\\left (\\eta  \\right )}}^{2} + {\\sinh{\\left (\\xi  \\right )}}^{2}\\right)^{3} \\partial_{\\phi } B^{\\xi \\eta }  + \\frac{\\left(B^{\\eta \\phi }  \\sinh{\\left (2 \\xi  \\right )} - B^{\\xi \\phi }  \\sin{\\left (2 \\eta  \\right )}\\right) \\left({\\sin{\\left (\\eta  \\right )}}^{2} + {\\sinh{\\left (\\xi  \\right )}}^{2}\\right)^{\\frac{3}{2}} \\cos{\\left (\\eta  \\right )} \\cosh{\\left (\\xi  \\right )} \\left|{a}\\right|}{2} + \\left({\\sin{\\left (\\eta  \\right )}}^{2} + {\\sinh{\\left (\\xi  \\right )}}^{2}\\right)^{\\frac{5}{2}} \\left(\\partial_{\\xi } B^{\\eta \\phi }  - \\partial_{\\eta } B^{\\xi \\phi } \\right) \\cos{\\left (\\eta  \\right )} \\cosh{\\left (\\xi  \\right )} \\left|{a}\\right| + \\left({\\sin{\\left (\\eta  \\right )}}^{2} + {\\sinh{\\left (\\xi  \\right )}}^{2}\\right)^{\\frac{5}{2}} B^{\\eta \\phi }  \\cos{\\left (\\eta  \\right )} \\sinh{\\left (\\xi  \\right )} \\left|{a}\\right| + \\left({\\sin{\\left (\\eta  \\right )}}^{2} + {\\sinh{\\left (\\xi  \\right )}}^{2}\\right)^{\\frac{5}{2}} B^{\\xi \\phi }  \\sin{\\left (\\eta  \\right )} \\cosh{\\left (\\xi  \\right )} \\left|{a}\\right|}{a^{2} \\left({\\sin{\\left (\\eta  \\right )}}^{2} + {\\sinh{\\left (\\xi  \\right )}}^{2}\\right)^{3} \\cos{\\left (\\eta  \\right )} \\cosh{\\left (\\xi  \\right )}} \\boldsymbol{e}_{\\xi }\\wedge \\boldsymbol{e}_{\\eta }\\wedge \\boldsymbol{e}_{\\phi } \\end{equation*}\r\n",
      "\\begin{equation*} f = f \\end{equation*}\r\n",
      "  \\begin{align*} A =  & A^{r}  \\boldsymbol{e}_{r} \\\\  &  + A^{\\theta }  \\boldsymbol{e}_{\\theta } \\\\  &  + A^{\\phi }  \\boldsymbol{e}_{\\phi }  \\end{align*} \r\n",
      "  \\begin{align*} B =  & B^{r\\theta }  \\boldsymbol{e}_{r}\\wedge \\boldsymbol{e}_{\\theta } \\\\  &  + B^{r\\phi }  \\boldsymbol{e}_{r}\\wedge \\boldsymbol{e}_{\\phi } \\\\  &  + B^{\\theta \\phi }  \\boldsymbol{e}_{\\theta }\\wedge \\boldsymbol{e}_{\\phi }  \\end{align*} \r\n",
      "  \\begin{align*} \\boldsymbol{\\nabla}  f =  & \\partial_{r} f  \\boldsymbol{e}_{r} \\\\  &  + \\frac{\\partial_{\\theta } f }{r^{2}} \\boldsymbol{e}_{\\theta } \\\\  &  + \\frac{\\partial_{\\phi } f }{r^{2} {\\sin{\\left (\\theta  \\right )}}^{2}} \\boldsymbol{e}_{\\phi }  \\end{align*} \r\n",
      "\\begin{equation*} \\boldsymbol{\\nabla} \\cdot A = \\frac{A^{\\theta } }{\\tan{\\left (\\theta  \\right )}} + \\partial_{\\phi } A^{\\phi }  + \\partial_{r} A^{r}  + \\partial_{\\theta } A^{\\theta }  + \\frac{2 A^{r} }{r} \\end{equation*}\r\n",
      "  \\begin{align*} \\boldsymbol{\\nabla} \\times A = -I (\\boldsymbol{\\nabla} \\W A) =  & \\left(\\frac{2 A^{\\phi } }{\\tan{\\left (\\theta  \\right )}} + \\partial_{\\theta } A^{\\phi }  - \\frac{\\partial_{\\phi } A^{\\theta } }{{\\sin{\\left (\\theta  \\right )}}^{2}}\\right) \\left|{\\sin{\\left (\\theta  \\right )}}\\right| \\boldsymbol{e}_{r} \\\\  &  + \\frac{- r^{2} {\\sin{\\left (\\theta  \\right )}}^{2} \\partial_{r} A^{\\phi }  - 2 r A^{\\phi }  {\\sin{\\left (\\theta  \\right )}}^{2} + \\partial_{\\phi } A^{r} }{r^{2} \\left|{\\sin{\\left (\\theta  \\right )}}\\right|} \\boldsymbol{e}_{\\theta } \\\\  &  + \\frac{r^{2} \\partial_{r} A^{\\theta }  + 2 r A^{\\theta }  - \\partial_{\\theta } A^{r} }{r^{2} \\left|{\\sin{\\left (\\theta  \\right )}}\\right|} \\boldsymbol{e}_{\\phi }  \\end{align*} \r\n",
      "\\begin{equation*} \\nabla^{2}f = \\frac{r^{2} \\partial^{2}_{r} f  + 2 r \\partial_{r} f  + \\partial^{2}_{\\theta } f  + \\frac{\\partial_{\\theta } f }{\\tan{\\left (\\theta  \\right )}} + \\frac{\\partial^{2}_{\\phi } f }{{\\sin{\\left (\\theta  \\right )}}^{2}}}{r^{2}} \\end{equation*}\r\n",
      "\\begin{equation*} \\boldsymbol{\\nabla} \\W B = \\frac{r^{2} \\partial_{r} B^{\\theta \\phi }  + 4 r B^{\\theta \\phi }  - \\frac{2 B^{r\\phi } }{\\tan{\\left (\\theta  \\right )}} - \\partial_{\\theta } B^{r\\phi }  + \\frac{\\partial_{\\phi } B^{r\\theta } }{{\\sin{\\left (\\theta  \\right )}}^{2}}}{r^{2}} \\boldsymbol{e}_{r}\\wedge \\boldsymbol{e}_{\\theta }\\wedge \\boldsymbol{e}_{\\phi } \\end{equation*}\r\n",
      "Derivatives in Paraboloidal Coordinates\r\n",
      "\\begin{equation*} f = f \\end{equation*}\r\n",
      "  \\begin{align*} A =  & A^{u}  \\boldsymbol{e}_{u} \\\\  &  + A^{v}  \\boldsymbol{e}_{v} \\\\  &  + A^{\\phi }  \\boldsymbol{e}_{\\phi }  \\end{align*} \r\n",
      "  \\begin{align*} B =  & B^{uv}  \\boldsymbol{e}_{u}\\wedge \\boldsymbol{e}_{v} \\\\  &  + B^{u\\phi }  \\boldsymbol{e}_{u}\\wedge \\boldsymbol{e}_{\\phi } \\\\  &  + B^{v\\phi }  \\boldsymbol{e}_{v}\\wedge \\boldsymbol{e}_{\\phi }  \\end{align*} \r\n",
      "  \\begin{align*} \\boldsymbol{\\nabla}  f =  & \\frac{\\partial_{u} f }{\\sqrt{u^{2} + v^{2}}} \\boldsymbol{e}_{u} \\\\  &  + \\frac{\\partial_{v} f }{\\sqrt{u^{2} + v^{2}}} \\boldsymbol{e}_{v} \\\\  &  + \\frac{\\partial_{\\phi } f }{u v} \\boldsymbol{e}_{\\phi }  \\end{align*} \r\n",
      "\\begin{equation*} \\boldsymbol{\\nabla} \\cdot A = \\frac{u A^{u} }{\\left(u^{2} + v^{2}\\right)^{\\frac{3}{2}}} + \\frac{v A^{v} }{\\left(u^{2} + v^{2}\\right)^{\\frac{3}{2}}} + \\frac{\\partial_{u} A^{u} }{\\sqrt{u^{2} + v^{2}}} + \\frac{\\partial_{v} A^{v} }{\\sqrt{u^{2} + v^{2}}} + \\frac{A^{v} }{v \\sqrt{u^{2} + v^{2}}} + \\frac{A^{u} }{u \\sqrt{u^{2} + v^{2}}} + \\frac{\\partial_{\\phi } A^{\\phi } }{u v} \\end{equation*}\r\n",
      "\\begin{equation*} \\boldsymbol{\\nabla} \\W B = \\left ( \\frac{u B^{v\\phi } }{\\left(u^{2} + v^{2}\\right)^{\\frac{3}{2}}} - \\frac{v B^{u\\phi } }{\\left(u^{2} + v^{2}\\right)^{\\frac{3}{2}}} - \\frac{\\partial_{v} B^{u\\phi } }{\\sqrt{u^{2} + v^{2}}} + \\frac{\\partial_{u} B^{v\\phi } }{\\sqrt{u^{2} + v^{2}}} - \\frac{B^{u\\phi } }{v \\sqrt{u^{2} + v^{2}}} + \\frac{B^{v\\phi } }{u \\sqrt{u^{2} + v^{2}}} + \\frac{\\partial_{\\phi } B^{uv} }{u v}\\right ) \\boldsymbol{e}_{u}\\wedge \\boldsymbol{e}_{v}\\wedge \\boldsymbol{e}_{\\phi } \\end{equation*}\r\n",
      "\\begin{equation*} f = f \\end{equation*}\r\n",
      "  \\begin{align*} A =  & A^{u}  \\boldsymbol{e}_{u} \\\\  &  + A^{v}  \\boldsymbol{e}_{v} \\\\  &  + A^{z}  \\boldsymbol{e}_{z}  \\end{align*} \r\n",
      "  \\begin{align*} B =  & B^{uv}  \\boldsymbol{e}_{u}\\wedge \\boldsymbol{e}_{v} \\\\  &  + B^{uz}  \\boldsymbol{e}_{u}\\wedge \\boldsymbol{e}_{z} \\\\  &  + B^{vz}  \\boldsymbol{e}_{v}\\wedge \\boldsymbol{e}_{z}  \\end{align*} \r\n",
      "  \\begin{align*} \\boldsymbol{\\nabla}  f =  & \\frac{\\partial_{u} f }{\\sqrt{{\\sin{\\left (v \\right )}}^{2} {\\cosh{\\left (u \\right )}}^{2} + {\\cos{\\left (v \\right )}}^{2} {\\sinh{\\left (u \\right )}}^{2}} \\left|{a}\\right|} \\boldsymbol{e}_{u} \\\\  &  + \\frac{\\partial_{v} f }{\\sqrt{{\\sin{\\left (v \\right )}}^{2} {\\cosh{\\left (u \\right )}}^{2} + {\\cos{\\left (v \\right )}}^{2} {\\sinh{\\left (u \\right )}}^{2}} \\left|{a}\\right|} \\boldsymbol{e}_{v} \\\\  &  + \\partial_{z} f  \\boldsymbol{e}_{z}  \\end{align*} \r\n",
      "\\begin{equation*} \\boldsymbol{\\nabla} \\cdot A = \\frac{\\left(\\left(A^{u}  \\sinh{\\left (2 u \\right )} + A^{v}  \\sin{\\left (2 v \\right )}\\right) \\left({\\sin{\\left (v \\right )}}^{2} {\\cosh{\\left (u \\right )}}^{2} + {\\cos{\\left (v \\right )}}^{2} {\\sinh{\\left (u \\right )}}^{2}\\right) \\left({\\sin{\\left (v \\right )}}^{2} \\cos{\\left (2 v \\right )} {\\cosh{\\left (u \\right )}}^{2} - {\\sin{\\left (v \\right )}}^{2} {\\cosh{\\left (u \\right )}}^{2} \\cosh{\\left (2 u \\right )} + {\\cos{\\left (v \\right )}}^{2} \\cos{\\left (2 v \\right )} {\\sinh{\\left (u \\right )}}^{2} - {\\cos{\\left (v \\right )}}^{2} {\\sinh{\\left (u \\right )}}^{2} \\cosh{\\left (2 u \\right )}\\right) + \\left({\\sin{\\left (v \\right )}}^{2} {\\cosh{\\left (u \\right )}}^{2} + {\\cos{\\left (v \\right )}}^{2} {\\sinh{\\left (u \\right )}}^{2}\\right)^{2} \\left(2 A^{u}  {\\sin{\\left (v \\right )}}^{2} \\sinh{\\left (2 u \\right )} {\\cosh{\\left (u \\right )}}^{2} + 2 A^{u}  {\\cos{\\left (v \\right )}}^{2} {\\sinh{\\left (u \\right )}}^{2} \\sinh{\\left (2 u \\right )} + A^{u}  \\cos{\\left (2 v \\right )} \\sinh{\\left (2 u \\right )} - A^{u}  \\sinh{\\left (2 u \\right )} \\cosh{\\left (2 u \\right )} + 4 A^{v}  {\\sin{\\left (v \\right )}}^{3} \\cos{\\left (v \\right )} {\\cosh{\\left (u \\right )}}^{2} + 4 A^{v}  \\sin{\\left (v \\right )} {\\cos{\\left (v \\right )}}^{3} {\\sinh{\\left (u \\right )}}^{2} - A^{v}  \\sin{\\left (2 v \\right )} \\cosh{\\left (2 u \\right )} + \\frac{A^{v}  \\sin{\\left (4 v \\right )}}{2}\\right) + \\left(\\cos{\\left (2 v \\right )} - \\cosh{\\left (2 u \\right )}\\right) \\left(2 \\partial_{u} A^{u}  + 2 \\partial_{v} A^{v} \\right) \\left(- {\\sin{\\left (v \\right )}}^{2} {\\sinh{\\left (u \\right )}}^{2} + {\\sin{\\left (v \\right )}}^{2} {\\cosh{\\left (u \\right )}}^{2} + {\\sinh{\\left (u \\right )}}^{2}\\right)^{3} + 2 \\left(\\cos{\\left (2 v \\right )} - \\cosh{\\left (2 u \\right )}\\right) \\left(- {\\sin{\\left (v \\right )}}^{2} {\\sinh{\\left (u \\right )}}^{2} + {\\sin{\\left (v \\right )}}^{2} {\\cosh{\\left (u \\right )}}^{2} + {\\sinh{\\left (u \\right )}}^{2}\\right)^{\\frac{7}{2}} \\left|{a}\\right| \\partial_{z} A^{z} \\right) \\left|{a}\\right|}{2 a^{2} \\left({\\sin{\\left (v \\right )}}^{2} {\\cosh{\\left (u \\right )}}^{2} + {\\cos{\\left (v \\right )}}^{2} {\\sinh{\\left (u \\right )}}^{2}\\right)^{\\frac{5}{2}} \\left({\\sin{\\left (v \\right )}}^{2} \\cos{\\left (2 v \\right )} {\\cosh{\\left (u \\right )}}^{2} - {\\sin{\\left (v \\right )}}^{2} {\\cosh{\\left (u \\right )}}^{2} \\cosh{\\left (2 u \\right )} + {\\cos{\\left (v \\right )}}^{2} \\cos{\\left (2 v \\right )} {\\sinh{\\left (u \\right )}}^{2} - {\\cos{\\left (v \\right )}}^{2} {\\sinh{\\left (u \\right )}}^{2} \\cosh{\\left (2 u \\right )}\\right)} \\end{equation*}\r\n",
      "  \\begin{align*} -I (\\boldsymbol{\\nabla} \\W A) =  & \\left ( - \\partial_{z} A^{v}  + \\frac{\\partial_{v} A^{z} }{\\sqrt{{\\sin{\\left (v \\right )}}^{2} + {\\sinh{\\left (u \\right )}}^{2}} \\left|{a}\\right|}\\right ) \\boldsymbol{e}_{u} \\\\  &  + \\left ( \\partial_{z} A^{u}  - \\frac{\\partial_{u} A^{z} }{\\sqrt{{\\sin{\\left (v \\right )}}^{2} + {\\sinh{\\left (u \\right )}}^{2}} \\left|{a}\\right|}\\right ) \\boldsymbol{e}_{v} \\\\  &  - \\frac{\\sqrt{2} \\left(\\left(\\cosh{\\left (2 u \\right )} - 1\\right)^{2} \\partial_{v} A^{u}  - \\left(\\cosh{\\left (2 u \\right )} - 1\\right)^{2} \\partial_{u} A^{v}  + A^{u}  \\sin{\\left (2 v \\right )} \\cosh{\\left (2 u \\right )} - \\frac{A^{u}  \\sin{\\left (4 v \\right )}}{2} + A^{v}  \\cos{\\left (2 v \\right )} \\sinh{\\left (2 u \\right )} - \\frac{A^{v}  \\sinh{\\left (4 u \\right )}}{2} + {\\cos{\\left (2 v \\right )}}^{2} \\partial_{v} A^{u}  - {\\cos{\\left (2 v \\right )}}^{2} \\partial_{u} A^{v}  - 2 \\cos{\\left (2 v \\right )} \\cosh{\\left (2 u \\right )} \\partial_{v} A^{u}  + 2 \\cos{\\left (2 v \\right )} \\cosh{\\left (2 u \\right )} \\partial_{u} A^{v}  + 2 \\cosh{\\left (2 u \\right )} \\partial_{v} A^{u}  - 2 \\cosh{\\left (2 u \\right )} \\partial_{u} A^{v}  - \\partial_{v} A^{u}  + \\partial_{u} A^{v} \\right) \\left|{a}\\right|}{a^{2} \\left(- \\cos{\\left (2 v \\right )} + \\cosh{\\left (2 u \\right )}\\right)^{\\frac{5}{2}}} \\boldsymbol{e}_{z}  \\end{align*} \r\n",
      "\\begin{equation*} \\boldsymbol{\\nabla} \\W B = - \\frac{\\left(\\left(B^{uz}  \\sin{\\left (2 v \\right )} - B^{vz}  \\sinh{\\left (2 u \\right )}\\right) \\left({\\sin{\\left (v \\right )}}^{2} {\\cosh{\\left (u \\right )}}^{2} + {\\cos{\\left (v \\right )}}^{2} {\\sinh{\\left (u \\right )}}^{2}\\right) \\left({\\sin{\\left (v \\right )}}^{2} \\cos{\\left (2 v \\right )} {\\cosh{\\left (u \\right )}}^{2} - {\\sin{\\left (v \\right )}}^{2} {\\cosh{\\left (u \\right )}}^{2} \\cosh{\\left (2 u \\right )} + {\\cos{\\left (v \\right )}}^{2} \\cos{\\left (2 v \\right )} {\\sinh{\\left (u \\right )}}^{2} - {\\cos{\\left (v \\right )}}^{2} {\\sinh{\\left (u \\right )}}^{2} \\cosh{\\left (2 u \\right )}\\right) + \\left({\\sin{\\left (v \\right )}}^{2} {\\cosh{\\left (u \\right )}}^{2} + {\\cos{\\left (v \\right )}}^{2} {\\sinh{\\left (u \\right )}}^{2}\\right)^{2} \\left(4 B^{uz}  {\\sin{\\left (v \\right )}}^{3} \\cos{\\left (v \\right )} {\\cosh{\\left (u \\right )}}^{2} + 4 B^{uz}  \\sin{\\left (v \\right )} {\\cos{\\left (v \\right )}}^{3} {\\sinh{\\left (u \\right )}}^{2} - B^{uz}  \\sin{\\left (2 v \\right )} \\cosh{\\left (2 u \\right )} + \\frac{B^{uz}  \\sin{\\left (4 v \\right )}}{2} - 2 B^{vz}  {\\sin{\\left (v \\right )}}^{2} \\sinh{\\left (2 u \\right )} {\\cosh{\\left (u \\right )}}^{2} - 2 B^{vz}  {\\cos{\\left (v \\right )}}^{2} {\\sinh{\\left (u \\right )}}^{2} \\sinh{\\left (2 u \\right )} - B^{vz}  \\cos{\\left (2 v \\right )} \\sinh{\\left (2 u \\right )} + B^{vz}  \\sinh{\\left (2 u \\right )} \\cosh{\\left (2 u \\right )}\\right) + \\left(\\cos{\\left (2 v \\right )} - \\cosh{\\left (2 u \\right )}\\right) \\left(2 \\partial_{v} B^{uz}  - 2 \\partial_{u} B^{vz} \\right) \\left(- {\\sin{\\left (v \\right )}}^{2} {\\sinh{\\left (u \\right )}}^{2} + {\\sin{\\left (v \\right )}}^{2} {\\cosh{\\left (u \\right )}}^{2} + {\\sinh{\\left (u \\right )}}^{2}\\right)^{3} - 2 \\left(\\cos{\\left (2 v \\right )} - \\cosh{\\left (2 u \\right )}\\right) \\left(- {\\sin{\\left (v \\right )}}^{2} {\\sinh{\\left (u \\right )}}^{2} + {\\sin{\\left (v \\right )}}^{2} {\\cosh{\\left (u \\right )}}^{2} + {\\sinh{\\left (u \\right )}}^{2}\\right)^{\\frac{7}{2}} \\left|{a}\\right| \\partial_{z} B^{uv} \\right) \\left|{a}\\right|}{2 a^{2} \\left({\\sin{\\left (v \\right )}}^{2} {\\cosh{\\left (u \\right )}}^{2} + {\\cos{\\left (v \\right )}}^{2} {\\sinh{\\left (u \\right )}}^{2}\\right)^{\\frac{5}{2}} \\left({\\sin{\\left (v \\right )}}^{2} \\cos{\\left (2 v \\right )} {\\cosh{\\left (u \\right )}}^{2} - {\\sin{\\left (v \\right )}}^{2} {\\cosh{\\left (u \\right )}}^{2} \\cosh{\\left (2 u \\right )} + {\\cos{\\left (v \\right )}}^{2} \\cos{\\left (2 v \\right )} {\\sinh{\\left (u \\right )}}^{2} - {\\cos{\\left (v \\right )}}^{2} {\\sinh{\\left (u \\right )}}^{2} \\cosh{\\left (2 u \\right )}\\right)} \\boldsymbol{e}_{u}\\wedge \\boldsymbol{e}_{v}\\wedge \\boldsymbol{e}_{z} \\end{equation*}\r\n",
      "\\begin{equation*} f = f \\end{equation*}\r\n",
      "  \\begin{align*} A =  & A^{\\xi }  \\boldsymbol{e}_{\\xi } \\\\  &  + A^{\\eta }  \\boldsymbol{e}_{\\eta } \\\\  &  + A^{\\phi }  \\boldsymbol{e}_{\\phi }  \\end{align*} \r\n",
      "  \\begin{align*} B =  & B^{\\xi \\eta }  \\boldsymbol{e}_{\\xi }\\wedge \\boldsymbol{e}_{\\eta } \\\\  &  + B^{\\xi \\phi }  \\boldsymbol{e}_{\\xi }\\wedge \\boldsymbol{e}_{\\phi } \\\\  &  + B^{\\eta \\phi }  \\boldsymbol{e}_{\\eta }\\wedge \\boldsymbol{e}_{\\phi }  \\end{align*} \r\n",
      "  \\begin{align*} \\boldsymbol{\\nabla}  f =  & \\frac{\\partial_{\\xi } f }{\\sqrt{{\\sin{\\left (\\eta  \\right )}}^{2} + {\\sinh{\\left (\\xi  \\right )}}^{2}} \\left|{a}\\right|} \\boldsymbol{e}_{\\xi } \\\\  &  + \\frac{\\partial_{\\eta } f }{\\sqrt{{\\sin{\\left (\\eta  \\right )}}^{2} + {\\sinh{\\left (\\xi  \\right )}}^{2}} \\left|{a}\\right|} \\boldsymbol{e}_{\\eta } \\\\  &  + \\frac{\\partial_{\\phi } f }{a \\sin{\\left (\\eta  \\right )} \\sinh{\\left (\\xi  \\right )}} \\boldsymbol{e}_{\\phi }  \\end{align*} \r\n",
      "\\begin{equation*} \\boldsymbol{\\nabla} \\cdot A = \\frac{a \\left({\\sin{\\left (\\eta  \\right )}}^{2} + {\\sinh{\\left (\\xi  \\right )}}^{2}\\right)^{3} \\partial_{\\phi } A^{\\phi }  + \\frac{\\left(A^{\\eta }  \\sin{\\left (2 \\eta  \\right )} + A^{\\xi }  \\sinh{\\left (2 \\xi  \\right )}\\right) \\left({\\sin{\\left (\\eta  \\right )}}^{2} + {\\sinh{\\left (\\xi  \\right )}}^{2}\\right)^{\\frac{3}{2}} \\sin{\\left (\\eta  \\right )} \\sinh{\\left (\\xi  \\right )} \\left|{a}\\right|}{2} + \\left({\\sin{\\left (\\eta  \\right )}}^{2} + {\\sinh{\\left (\\xi  \\right )}}^{2}\\right)^{\\frac{5}{2}} \\left(\\partial_{\\eta } A^{\\eta }  + \\partial_{\\xi } A^{\\xi } \\right) \\sin{\\left (\\eta  \\right )} \\sinh{\\left (\\xi  \\right )} \\left|{a}\\right| + \\left({\\sin{\\left (\\eta  \\right )}}^{2} + {\\sinh{\\left (\\xi  \\right )}}^{2}\\right)^{\\frac{5}{2}} A^{\\eta }  \\cos{\\left (\\eta  \\right )} \\sinh{\\left (\\xi  \\right )} \\left|{a}\\right| + \\left({\\sin{\\left (\\eta  \\right )}}^{2} + {\\sinh{\\left (\\xi  \\right )}}^{2}\\right)^{\\frac{5}{2}} A^{\\xi }  \\sin{\\left (\\eta  \\right )} \\cosh{\\left (\\xi  \\right )} \\left|{a}\\right|}{a^{2} \\left({\\sin{\\left (\\eta  \\right )}}^{2} + {\\sinh{\\left (\\xi  \\right )}}^{2}\\right)^{3} \\sin{\\left (\\eta  \\right )} \\sinh{\\left (\\xi  \\right )}} \\end{equation*}\r\n",
      "\\end{document}\r\n"
     ]
    }
   ],
   "source": [
    "!cat curvi_linear_latex.tex"
   ]
  },
  {
   "cell_type": "code",
   "execution_count": null,
   "metadata": {},
   "outputs": [],
   "source": []
  }
 ],
 "metadata": {
  "kernelspec": {
   "display_name": "Python 3",
   "language": "python",
   "name": "python3"
  },
  "language_info": {
   "codemirror_mode": {
    "name": "ipython",
    "version": 3
   },
   "file_extension": ".py",
   "mimetype": "text/x-python",
   "name": "python",
   "nbconvert_exporter": "python",
   "pygments_lexer": "ipython3",
   "version": "3.7.2"
  }
 },
 "nbformat": 4,
 "nbformat_minor": 2
}
