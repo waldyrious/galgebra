{
 "cells": [
  {
   "cell_type": "code",
   "execution_count": 1,
   "metadata": {},
   "outputs": [],
   "source": [
    "from galgebra.printer import  Format, xpdf, Fmt\n",
    "Format()\n",
    "from sympy import symbols, Rational, latex\n",
    "from galgebra.ga import Ga"
   ]
  },
  {
   "cell_type": "code",
   "execution_count": 2,
   "metadata": {},
   "outputs": [],
   "source": [
    "# st4: Spacetime Algebra I\n",
    "st4coords = (t,x,y,z) = symbols('t x y z', real=True) \n",
    "st4 = Ga('e_t e_x e_y e_z', g=[1,-1,-1,-1], coords=st4coords)\n",
    "#(et, ex, ey, ez) = st4.mv()\n",
    "(e_t,e_x,e_y,e_z) = st4.mv()\n",
    "(e__t,e__x,e__y,e__z) = st4.mvr(norm = False) "
   ]
  },
  {
   "cell_type": "code",
   "execution_count": 3,
   "metadata": {},
   "outputs": [],
   "source": [
    "Format(Fmode = True, Dmode = True)"
   ]
  },
  {
   "cell_type": "code",
   "execution_count": 4,
   "metadata": {},
   "outputs": [],
   "source": [
    "(grad,rgrad) = st4.grads()\n",
    "\n",
    "import sys\n",
    "half = Rational(1,2)\n",
    "\n",
    "print(r'\\mbox{Python version = }', sys.version)"
   ]
  },
  {
   "cell_type": "code",
   "execution_count": 5,
   "metadata": {},
   "outputs": [],
   "source": [
    "s = st4.mv('s','scalar',f = True)\n",
    "a = st4.mv('a','vector',f = True)\n",
    "b = st4.mv('b','vector',f = True)\n",
    "B = st4.mv('B','bivector',f = True)\n",
    "C = st4.mv('C',3)\n",
    "I = st4.mv('I','pseudo')\n",
    "S = st4.mv('S','spinor',f = True)\n",
    "M = st4.mv('M','mv',f = True)"
   ]
  },
  {
   "cell_type": "code",
   "execution_count": 6,
   "metadata": {},
   "outputs": [],
   "source": [
    "print(r'\\bm{a} = ', a)\n",
    "\n",
    "print(M.Fmt(2,r'\\bm{M}'))\n",
    "\n",
    "print((a*a).Fmt(1,r'\\bm{a} \\bm{a}'))\n",
    "\n",
    "print(a.inv().Fmt(3,r'\\bm{a}^{-1}'))\n",
    "\n",
    "print((M.grade(1) * M.grade(1)).\\\n",
    " Fmt(1,r'\\langle \\bm{M} \\rangle _1 \\langle \\bm{M} \\rangle _1'))\n",
    "\n",
    "M1inv = M.grade(1).inv()\n",
    "print(M1inv.Fmt(3,r'\\langle \\bm{M} \\rangle _1 ^{-1}'))\n",
    "\n",
    "print(M.grade(3).Fmt(2,r'\\langle \\bm{M} \\rangle _3'))\n",
    "\n",
    "print((M.grade(3) * M.grade(3)).\\\n",
    " Fmt(1,r'\\langle \\bm{M} \\rangle _3 \\langle \\bm{M} \\rangle _3'))\n",
    "\n",
    "M3inv = M.grade(3).inv()\n",
    "print(M3inv.Fmt(3,r'\\langle \\bm{M} \\rangle _3^{-1}'))"
   ]
  },
  {
   "cell_type": "code",
   "execution_count": 7,
   "metadata": {},
   "outputs": [],
   "source": [
    "from IPython.display import display, Math, Latex, Code"
   ]
  },
  {
   "cell_type": "code",
   "execution_count": 8,
   "metadata": {},
   "outputs": [
    {
     "data": {
      "text/html": [
       "<style>.output_html .hll { background-color: #ffffcc }\n",
       ".output_html  { background: #f8f8f8; }\n",
       ".output_html .c { color: #408080; font-style: italic } /* Comment */\n",
       ".output_html .err { border: 1px solid #FF0000 } /* Error */\n",
       ".output_html .k { color: #008000; font-weight: bold } /* Keyword */\n",
       ".output_html .o { color: #666666 } /* Operator */\n",
       ".output_html .ch { color: #408080; font-style: italic } /* Comment.Hashbang */\n",
       ".output_html .cm { color: #408080; font-style: italic } /* Comment.Multiline */\n",
       ".output_html .cp { color: #BC7A00 } /* Comment.Preproc */\n",
       ".output_html .cpf { color: #408080; font-style: italic } /* Comment.PreprocFile */\n",
       ".output_html .c1 { color: #408080; font-style: italic } /* Comment.Single */\n",
       ".output_html .cs { color: #408080; font-style: italic } /* Comment.Special */\n",
       ".output_html .gd { color: #A00000 } /* Generic.Deleted */\n",
       ".output_html .ge { font-style: italic } /* Generic.Emph */\n",
       ".output_html .gr { color: #FF0000 } /* Generic.Error */\n",
       ".output_html .gh { color: #000080; font-weight: bold } /* Generic.Heading */\n",
       ".output_html .gi { color: #00A000 } /* Generic.Inserted */\n",
       ".output_html .go { color: #888888 } /* Generic.Output */\n",
       ".output_html .gp { color: #000080; font-weight: bold } /* Generic.Prompt */\n",
       ".output_html .gs { font-weight: bold } /* Generic.Strong */\n",
       ".output_html .gu { color: #800080; font-weight: bold } /* Generic.Subheading */\n",
       ".output_html .gt { color: #0044DD } /* Generic.Traceback */\n",
       ".output_html .kc { color: #008000; font-weight: bold } /* Keyword.Constant */\n",
       ".output_html .kd { color: #008000; font-weight: bold } /* Keyword.Declaration */\n",
       ".output_html .kn { color: #008000; font-weight: bold } /* Keyword.Namespace */\n",
       ".output_html .kp { color: #008000 } /* Keyword.Pseudo */\n",
       ".output_html .kr { color: #008000; font-weight: bold } /* Keyword.Reserved */\n",
       ".output_html .kt { color: #B00040 } /* Keyword.Type */\n",
       ".output_html .m { color: #666666 } /* Literal.Number */\n",
       ".output_html .s { color: #BA2121 } /* Literal.String */\n",
       ".output_html .na { color: #7D9029 } /* Name.Attribute */\n",
       ".output_html .nb { color: #008000 } /* Name.Builtin */\n",
       ".output_html .nc { color: #0000FF; font-weight: bold } /* Name.Class */\n",
       ".output_html .no { color: #880000 } /* Name.Constant */\n",
       ".output_html .nd { color: #AA22FF } /* Name.Decorator */\n",
       ".output_html .ni { color: #999999; font-weight: bold } /* Name.Entity */\n",
       ".output_html .ne { color: #D2413A; font-weight: bold } /* Name.Exception */\n",
       ".output_html .nf { color: #0000FF } /* Name.Function */\n",
       ".output_html .nl { color: #A0A000 } /* Name.Label */\n",
       ".output_html .nn { color: #0000FF; font-weight: bold } /* Name.Namespace */\n",
       ".output_html .nt { color: #008000; font-weight: bold } /* Name.Tag */\n",
       ".output_html .nv { color: #19177C } /* Name.Variable */\n",
       ".output_html .ow { color: #AA22FF; font-weight: bold } /* Operator.Word */\n",
       ".output_html .w { color: #bbbbbb } /* Text.Whitespace */\n",
       ".output_html .mb { color: #666666 } /* Literal.Number.Bin */\n",
       ".output_html .mf { color: #666666 } /* Literal.Number.Float */\n",
       ".output_html .mh { color: #666666 } /* Literal.Number.Hex */\n",
       ".output_html .mi { color: #666666 } /* Literal.Number.Integer */\n",
       ".output_html .mo { color: #666666 } /* Literal.Number.Oct */\n",
       ".output_html .sa { color: #BA2121 } /* Literal.String.Affix */\n",
       ".output_html .sb { color: #BA2121 } /* Literal.String.Backtick */\n",
       ".output_html .sc { color: #BA2121 } /* Literal.String.Char */\n",
       ".output_html .dl { color: #BA2121 } /* Literal.String.Delimiter */\n",
       ".output_html .sd { color: #BA2121; font-style: italic } /* Literal.String.Doc */\n",
       ".output_html .s2 { color: #BA2121 } /* Literal.String.Double */\n",
       ".output_html .se { color: #BB6622; font-weight: bold } /* Literal.String.Escape */\n",
       ".output_html .sh { color: #BA2121 } /* Literal.String.Heredoc */\n",
       ".output_html .si { color: #BB6688; font-weight: bold } /* Literal.String.Interpol */\n",
       ".output_html .sx { color: #008000 } /* Literal.String.Other */\n",
       ".output_html .sr { color: #BB6688 } /* Literal.String.Regex */\n",
       ".output_html .s1 { color: #BA2121 } /* Literal.String.Single */\n",
       ".output_html .ss { color: #19177C } /* Literal.String.Symbol */\n",
       ".output_html .bp { color: #008000 } /* Name.Builtin.Pseudo */\n",
       ".output_html .fm { color: #0000FF } /* Name.Function.Magic */\n",
       ".output_html .vc { color: #19177C } /* Name.Variable.Class */\n",
       ".output_html .vg { color: #19177C } /* Name.Variable.Global */\n",
       ".output_html .vi { color: #19177C } /* Name.Variable.Instance */\n",
       ".output_html .vm { color: #19177C } /* Name.Variable.Magic */\n",
       ".output_html .il { color: #666666 } /* Literal.Number.Integer.Long */</style><div class=\"highlight\"><pre><span></span><span class=\"k\">\\mbox</span><span class=\"nb\">{</span>Python version = <span class=\"nb\">}</span> 3.6.2 |Anaconda, Inc.| (default, Sep 19 2017, 08:03:39) [MSC v.1900 64 bit (AMD64)]\n",
       "<span class=\"k\">\\bm</span><span class=\"nb\">{</span>a<span class=\"nb\">}</span> =  a<span class=\"nb\">^{</span>t<span class=\"nb\">}</span>  <span class=\"k\">\\boldsymbol</span><span class=\"nb\">{</span>e<span class=\"nb\">}_{</span>t<span class=\"nb\">}</span> + a<span class=\"nb\">^{</span>x<span class=\"nb\">}</span>  <span class=\"k\">\\boldsymbol</span><span class=\"nb\">{</span>e<span class=\"nb\">}_{</span>x<span class=\"nb\">}</span> + a<span class=\"nb\">^{</span>y<span class=\"nb\">}</span>  <span class=\"k\">\\boldsymbol</span><span class=\"nb\">{</span>e<span class=\"nb\">}_{</span>y<span class=\"nb\">}</span> + a<span class=\"nb\">^{</span>z<span class=\"nb\">}</span>  <span class=\"k\">\\boldsymbol</span><span class=\"nb\">{</span>e<span class=\"nb\">}_{</span>z<span class=\"nb\">}</span>\n",
       " <span class=\"k\">\\begin</span><span class=\"nb\">{</span>align*<span class=\"nb\">}</span>  <span class=\"nb\">&amp;</span> M   <span class=\"k\">\\\\</span>  <span class=\"nb\">&amp;</span>  + M<span class=\"nb\">^{</span>t<span class=\"nb\">}</span>  <span class=\"k\">\\boldsymbol</span><span class=\"nb\">{</span>e<span class=\"nb\">}_{</span>t<span class=\"nb\">}</span> + M<span class=\"nb\">^{</span>x<span class=\"nb\">}</span>  <span class=\"k\">\\boldsymbol</span><span class=\"nb\">{</span>e<span class=\"nb\">}_{</span>x<span class=\"nb\">}</span> + M<span class=\"nb\">^{</span>y<span class=\"nb\">}</span>  <span class=\"k\">\\boldsymbol</span><span class=\"nb\">{</span>e<span class=\"nb\">}_{</span>y<span class=\"nb\">}</span> + M<span class=\"nb\">^{</span>z<span class=\"nb\">}</span>  <span class=\"k\">\\boldsymbol</span><span class=\"nb\">{</span>e<span class=\"nb\">}_{</span>z<span class=\"nb\">}</span> <span class=\"k\">\\\\</span>  <span class=\"nb\">&amp;</span>  + M<span class=\"nb\">^{</span>tx<span class=\"nb\">}</span>  <span class=\"k\">\\boldsymbol</span><span class=\"nb\">{</span>e<span class=\"nb\">}_{</span>t<span class=\"nb\">}</span><span class=\"k\">\\wedge</span> <span class=\"k\">\\boldsymbol</span><span class=\"nb\">{</span>e<span class=\"nb\">}_{</span>x<span class=\"nb\">}</span> + M<span class=\"nb\">^{</span>ty<span class=\"nb\">}</span>  <span class=\"k\">\\boldsymbol</span><span class=\"nb\">{</span>e<span class=\"nb\">}_{</span>t<span class=\"nb\">}</span><span class=\"k\">\\wedge</span> <span class=\"k\">\\boldsymbol</span><span class=\"nb\">{</span>e<span class=\"nb\">}_{</span>y<span class=\"nb\">}</span> + M<span class=\"nb\">^{</span>tz<span class=\"nb\">}</span>  <span class=\"k\">\\boldsymbol</span><span class=\"nb\">{</span>e<span class=\"nb\">}_{</span>t<span class=\"nb\">}</span><span class=\"k\">\\wedge</span> <span class=\"k\">\\boldsymbol</span><span class=\"nb\">{</span>e<span class=\"nb\">}_{</span>z<span class=\"nb\">}</span> + M<span class=\"nb\">^{</span>xy<span class=\"nb\">}</span>  <span class=\"k\">\\boldsymbol</span><span class=\"nb\">{</span>e<span class=\"nb\">}_{</span>x<span class=\"nb\">}</span><span class=\"k\">\\wedge</span> <span class=\"k\">\\boldsymbol</span><span class=\"nb\">{</span>e<span class=\"nb\">}_{</span>y<span class=\"nb\">}</span> + M<span class=\"nb\">^{</span>xz<span class=\"nb\">}</span>  <span class=\"k\">\\boldsymbol</span><span class=\"nb\">{</span>e<span class=\"nb\">}_{</span>x<span class=\"nb\">}</span><span class=\"k\">\\wedge</span> <span class=\"k\">\\boldsymbol</span><span class=\"nb\">{</span>e<span class=\"nb\">}_{</span>z<span class=\"nb\">}</span> + M<span class=\"nb\">^{</span>yz<span class=\"nb\">}</span>  <span class=\"k\">\\boldsymbol</span><span class=\"nb\">{</span>e<span class=\"nb\">}_{</span>y<span class=\"nb\">}</span><span class=\"k\">\\wedge</span> <span class=\"k\">\\boldsymbol</span><span class=\"nb\">{</span>e<span class=\"nb\">}_{</span>z<span class=\"nb\">}</span> <span class=\"k\">\\\\</span>  <span class=\"nb\">&amp;</span>  + M<span class=\"nb\">^{</span>txy<span class=\"nb\">}</span>  <span class=\"k\">\\boldsymbol</span><span class=\"nb\">{</span>e<span class=\"nb\">}_{</span>t<span class=\"nb\">}</span><span class=\"k\">\\wedge</span> <span class=\"k\">\\boldsymbol</span><span class=\"nb\">{</span>e<span class=\"nb\">}_{</span>x<span class=\"nb\">}</span><span class=\"k\">\\wedge</span> <span class=\"k\">\\boldsymbol</span><span class=\"nb\">{</span>e<span class=\"nb\">}_{</span>y<span class=\"nb\">}</span> + M<span class=\"nb\">^{</span>txz<span class=\"nb\">}</span>  <span class=\"k\">\\boldsymbol</span><span class=\"nb\">{</span>e<span class=\"nb\">}_{</span>t<span class=\"nb\">}</span><span class=\"k\">\\wedge</span> <span class=\"k\">\\boldsymbol</span><span class=\"nb\">{</span>e<span class=\"nb\">}_{</span>x<span class=\"nb\">}</span><span class=\"k\">\\wedge</span> <span class=\"k\">\\boldsymbol</span><span class=\"nb\">{</span>e<span class=\"nb\">}_{</span>z<span class=\"nb\">}</span> + M<span class=\"nb\">^{</span>tyz<span class=\"nb\">}</span>  <span class=\"k\">\\boldsymbol</span><span class=\"nb\">{</span>e<span class=\"nb\">}_{</span>t<span class=\"nb\">}</span><span class=\"k\">\\wedge</span> <span class=\"k\">\\boldsymbol</span><span class=\"nb\">{</span>e<span class=\"nb\">}_{</span>y<span class=\"nb\">}</span><span class=\"k\">\\wedge</span> <span class=\"k\">\\boldsymbol</span><span class=\"nb\">{</span>e<span class=\"nb\">}_{</span>z<span class=\"nb\">}</span> + M<span class=\"nb\">^{</span>xyz<span class=\"nb\">}</span>  <span class=\"k\">\\boldsymbol</span><span class=\"nb\">{</span>e<span class=\"nb\">}_{</span>x<span class=\"nb\">}</span><span class=\"k\">\\wedge</span> <span class=\"k\">\\boldsymbol</span><span class=\"nb\">{</span>e<span class=\"nb\">}_{</span>y<span class=\"nb\">}</span><span class=\"k\">\\wedge</span> <span class=\"k\">\\boldsymbol</span><span class=\"nb\">{</span>e<span class=\"nb\">}_{</span>z<span class=\"nb\">}</span> <span class=\"k\">\\\\</span>  <span class=\"nb\">&amp;</span>  + M<span class=\"nb\">^{</span>txyz<span class=\"nb\">}</span>  <span class=\"k\">\\boldsymbol</span><span class=\"nb\">{</span>e<span class=\"nb\">}_{</span>t<span class=\"nb\">}</span><span class=\"k\">\\wedge</span> <span class=\"k\">\\boldsymbol</span><span class=\"nb\">{</span>e<span class=\"nb\">}_{</span>x<span class=\"nb\">}</span><span class=\"k\">\\wedge</span> <span class=\"k\">\\boldsymbol</span><span class=\"nb\">{</span>e<span class=\"nb\">}_{</span>y<span class=\"nb\">}</span><span class=\"k\">\\wedge</span> <span class=\"k\">\\boldsymbol</span><span class=\"nb\">{</span>e<span class=\"nb\">}_{</span>z<span class=\"nb\">}</span>  <span class=\"k\">\\end</span><span class=\"nb\">{</span>align*<span class=\"nb\">}</span> \n",
       "\n",
       "a<span class=\"nb\">^{</span>t<span class=\"nb\">}</span> <span class=\"nb\">^</span>2 - a<span class=\"nb\">^{</span>x<span class=\"nb\">}</span> <span class=\"nb\">^</span>2 - a<span class=\"nb\">^{</span>y<span class=\"nb\">}</span> <span class=\"nb\">^</span>2 - a<span class=\"nb\">^{</span>z<span class=\"nb\">}</span> <span class=\"nb\">^</span>2\n",
       " <span class=\"k\">\\begin</span><span class=\"nb\">{</span>align*<span class=\"nb\">}</span>  <span class=\"nb\">&amp;</span> <span class=\"k\">\\frac</span><span class=\"nb\">{</span>a<span class=\"nb\">^{</span>t<span class=\"nb\">}</span> <span class=\"nb\">}{</span>a<span class=\"nb\">^{</span>t<span class=\"nb\">}</span> <span class=\"nb\">^</span>2 - a<span class=\"nb\">^{</span>x<span class=\"nb\">}</span> <span class=\"nb\">^</span>2 - a<span class=\"nb\">^{</span>y<span class=\"nb\">}</span> <span class=\"nb\">^</span>2 - a<span class=\"nb\">^{</span>z<span class=\"nb\">}</span> <span class=\"nb\">^</span>2<span class=\"nb\">}</span> <span class=\"k\">\\boldsymbol</span><span class=\"nb\">{</span>e<span class=\"nb\">}_{</span>t<span class=\"nb\">}</span> <span class=\"k\">\\\\</span>  <span class=\"nb\">&amp;</span>  + <span class=\"k\">\\frac</span><span class=\"nb\">{</span>a<span class=\"nb\">^{</span>x<span class=\"nb\">}</span> <span class=\"nb\">}{</span>a<span class=\"nb\">^{</span>t<span class=\"nb\">}</span> <span class=\"nb\">^</span>2 - a<span class=\"nb\">^{</span>x<span class=\"nb\">}</span> <span class=\"nb\">^</span>2 - a<span class=\"nb\">^{</span>y<span class=\"nb\">}</span> <span class=\"nb\">^</span>2 - a<span class=\"nb\">^{</span>z<span class=\"nb\">}</span> <span class=\"nb\">^</span>2<span class=\"nb\">}</span> <span class=\"k\">\\boldsymbol</span><span class=\"nb\">{</span>e<span class=\"nb\">}_{</span>x<span class=\"nb\">}</span> <span class=\"k\">\\\\</span>  <span class=\"nb\">&amp;</span>  + <span class=\"k\">\\frac</span><span class=\"nb\">{</span>a<span class=\"nb\">^{</span>y<span class=\"nb\">}</span> <span class=\"nb\">}{</span>a<span class=\"nb\">^{</span>t<span class=\"nb\">}</span> <span class=\"nb\">^</span>2 - a<span class=\"nb\">^{</span>x<span class=\"nb\">}</span> <span class=\"nb\">^</span>2 - a<span class=\"nb\">^{</span>y<span class=\"nb\">}</span> <span class=\"nb\">^</span>2 - a<span class=\"nb\">^{</span>z<span class=\"nb\">}</span> <span class=\"nb\">^</span>2<span class=\"nb\">}</span> <span class=\"k\">\\boldsymbol</span><span class=\"nb\">{</span>e<span class=\"nb\">}_{</span>y<span class=\"nb\">}</span> <span class=\"k\">\\\\</span>  <span class=\"nb\">&amp;</span>  + <span class=\"k\">\\frac</span><span class=\"nb\">{</span>a<span class=\"nb\">^{</span>z<span class=\"nb\">}</span> <span class=\"nb\">}{</span>a<span class=\"nb\">^{</span>t<span class=\"nb\">}</span> <span class=\"nb\">^</span>2 - a<span class=\"nb\">^{</span>x<span class=\"nb\">}</span> <span class=\"nb\">^</span>2 - a<span class=\"nb\">^{</span>y<span class=\"nb\">}</span> <span class=\"nb\">^</span>2 - a<span class=\"nb\">^{</span>z<span class=\"nb\">}</span> <span class=\"nb\">^</span>2<span class=\"nb\">}</span> <span class=\"k\">\\boldsymbol</span><span class=\"nb\">{</span>e<span class=\"nb\">}_{</span>z<span class=\"nb\">}</span>  <span class=\"k\">\\end</span><span class=\"nb\">{</span>align*<span class=\"nb\">}</span> \n",
       "\n",
       "M<span class=\"nb\">^{</span>t<span class=\"nb\">}</span> <span class=\"nb\">^</span>2 - M<span class=\"nb\">^{</span>x<span class=\"nb\">}</span> <span class=\"nb\">^</span>2 - M<span class=\"nb\">^{</span>y<span class=\"nb\">}</span> <span class=\"nb\">^</span>2 - M<span class=\"nb\">^{</span>z<span class=\"nb\">}</span> <span class=\"nb\">^</span>2\n",
       " <span class=\"k\">\\begin</span><span class=\"nb\">{</span>align*<span class=\"nb\">}</span>  <span class=\"nb\">&amp;</span> <span class=\"k\">\\frac</span><span class=\"nb\">{</span>M<span class=\"nb\">^{</span>t<span class=\"nb\">}</span> <span class=\"nb\">}{</span>M<span class=\"nb\">^{</span>t<span class=\"nb\">}</span> <span class=\"nb\">^</span>2 - M<span class=\"nb\">^{</span>x<span class=\"nb\">}</span> <span class=\"nb\">^</span>2 - M<span class=\"nb\">^{</span>y<span class=\"nb\">}</span> <span class=\"nb\">^</span>2 - M<span class=\"nb\">^{</span>z<span class=\"nb\">}</span> <span class=\"nb\">^</span>2<span class=\"nb\">}</span> <span class=\"k\">\\boldsymbol</span><span class=\"nb\">{</span>e<span class=\"nb\">}_{</span>t<span class=\"nb\">}</span> <span class=\"k\">\\\\</span>  <span class=\"nb\">&amp;</span>  + <span class=\"k\">\\frac</span><span class=\"nb\">{</span>M<span class=\"nb\">^{</span>x<span class=\"nb\">}</span> <span class=\"nb\">}{</span>M<span class=\"nb\">^{</span>t<span class=\"nb\">}</span> <span class=\"nb\">^</span>2 - M<span class=\"nb\">^{</span>x<span class=\"nb\">}</span> <span class=\"nb\">^</span>2 - M<span class=\"nb\">^{</span>y<span class=\"nb\">}</span> <span class=\"nb\">^</span>2 - M<span class=\"nb\">^{</span>z<span class=\"nb\">}</span> <span class=\"nb\">^</span>2<span class=\"nb\">}</span> <span class=\"k\">\\boldsymbol</span><span class=\"nb\">{</span>e<span class=\"nb\">}_{</span>x<span class=\"nb\">}</span> <span class=\"k\">\\\\</span>  <span class=\"nb\">&amp;</span>  + <span class=\"k\">\\frac</span><span class=\"nb\">{</span>M<span class=\"nb\">^{</span>y<span class=\"nb\">}</span> <span class=\"nb\">}{</span>M<span class=\"nb\">^{</span>t<span class=\"nb\">}</span> <span class=\"nb\">^</span>2 - M<span class=\"nb\">^{</span>x<span class=\"nb\">}</span> <span class=\"nb\">^</span>2 - M<span class=\"nb\">^{</span>y<span class=\"nb\">}</span> <span class=\"nb\">^</span>2 - M<span class=\"nb\">^{</span>z<span class=\"nb\">}</span> <span class=\"nb\">^</span>2<span class=\"nb\">}</span> <span class=\"k\">\\boldsymbol</span><span class=\"nb\">{</span>e<span class=\"nb\">}_{</span>y<span class=\"nb\">}</span> <span class=\"k\">\\\\</span>  <span class=\"nb\">&amp;</span>  + <span class=\"k\">\\frac</span><span class=\"nb\">{</span>M<span class=\"nb\">^{</span>z<span class=\"nb\">}</span> <span class=\"nb\">}{</span>M<span class=\"nb\">^{</span>t<span class=\"nb\">}</span> <span class=\"nb\">^</span>2 - M<span class=\"nb\">^{</span>x<span class=\"nb\">}</span> <span class=\"nb\">^</span>2 - M<span class=\"nb\">^{</span>y<span class=\"nb\">}</span> <span class=\"nb\">^</span>2 - M<span class=\"nb\">^{</span>z<span class=\"nb\">}</span> <span class=\"nb\">^</span>2<span class=\"nb\">}</span> <span class=\"k\">\\boldsymbol</span><span class=\"nb\">{</span>e<span class=\"nb\">}_{</span>z<span class=\"nb\">}</span>  <span class=\"k\">\\end</span><span class=\"nb\">{</span>align*<span class=\"nb\">}</span> \n",
       "\n",
       "M<span class=\"nb\">^{</span>txy<span class=\"nb\">}</span>  <span class=\"k\">\\boldsymbol</span><span class=\"nb\">{</span>e<span class=\"nb\">}_{</span>t<span class=\"nb\">}</span><span class=\"k\">\\wedge</span> <span class=\"k\">\\boldsymbol</span><span class=\"nb\">{</span>e<span class=\"nb\">}_{</span>x<span class=\"nb\">}</span><span class=\"k\">\\wedge</span> <span class=\"k\">\\boldsymbol</span><span class=\"nb\">{</span>e<span class=\"nb\">}_{</span>y<span class=\"nb\">}</span> + M<span class=\"nb\">^{</span>txz<span class=\"nb\">}</span>  <span class=\"k\">\\boldsymbol</span><span class=\"nb\">{</span>e<span class=\"nb\">}_{</span>t<span class=\"nb\">}</span><span class=\"k\">\\wedge</span> <span class=\"k\">\\boldsymbol</span><span class=\"nb\">{</span>e<span class=\"nb\">}_{</span>x<span class=\"nb\">}</span><span class=\"k\">\\wedge</span> <span class=\"k\">\\boldsymbol</span><span class=\"nb\">{</span>e<span class=\"nb\">}_{</span>z<span class=\"nb\">}</span> + M<span class=\"nb\">^{</span>tyz<span class=\"nb\">}</span>  <span class=\"k\">\\boldsymbol</span><span class=\"nb\">{</span>e<span class=\"nb\">}_{</span>t<span class=\"nb\">}</span><span class=\"k\">\\wedge</span> <span class=\"k\">\\boldsymbol</span><span class=\"nb\">{</span>e<span class=\"nb\">}_{</span>y<span class=\"nb\">}</span><span class=\"k\">\\wedge</span> <span class=\"k\">\\boldsymbol</span><span class=\"nb\">{</span>e<span class=\"nb\">}_{</span>z<span class=\"nb\">}</span> + M<span class=\"nb\">^{</span>xyz<span class=\"nb\">}</span>  <span class=\"k\">\\boldsymbol</span><span class=\"nb\">{</span>e<span class=\"nb\">}_{</span>x<span class=\"nb\">}</span><span class=\"k\">\\wedge</span> <span class=\"k\">\\boldsymbol</span><span class=\"nb\">{</span>e<span class=\"nb\">}_{</span>y<span class=\"nb\">}</span><span class=\"k\">\\wedge</span> <span class=\"k\">\\boldsymbol</span><span class=\"nb\">{</span>e<span class=\"nb\">}_{</span>z<span class=\"nb\">}</span>\n",
       "- M<span class=\"nb\">^{</span>txy<span class=\"nb\">}</span> <span class=\"nb\">^</span>2 - M<span class=\"nb\">^{</span>txz<span class=\"nb\">}</span> <span class=\"nb\">^</span>2 - M<span class=\"nb\">^{</span>tyz<span class=\"nb\">}</span> <span class=\"nb\">^</span>2 + M<span class=\"nb\">^{</span>xyz<span class=\"nb\">}</span> <span class=\"nb\">^</span>2\n",
       " <span class=\"k\">\\begin</span><span class=\"nb\">{</span>align*<span class=\"nb\">}</span>  <span class=\"nb\">&amp;</span> - <span class=\"k\">\\frac</span><span class=\"nb\">{</span>M<span class=\"nb\">^{</span>txy<span class=\"nb\">}</span> <span class=\"nb\">}{</span>M<span class=\"nb\">^{</span>txy<span class=\"nb\">}</span> <span class=\"nb\">^</span>2 + M<span class=\"nb\">^{</span>txz<span class=\"nb\">}</span> <span class=\"nb\">^</span>2 + M<span class=\"nb\">^{</span>tyz<span class=\"nb\">}</span> <span class=\"nb\">^</span>2 - M<span class=\"nb\">^{</span>xyz<span class=\"nb\">}</span> <span class=\"nb\">^</span>2<span class=\"nb\">}</span> <span class=\"k\">\\boldsymbol</span><span class=\"nb\">{</span>e<span class=\"nb\">}_{</span>t<span class=\"nb\">}</span><span class=\"k\">\\wedge</span> <span class=\"k\">\\boldsymbol</span><span class=\"nb\">{</span>e<span class=\"nb\">}_{</span>x<span class=\"nb\">}</span><span class=\"k\">\\wedge</span> <span class=\"k\">\\boldsymbol</span><span class=\"nb\">{</span>e<span class=\"nb\">}_{</span>y<span class=\"nb\">}</span> <span class=\"k\">\\\\</span>  <span class=\"nb\">&amp;</span>  - <span class=\"k\">\\frac</span><span class=\"nb\">{</span>M<span class=\"nb\">^{</span>txz<span class=\"nb\">}</span> <span class=\"nb\">}{</span>M<span class=\"nb\">^{</span>txy<span class=\"nb\">}</span> <span class=\"nb\">^</span>2 + M<span class=\"nb\">^{</span>txz<span class=\"nb\">}</span> <span class=\"nb\">^</span>2 + M<span class=\"nb\">^{</span>tyz<span class=\"nb\">}</span> <span class=\"nb\">^</span>2 - M<span class=\"nb\">^{</span>xyz<span class=\"nb\">}</span> <span class=\"nb\">^</span>2<span class=\"nb\">}</span> <span class=\"k\">\\boldsymbol</span><span class=\"nb\">{</span>e<span class=\"nb\">}_{</span>t<span class=\"nb\">}</span><span class=\"k\">\\wedge</span> <span class=\"k\">\\boldsymbol</span><span class=\"nb\">{</span>e<span class=\"nb\">}_{</span>x<span class=\"nb\">}</span><span class=\"k\">\\wedge</span> <span class=\"k\">\\boldsymbol</span><span class=\"nb\">{</span>e<span class=\"nb\">}_{</span>z<span class=\"nb\">}</span> <span class=\"k\">\\\\</span>  <span class=\"nb\">&amp;</span>  - <span class=\"k\">\\frac</span><span class=\"nb\">{</span>M<span class=\"nb\">^{</span>tyz<span class=\"nb\">}</span> <span class=\"nb\">}{</span>M<span class=\"nb\">^{</span>txy<span class=\"nb\">}</span> <span class=\"nb\">^</span>2 + M<span class=\"nb\">^{</span>txz<span class=\"nb\">}</span> <span class=\"nb\">^</span>2 + M<span class=\"nb\">^{</span>tyz<span class=\"nb\">}</span> <span class=\"nb\">^</span>2 - M<span class=\"nb\">^{</span>xyz<span class=\"nb\">}</span> <span class=\"nb\">^</span>2<span class=\"nb\">}</span> <span class=\"k\">\\boldsymbol</span><span class=\"nb\">{</span>e<span class=\"nb\">}_{</span>t<span class=\"nb\">}</span><span class=\"k\">\\wedge</span> <span class=\"k\">\\boldsymbol</span><span class=\"nb\">{</span>e<span class=\"nb\">}_{</span>y<span class=\"nb\">}</span><span class=\"k\">\\wedge</span> <span class=\"k\">\\boldsymbol</span><span class=\"nb\">{</span>e<span class=\"nb\">}_{</span>z<span class=\"nb\">}</span> <span class=\"k\">\\\\</span>  <span class=\"nb\">&amp;</span>  - <span class=\"k\">\\frac</span><span class=\"nb\">{</span>M<span class=\"nb\">^{</span>xyz<span class=\"nb\">}</span> <span class=\"nb\">}{</span>M<span class=\"nb\">^{</span>txy<span class=\"nb\">}</span> <span class=\"nb\">^</span>2 + M<span class=\"nb\">^{</span>txz<span class=\"nb\">}</span> <span class=\"nb\">^</span>2 + M<span class=\"nb\">^{</span>tyz<span class=\"nb\">}</span> <span class=\"nb\">^</span>2 - M<span class=\"nb\">^{</span>xyz<span class=\"nb\">}</span> <span class=\"nb\">^</span>2<span class=\"nb\">}</span> <span class=\"k\">\\boldsymbol</span><span class=\"nb\">{</span>e<span class=\"nb\">}_{</span>x<span class=\"nb\">}</span><span class=\"k\">\\wedge</span> <span class=\"k\">\\boldsymbol</span><span class=\"nb\">{</span>e<span class=\"nb\">}_{</span>y<span class=\"nb\">}</span><span class=\"k\">\\wedge</span> <span class=\"k\">\\boldsymbol</span><span class=\"nb\">{</span>e<span class=\"nb\">}_{</span>z<span class=\"nb\">}</span>  <span class=\"k\">\\end</span><span class=\"nb\">{</span>align*<span class=\"nb\">}</span> \n",
       "</pre></div>\n"
      ],
      "text/latex": [
       "\\begin{Verbatim}[commandchars=\\\\\\{\\}]\n",
       "\\PY{k}{\\PYZbs{}mbox}\\PY{n+nb}{\\PYZob{}}Python version = \\PY{n+nb}{\\PYZcb{}} 3.6.2 |Anaconda, Inc.| (default, Sep 19 2017, 08:03:39) [MSC v.1900 64 bit (AMD64)]\n",
       "\\PY{k}{\\PYZbs{}bm}\\PY{n+nb}{\\PYZob{}}a\\PY{n+nb}{\\PYZcb{}} =  a\\PY{n+nb}{\\PYZca{}}\\PY{n+nb}{\\PYZob{}}t\\PY{n+nb}{\\PYZcb{}}  \\PY{k}{\\PYZbs{}boldsymbol}\\PY{n+nb}{\\PYZob{}}e\\PY{n+nb}{\\PYZcb{}}\\PY{n+nb}{\\PYZus{}}\\PY{n+nb}{\\PYZob{}}t\\PY{n+nb}{\\PYZcb{}} + a\\PY{n+nb}{\\PYZca{}}\\PY{n+nb}{\\PYZob{}}x\\PY{n+nb}{\\PYZcb{}}  \\PY{k}{\\PYZbs{}boldsymbol}\\PY{n+nb}{\\PYZob{}}e\\PY{n+nb}{\\PYZcb{}}\\PY{n+nb}{\\PYZus{}}\\PY{n+nb}{\\PYZob{}}x\\PY{n+nb}{\\PYZcb{}} + a\\PY{n+nb}{\\PYZca{}}\\PY{n+nb}{\\PYZob{}}y\\PY{n+nb}{\\PYZcb{}}  \\PY{k}{\\PYZbs{}boldsymbol}\\PY{n+nb}{\\PYZob{}}e\\PY{n+nb}{\\PYZcb{}}\\PY{n+nb}{\\PYZus{}}\\PY{n+nb}{\\PYZob{}}y\\PY{n+nb}{\\PYZcb{}} + a\\PY{n+nb}{\\PYZca{}}\\PY{n+nb}{\\PYZob{}}z\\PY{n+nb}{\\PYZcb{}}  \\PY{k}{\\PYZbs{}boldsymbol}\\PY{n+nb}{\\PYZob{}}e\\PY{n+nb}{\\PYZcb{}}\\PY{n+nb}{\\PYZus{}}\\PY{n+nb}{\\PYZob{}}z\\PY{n+nb}{\\PYZcb{}}\n",
       " \\PY{k}{\\PYZbs{}begin}\\PY{n+nb}{\\PYZob{}}align*\\PY{n+nb}{\\PYZcb{}}  \\PY{n+nb}{\\PYZam{}} M   \\PY{k}{\\PYZbs{}\\PYZbs{}}  \\PY{n+nb}{\\PYZam{}}  + M\\PY{n+nb}{\\PYZca{}}\\PY{n+nb}{\\PYZob{}}t\\PY{n+nb}{\\PYZcb{}}  \\PY{k}{\\PYZbs{}boldsymbol}\\PY{n+nb}{\\PYZob{}}e\\PY{n+nb}{\\PYZcb{}}\\PY{n+nb}{\\PYZus{}}\\PY{n+nb}{\\PYZob{}}t\\PY{n+nb}{\\PYZcb{}} + M\\PY{n+nb}{\\PYZca{}}\\PY{n+nb}{\\PYZob{}}x\\PY{n+nb}{\\PYZcb{}}  \\PY{k}{\\PYZbs{}boldsymbol}\\PY{n+nb}{\\PYZob{}}e\\PY{n+nb}{\\PYZcb{}}\\PY{n+nb}{\\PYZus{}}\\PY{n+nb}{\\PYZob{}}x\\PY{n+nb}{\\PYZcb{}} + M\\PY{n+nb}{\\PYZca{}}\\PY{n+nb}{\\PYZob{}}y\\PY{n+nb}{\\PYZcb{}}  \\PY{k}{\\PYZbs{}boldsymbol}\\PY{n+nb}{\\PYZob{}}e\\PY{n+nb}{\\PYZcb{}}\\PY{n+nb}{\\PYZus{}}\\PY{n+nb}{\\PYZob{}}y\\PY{n+nb}{\\PYZcb{}} + M\\PY{n+nb}{\\PYZca{}}\\PY{n+nb}{\\PYZob{}}z\\PY{n+nb}{\\PYZcb{}}  \\PY{k}{\\PYZbs{}boldsymbol}\\PY{n+nb}{\\PYZob{}}e\\PY{n+nb}{\\PYZcb{}}\\PY{n+nb}{\\PYZus{}}\\PY{n+nb}{\\PYZob{}}z\\PY{n+nb}{\\PYZcb{}} \\PY{k}{\\PYZbs{}\\PYZbs{}}  \\PY{n+nb}{\\PYZam{}}  + M\\PY{n+nb}{\\PYZca{}}\\PY{n+nb}{\\PYZob{}}tx\\PY{n+nb}{\\PYZcb{}}  \\PY{k}{\\PYZbs{}boldsymbol}\\PY{n+nb}{\\PYZob{}}e\\PY{n+nb}{\\PYZcb{}}\\PY{n+nb}{\\PYZus{}}\\PY{n+nb}{\\PYZob{}}t\\PY{n+nb}{\\PYZcb{}}\\PY{k}{\\PYZbs{}wedge} \\PY{k}{\\PYZbs{}boldsymbol}\\PY{n+nb}{\\PYZob{}}e\\PY{n+nb}{\\PYZcb{}}\\PY{n+nb}{\\PYZus{}}\\PY{n+nb}{\\PYZob{}}x\\PY{n+nb}{\\PYZcb{}} + M\\PY{n+nb}{\\PYZca{}}\\PY{n+nb}{\\PYZob{}}ty\\PY{n+nb}{\\PYZcb{}}  \\PY{k}{\\PYZbs{}boldsymbol}\\PY{n+nb}{\\PYZob{}}e\\PY{n+nb}{\\PYZcb{}}\\PY{n+nb}{\\PYZus{}}\\PY{n+nb}{\\PYZob{}}t\\PY{n+nb}{\\PYZcb{}}\\PY{k}{\\PYZbs{}wedge} \\PY{k}{\\PYZbs{}boldsymbol}\\PY{n+nb}{\\PYZob{}}e\\PY{n+nb}{\\PYZcb{}}\\PY{n+nb}{\\PYZus{}}\\PY{n+nb}{\\PYZob{}}y\\PY{n+nb}{\\PYZcb{}} + M\\PY{n+nb}{\\PYZca{}}\\PY{n+nb}{\\PYZob{}}tz\\PY{n+nb}{\\PYZcb{}}  \\PY{k}{\\PYZbs{}boldsymbol}\\PY{n+nb}{\\PYZob{}}e\\PY{n+nb}{\\PYZcb{}}\\PY{n+nb}{\\PYZus{}}\\PY{n+nb}{\\PYZob{}}t\\PY{n+nb}{\\PYZcb{}}\\PY{k}{\\PYZbs{}wedge} \\PY{k}{\\PYZbs{}boldsymbol}\\PY{n+nb}{\\PYZob{}}e\\PY{n+nb}{\\PYZcb{}}\\PY{n+nb}{\\PYZus{}}\\PY{n+nb}{\\PYZob{}}z\\PY{n+nb}{\\PYZcb{}} + M\\PY{n+nb}{\\PYZca{}}\\PY{n+nb}{\\PYZob{}}xy\\PY{n+nb}{\\PYZcb{}}  \\PY{k}{\\PYZbs{}boldsymbol}\\PY{n+nb}{\\PYZob{}}e\\PY{n+nb}{\\PYZcb{}}\\PY{n+nb}{\\PYZus{}}\\PY{n+nb}{\\PYZob{}}x\\PY{n+nb}{\\PYZcb{}}\\PY{k}{\\PYZbs{}wedge} \\PY{k}{\\PYZbs{}boldsymbol}\\PY{n+nb}{\\PYZob{}}e\\PY{n+nb}{\\PYZcb{}}\\PY{n+nb}{\\PYZus{}}\\PY{n+nb}{\\PYZob{}}y\\PY{n+nb}{\\PYZcb{}} + M\\PY{n+nb}{\\PYZca{}}\\PY{n+nb}{\\PYZob{}}xz\\PY{n+nb}{\\PYZcb{}}  \\PY{k}{\\PYZbs{}boldsymbol}\\PY{n+nb}{\\PYZob{}}e\\PY{n+nb}{\\PYZcb{}}\\PY{n+nb}{\\PYZus{}}\\PY{n+nb}{\\PYZob{}}x\\PY{n+nb}{\\PYZcb{}}\\PY{k}{\\PYZbs{}wedge} \\PY{k}{\\PYZbs{}boldsymbol}\\PY{n+nb}{\\PYZob{}}e\\PY{n+nb}{\\PYZcb{}}\\PY{n+nb}{\\PYZus{}}\\PY{n+nb}{\\PYZob{}}z\\PY{n+nb}{\\PYZcb{}} + M\\PY{n+nb}{\\PYZca{}}\\PY{n+nb}{\\PYZob{}}yz\\PY{n+nb}{\\PYZcb{}}  \\PY{k}{\\PYZbs{}boldsymbol}\\PY{n+nb}{\\PYZob{}}e\\PY{n+nb}{\\PYZcb{}}\\PY{n+nb}{\\PYZus{}}\\PY{n+nb}{\\PYZob{}}y\\PY{n+nb}{\\PYZcb{}}\\PY{k}{\\PYZbs{}wedge} \\PY{k}{\\PYZbs{}boldsymbol}\\PY{n+nb}{\\PYZob{}}e\\PY{n+nb}{\\PYZcb{}}\\PY{n+nb}{\\PYZus{}}\\PY{n+nb}{\\PYZob{}}z\\PY{n+nb}{\\PYZcb{}} \\PY{k}{\\PYZbs{}\\PYZbs{}}  \\PY{n+nb}{\\PYZam{}}  + M\\PY{n+nb}{\\PYZca{}}\\PY{n+nb}{\\PYZob{}}txy\\PY{n+nb}{\\PYZcb{}}  \\PY{k}{\\PYZbs{}boldsymbol}\\PY{n+nb}{\\PYZob{}}e\\PY{n+nb}{\\PYZcb{}}\\PY{n+nb}{\\PYZus{}}\\PY{n+nb}{\\PYZob{}}t\\PY{n+nb}{\\PYZcb{}}\\PY{k}{\\PYZbs{}wedge} \\PY{k}{\\PYZbs{}boldsymbol}\\PY{n+nb}{\\PYZob{}}e\\PY{n+nb}{\\PYZcb{}}\\PY{n+nb}{\\PYZus{}}\\PY{n+nb}{\\PYZob{}}x\\PY{n+nb}{\\PYZcb{}}\\PY{k}{\\PYZbs{}wedge} \\PY{k}{\\PYZbs{}boldsymbol}\\PY{n+nb}{\\PYZob{}}e\\PY{n+nb}{\\PYZcb{}}\\PY{n+nb}{\\PYZus{}}\\PY{n+nb}{\\PYZob{}}y\\PY{n+nb}{\\PYZcb{}} + M\\PY{n+nb}{\\PYZca{}}\\PY{n+nb}{\\PYZob{}}txz\\PY{n+nb}{\\PYZcb{}}  \\PY{k}{\\PYZbs{}boldsymbol}\\PY{n+nb}{\\PYZob{}}e\\PY{n+nb}{\\PYZcb{}}\\PY{n+nb}{\\PYZus{}}\\PY{n+nb}{\\PYZob{}}t\\PY{n+nb}{\\PYZcb{}}\\PY{k}{\\PYZbs{}wedge} \\PY{k}{\\PYZbs{}boldsymbol}\\PY{n+nb}{\\PYZob{}}e\\PY{n+nb}{\\PYZcb{}}\\PY{n+nb}{\\PYZus{}}\\PY{n+nb}{\\PYZob{}}x\\PY{n+nb}{\\PYZcb{}}\\PY{k}{\\PYZbs{}wedge} \\PY{k}{\\PYZbs{}boldsymbol}\\PY{n+nb}{\\PYZob{}}e\\PY{n+nb}{\\PYZcb{}}\\PY{n+nb}{\\PYZus{}}\\PY{n+nb}{\\PYZob{}}z\\PY{n+nb}{\\PYZcb{}} + M\\PY{n+nb}{\\PYZca{}}\\PY{n+nb}{\\PYZob{}}tyz\\PY{n+nb}{\\PYZcb{}}  \\PY{k}{\\PYZbs{}boldsymbol}\\PY{n+nb}{\\PYZob{}}e\\PY{n+nb}{\\PYZcb{}}\\PY{n+nb}{\\PYZus{}}\\PY{n+nb}{\\PYZob{}}t\\PY{n+nb}{\\PYZcb{}}\\PY{k}{\\PYZbs{}wedge} \\PY{k}{\\PYZbs{}boldsymbol}\\PY{n+nb}{\\PYZob{}}e\\PY{n+nb}{\\PYZcb{}}\\PY{n+nb}{\\PYZus{}}\\PY{n+nb}{\\PYZob{}}y\\PY{n+nb}{\\PYZcb{}}\\PY{k}{\\PYZbs{}wedge} \\PY{k}{\\PYZbs{}boldsymbol}\\PY{n+nb}{\\PYZob{}}e\\PY{n+nb}{\\PYZcb{}}\\PY{n+nb}{\\PYZus{}}\\PY{n+nb}{\\PYZob{}}z\\PY{n+nb}{\\PYZcb{}} + M\\PY{n+nb}{\\PYZca{}}\\PY{n+nb}{\\PYZob{}}xyz\\PY{n+nb}{\\PYZcb{}}  \\PY{k}{\\PYZbs{}boldsymbol}\\PY{n+nb}{\\PYZob{}}e\\PY{n+nb}{\\PYZcb{}}\\PY{n+nb}{\\PYZus{}}\\PY{n+nb}{\\PYZob{}}x\\PY{n+nb}{\\PYZcb{}}\\PY{k}{\\PYZbs{}wedge} \\PY{k}{\\PYZbs{}boldsymbol}\\PY{n+nb}{\\PYZob{}}e\\PY{n+nb}{\\PYZcb{}}\\PY{n+nb}{\\PYZus{}}\\PY{n+nb}{\\PYZob{}}y\\PY{n+nb}{\\PYZcb{}}\\PY{k}{\\PYZbs{}wedge} \\PY{k}{\\PYZbs{}boldsymbol}\\PY{n+nb}{\\PYZob{}}e\\PY{n+nb}{\\PYZcb{}}\\PY{n+nb}{\\PYZus{}}\\PY{n+nb}{\\PYZob{}}z\\PY{n+nb}{\\PYZcb{}} \\PY{k}{\\PYZbs{}\\PYZbs{}}  \\PY{n+nb}{\\PYZam{}}  + M\\PY{n+nb}{\\PYZca{}}\\PY{n+nb}{\\PYZob{}}txyz\\PY{n+nb}{\\PYZcb{}}  \\PY{k}{\\PYZbs{}boldsymbol}\\PY{n+nb}{\\PYZob{}}e\\PY{n+nb}{\\PYZcb{}}\\PY{n+nb}{\\PYZus{}}\\PY{n+nb}{\\PYZob{}}t\\PY{n+nb}{\\PYZcb{}}\\PY{k}{\\PYZbs{}wedge} \\PY{k}{\\PYZbs{}boldsymbol}\\PY{n+nb}{\\PYZob{}}e\\PY{n+nb}{\\PYZcb{}}\\PY{n+nb}{\\PYZus{}}\\PY{n+nb}{\\PYZob{}}x\\PY{n+nb}{\\PYZcb{}}\\PY{k}{\\PYZbs{}wedge} \\PY{k}{\\PYZbs{}boldsymbol}\\PY{n+nb}{\\PYZob{}}e\\PY{n+nb}{\\PYZcb{}}\\PY{n+nb}{\\PYZus{}}\\PY{n+nb}{\\PYZob{}}y\\PY{n+nb}{\\PYZcb{}}\\PY{k}{\\PYZbs{}wedge} \\PY{k}{\\PYZbs{}boldsymbol}\\PY{n+nb}{\\PYZob{}}e\\PY{n+nb}{\\PYZcb{}}\\PY{n+nb}{\\PYZus{}}\\PY{n+nb}{\\PYZob{}}z\\PY{n+nb}{\\PYZcb{}}  \\PY{k}{\\PYZbs{}end}\\PY{n+nb}{\\PYZob{}}align*\\PY{n+nb}{\\PYZcb{}} \n",
       "\n",
       "a\\PY{n+nb}{\\PYZca{}}\\PY{n+nb}{\\PYZob{}}t\\PY{n+nb}{\\PYZcb{}} \\PY{n+nb}{\\PYZca{}}2 \\PYZhy{} a\\PY{n+nb}{\\PYZca{}}\\PY{n+nb}{\\PYZob{}}x\\PY{n+nb}{\\PYZcb{}} \\PY{n+nb}{\\PYZca{}}2 \\PYZhy{} a\\PY{n+nb}{\\PYZca{}}\\PY{n+nb}{\\PYZob{}}y\\PY{n+nb}{\\PYZcb{}} \\PY{n+nb}{\\PYZca{}}2 \\PYZhy{} a\\PY{n+nb}{\\PYZca{}}\\PY{n+nb}{\\PYZob{}}z\\PY{n+nb}{\\PYZcb{}} \\PY{n+nb}{\\PYZca{}}2\n",
       " \\PY{k}{\\PYZbs{}begin}\\PY{n+nb}{\\PYZob{}}align*\\PY{n+nb}{\\PYZcb{}}  \\PY{n+nb}{\\PYZam{}} \\PY{k}{\\PYZbs{}frac}\\PY{n+nb}{\\PYZob{}}a\\PY{n+nb}{\\PYZca{}}\\PY{n+nb}{\\PYZob{}}t\\PY{n+nb}{\\PYZcb{}} \\PY{n+nb}{\\PYZcb{}}\\PY{n+nb}{\\PYZob{}}a\\PY{n+nb}{\\PYZca{}}\\PY{n+nb}{\\PYZob{}}t\\PY{n+nb}{\\PYZcb{}} \\PY{n+nb}{\\PYZca{}}2 \\PYZhy{} a\\PY{n+nb}{\\PYZca{}}\\PY{n+nb}{\\PYZob{}}x\\PY{n+nb}{\\PYZcb{}} \\PY{n+nb}{\\PYZca{}}2 \\PYZhy{} a\\PY{n+nb}{\\PYZca{}}\\PY{n+nb}{\\PYZob{}}y\\PY{n+nb}{\\PYZcb{}} \\PY{n+nb}{\\PYZca{}}2 \\PYZhy{} a\\PY{n+nb}{\\PYZca{}}\\PY{n+nb}{\\PYZob{}}z\\PY{n+nb}{\\PYZcb{}} \\PY{n+nb}{\\PYZca{}}2\\PY{n+nb}{\\PYZcb{}} \\PY{k}{\\PYZbs{}boldsymbol}\\PY{n+nb}{\\PYZob{}}e\\PY{n+nb}{\\PYZcb{}}\\PY{n+nb}{\\PYZus{}}\\PY{n+nb}{\\PYZob{}}t\\PY{n+nb}{\\PYZcb{}} \\PY{k}{\\PYZbs{}\\PYZbs{}}  \\PY{n+nb}{\\PYZam{}}  + \\PY{k}{\\PYZbs{}frac}\\PY{n+nb}{\\PYZob{}}a\\PY{n+nb}{\\PYZca{}}\\PY{n+nb}{\\PYZob{}}x\\PY{n+nb}{\\PYZcb{}} \\PY{n+nb}{\\PYZcb{}}\\PY{n+nb}{\\PYZob{}}a\\PY{n+nb}{\\PYZca{}}\\PY{n+nb}{\\PYZob{}}t\\PY{n+nb}{\\PYZcb{}} \\PY{n+nb}{\\PYZca{}}2 \\PYZhy{} a\\PY{n+nb}{\\PYZca{}}\\PY{n+nb}{\\PYZob{}}x\\PY{n+nb}{\\PYZcb{}} \\PY{n+nb}{\\PYZca{}}2 \\PYZhy{} a\\PY{n+nb}{\\PYZca{}}\\PY{n+nb}{\\PYZob{}}y\\PY{n+nb}{\\PYZcb{}} \\PY{n+nb}{\\PYZca{}}2 \\PYZhy{} a\\PY{n+nb}{\\PYZca{}}\\PY{n+nb}{\\PYZob{}}z\\PY{n+nb}{\\PYZcb{}} \\PY{n+nb}{\\PYZca{}}2\\PY{n+nb}{\\PYZcb{}} \\PY{k}{\\PYZbs{}boldsymbol}\\PY{n+nb}{\\PYZob{}}e\\PY{n+nb}{\\PYZcb{}}\\PY{n+nb}{\\PYZus{}}\\PY{n+nb}{\\PYZob{}}x\\PY{n+nb}{\\PYZcb{}} \\PY{k}{\\PYZbs{}\\PYZbs{}}  \\PY{n+nb}{\\PYZam{}}  + \\PY{k}{\\PYZbs{}frac}\\PY{n+nb}{\\PYZob{}}a\\PY{n+nb}{\\PYZca{}}\\PY{n+nb}{\\PYZob{}}y\\PY{n+nb}{\\PYZcb{}} \\PY{n+nb}{\\PYZcb{}}\\PY{n+nb}{\\PYZob{}}a\\PY{n+nb}{\\PYZca{}}\\PY{n+nb}{\\PYZob{}}t\\PY{n+nb}{\\PYZcb{}} \\PY{n+nb}{\\PYZca{}}2 \\PYZhy{} a\\PY{n+nb}{\\PYZca{}}\\PY{n+nb}{\\PYZob{}}x\\PY{n+nb}{\\PYZcb{}} \\PY{n+nb}{\\PYZca{}}2 \\PYZhy{} a\\PY{n+nb}{\\PYZca{}}\\PY{n+nb}{\\PYZob{}}y\\PY{n+nb}{\\PYZcb{}} \\PY{n+nb}{\\PYZca{}}2 \\PYZhy{} a\\PY{n+nb}{\\PYZca{}}\\PY{n+nb}{\\PYZob{}}z\\PY{n+nb}{\\PYZcb{}} \\PY{n+nb}{\\PYZca{}}2\\PY{n+nb}{\\PYZcb{}} \\PY{k}{\\PYZbs{}boldsymbol}\\PY{n+nb}{\\PYZob{}}e\\PY{n+nb}{\\PYZcb{}}\\PY{n+nb}{\\PYZus{}}\\PY{n+nb}{\\PYZob{}}y\\PY{n+nb}{\\PYZcb{}} \\PY{k}{\\PYZbs{}\\PYZbs{}}  \\PY{n+nb}{\\PYZam{}}  + \\PY{k}{\\PYZbs{}frac}\\PY{n+nb}{\\PYZob{}}a\\PY{n+nb}{\\PYZca{}}\\PY{n+nb}{\\PYZob{}}z\\PY{n+nb}{\\PYZcb{}} \\PY{n+nb}{\\PYZcb{}}\\PY{n+nb}{\\PYZob{}}a\\PY{n+nb}{\\PYZca{}}\\PY{n+nb}{\\PYZob{}}t\\PY{n+nb}{\\PYZcb{}} \\PY{n+nb}{\\PYZca{}}2 \\PYZhy{} a\\PY{n+nb}{\\PYZca{}}\\PY{n+nb}{\\PYZob{}}x\\PY{n+nb}{\\PYZcb{}} \\PY{n+nb}{\\PYZca{}}2 \\PYZhy{} a\\PY{n+nb}{\\PYZca{}}\\PY{n+nb}{\\PYZob{}}y\\PY{n+nb}{\\PYZcb{}} \\PY{n+nb}{\\PYZca{}}2 \\PYZhy{} a\\PY{n+nb}{\\PYZca{}}\\PY{n+nb}{\\PYZob{}}z\\PY{n+nb}{\\PYZcb{}} \\PY{n+nb}{\\PYZca{}}2\\PY{n+nb}{\\PYZcb{}} \\PY{k}{\\PYZbs{}boldsymbol}\\PY{n+nb}{\\PYZob{}}e\\PY{n+nb}{\\PYZcb{}}\\PY{n+nb}{\\PYZus{}}\\PY{n+nb}{\\PYZob{}}z\\PY{n+nb}{\\PYZcb{}}  \\PY{k}{\\PYZbs{}end}\\PY{n+nb}{\\PYZob{}}align*\\PY{n+nb}{\\PYZcb{}} \n",
       "\n",
       "M\\PY{n+nb}{\\PYZca{}}\\PY{n+nb}{\\PYZob{}}t\\PY{n+nb}{\\PYZcb{}} \\PY{n+nb}{\\PYZca{}}2 \\PYZhy{} M\\PY{n+nb}{\\PYZca{}}\\PY{n+nb}{\\PYZob{}}x\\PY{n+nb}{\\PYZcb{}} \\PY{n+nb}{\\PYZca{}}2 \\PYZhy{} M\\PY{n+nb}{\\PYZca{}}\\PY{n+nb}{\\PYZob{}}y\\PY{n+nb}{\\PYZcb{}} \\PY{n+nb}{\\PYZca{}}2 \\PYZhy{} M\\PY{n+nb}{\\PYZca{}}\\PY{n+nb}{\\PYZob{}}z\\PY{n+nb}{\\PYZcb{}} \\PY{n+nb}{\\PYZca{}}2\n",
       " \\PY{k}{\\PYZbs{}begin}\\PY{n+nb}{\\PYZob{}}align*\\PY{n+nb}{\\PYZcb{}}  \\PY{n+nb}{\\PYZam{}} \\PY{k}{\\PYZbs{}frac}\\PY{n+nb}{\\PYZob{}}M\\PY{n+nb}{\\PYZca{}}\\PY{n+nb}{\\PYZob{}}t\\PY{n+nb}{\\PYZcb{}} \\PY{n+nb}{\\PYZcb{}}\\PY{n+nb}{\\PYZob{}}M\\PY{n+nb}{\\PYZca{}}\\PY{n+nb}{\\PYZob{}}t\\PY{n+nb}{\\PYZcb{}} \\PY{n+nb}{\\PYZca{}}2 \\PYZhy{} M\\PY{n+nb}{\\PYZca{}}\\PY{n+nb}{\\PYZob{}}x\\PY{n+nb}{\\PYZcb{}} \\PY{n+nb}{\\PYZca{}}2 \\PYZhy{} M\\PY{n+nb}{\\PYZca{}}\\PY{n+nb}{\\PYZob{}}y\\PY{n+nb}{\\PYZcb{}} \\PY{n+nb}{\\PYZca{}}2 \\PYZhy{} M\\PY{n+nb}{\\PYZca{}}\\PY{n+nb}{\\PYZob{}}z\\PY{n+nb}{\\PYZcb{}} \\PY{n+nb}{\\PYZca{}}2\\PY{n+nb}{\\PYZcb{}} \\PY{k}{\\PYZbs{}boldsymbol}\\PY{n+nb}{\\PYZob{}}e\\PY{n+nb}{\\PYZcb{}}\\PY{n+nb}{\\PYZus{}}\\PY{n+nb}{\\PYZob{}}t\\PY{n+nb}{\\PYZcb{}} \\PY{k}{\\PYZbs{}\\PYZbs{}}  \\PY{n+nb}{\\PYZam{}}  + \\PY{k}{\\PYZbs{}frac}\\PY{n+nb}{\\PYZob{}}M\\PY{n+nb}{\\PYZca{}}\\PY{n+nb}{\\PYZob{}}x\\PY{n+nb}{\\PYZcb{}} \\PY{n+nb}{\\PYZcb{}}\\PY{n+nb}{\\PYZob{}}M\\PY{n+nb}{\\PYZca{}}\\PY{n+nb}{\\PYZob{}}t\\PY{n+nb}{\\PYZcb{}} \\PY{n+nb}{\\PYZca{}}2 \\PYZhy{} M\\PY{n+nb}{\\PYZca{}}\\PY{n+nb}{\\PYZob{}}x\\PY{n+nb}{\\PYZcb{}} \\PY{n+nb}{\\PYZca{}}2 \\PYZhy{} M\\PY{n+nb}{\\PYZca{}}\\PY{n+nb}{\\PYZob{}}y\\PY{n+nb}{\\PYZcb{}} \\PY{n+nb}{\\PYZca{}}2 \\PYZhy{} M\\PY{n+nb}{\\PYZca{}}\\PY{n+nb}{\\PYZob{}}z\\PY{n+nb}{\\PYZcb{}} \\PY{n+nb}{\\PYZca{}}2\\PY{n+nb}{\\PYZcb{}} \\PY{k}{\\PYZbs{}boldsymbol}\\PY{n+nb}{\\PYZob{}}e\\PY{n+nb}{\\PYZcb{}}\\PY{n+nb}{\\PYZus{}}\\PY{n+nb}{\\PYZob{}}x\\PY{n+nb}{\\PYZcb{}} \\PY{k}{\\PYZbs{}\\PYZbs{}}  \\PY{n+nb}{\\PYZam{}}  + \\PY{k}{\\PYZbs{}frac}\\PY{n+nb}{\\PYZob{}}M\\PY{n+nb}{\\PYZca{}}\\PY{n+nb}{\\PYZob{}}y\\PY{n+nb}{\\PYZcb{}} \\PY{n+nb}{\\PYZcb{}}\\PY{n+nb}{\\PYZob{}}M\\PY{n+nb}{\\PYZca{}}\\PY{n+nb}{\\PYZob{}}t\\PY{n+nb}{\\PYZcb{}} \\PY{n+nb}{\\PYZca{}}2 \\PYZhy{} M\\PY{n+nb}{\\PYZca{}}\\PY{n+nb}{\\PYZob{}}x\\PY{n+nb}{\\PYZcb{}} \\PY{n+nb}{\\PYZca{}}2 \\PYZhy{} M\\PY{n+nb}{\\PYZca{}}\\PY{n+nb}{\\PYZob{}}y\\PY{n+nb}{\\PYZcb{}} \\PY{n+nb}{\\PYZca{}}2 \\PYZhy{} M\\PY{n+nb}{\\PYZca{}}\\PY{n+nb}{\\PYZob{}}z\\PY{n+nb}{\\PYZcb{}} \\PY{n+nb}{\\PYZca{}}2\\PY{n+nb}{\\PYZcb{}} \\PY{k}{\\PYZbs{}boldsymbol}\\PY{n+nb}{\\PYZob{}}e\\PY{n+nb}{\\PYZcb{}}\\PY{n+nb}{\\PYZus{}}\\PY{n+nb}{\\PYZob{}}y\\PY{n+nb}{\\PYZcb{}} \\PY{k}{\\PYZbs{}\\PYZbs{}}  \\PY{n+nb}{\\PYZam{}}  + \\PY{k}{\\PYZbs{}frac}\\PY{n+nb}{\\PYZob{}}M\\PY{n+nb}{\\PYZca{}}\\PY{n+nb}{\\PYZob{}}z\\PY{n+nb}{\\PYZcb{}} \\PY{n+nb}{\\PYZcb{}}\\PY{n+nb}{\\PYZob{}}M\\PY{n+nb}{\\PYZca{}}\\PY{n+nb}{\\PYZob{}}t\\PY{n+nb}{\\PYZcb{}} \\PY{n+nb}{\\PYZca{}}2 \\PYZhy{} M\\PY{n+nb}{\\PYZca{}}\\PY{n+nb}{\\PYZob{}}x\\PY{n+nb}{\\PYZcb{}} \\PY{n+nb}{\\PYZca{}}2 \\PYZhy{} M\\PY{n+nb}{\\PYZca{}}\\PY{n+nb}{\\PYZob{}}y\\PY{n+nb}{\\PYZcb{}} \\PY{n+nb}{\\PYZca{}}2 \\PYZhy{} M\\PY{n+nb}{\\PYZca{}}\\PY{n+nb}{\\PYZob{}}z\\PY{n+nb}{\\PYZcb{}} \\PY{n+nb}{\\PYZca{}}2\\PY{n+nb}{\\PYZcb{}} \\PY{k}{\\PYZbs{}boldsymbol}\\PY{n+nb}{\\PYZob{}}e\\PY{n+nb}{\\PYZcb{}}\\PY{n+nb}{\\PYZus{}}\\PY{n+nb}{\\PYZob{}}z\\PY{n+nb}{\\PYZcb{}}  \\PY{k}{\\PYZbs{}end}\\PY{n+nb}{\\PYZob{}}align*\\PY{n+nb}{\\PYZcb{}} \n",
       "\n",
       "M\\PY{n+nb}{\\PYZca{}}\\PY{n+nb}{\\PYZob{}}txy\\PY{n+nb}{\\PYZcb{}}  \\PY{k}{\\PYZbs{}boldsymbol}\\PY{n+nb}{\\PYZob{}}e\\PY{n+nb}{\\PYZcb{}}\\PY{n+nb}{\\PYZus{}}\\PY{n+nb}{\\PYZob{}}t\\PY{n+nb}{\\PYZcb{}}\\PY{k}{\\PYZbs{}wedge} \\PY{k}{\\PYZbs{}boldsymbol}\\PY{n+nb}{\\PYZob{}}e\\PY{n+nb}{\\PYZcb{}}\\PY{n+nb}{\\PYZus{}}\\PY{n+nb}{\\PYZob{}}x\\PY{n+nb}{\\PYZcb{}}\\PY{k}{\\PYZbs{}wedge} \\PY{k}{\\PYZbs{}boldsymbol}\\PY{n+nb}{\\PYZob{}}e\\PY{n+nb}{\\PYZcb{}}\\PY{n+nb}{\\PYZus{}}\\PY{n+nb}{\\PYZob{}}y\\PY{n+nb}{\\PYZcb{}} + M\\PY{n+nb}{\\PYZca{}}\\PY{n+nb}{\\PYZob{}}txz\\PY{n+nb}{\\PYZcb{}}  \\PY{k}{\\PYZbs{}boldsymbol}\\PY{n+nb}{\\PYZob{}}e\\PY{n+nb}{\\PYZcb{}}\\PY{n+nb}{\\PYZus{}}\\PY{n+nb}{\\PYZob{}}t\\PY{n+nb}{\\PYZcb{}}\\PY{k}{\\PYZbs{}wedge} \\PY{k}{\\PYZbs{}boldsymbol}\\PY{n+nb}{\\PYZob{}}e\\PY{n+nb}{\\PYZcb{}}\\PY{n+nb}{\\PYZus{}}\\PY{n+nb}{\\PYZob{}}x\\PY{n+nb}{\\PYZcb{}}\\PY{k}{\\PYZbs{}wedge} \\PY{k}{\\PYZbs{}boldsymbol}\\PY{n+nb}{\\PYZob{}}e\\PY{n+nb}{\\PYZcb{}}\\PY{n+nb}{\\PYZus{}}\\PY{n+nb}{\\PYZob{}}z\\PY{n+nb}{\\PYZcb{}} + M\\PY{n+nb}{\\PYZca{}}\\PY{n+nb}{\\PYZob{}}tyz\\PY{n+nb}{\\PYZcb{}}  \\PY{k}{\\PYZbs{}boldsymbol}\\PY{n+nb}{\\PYZob{}}e\\PY{n+nb}{\\PYZcb{}}\\PY{n+nb}{\\PYZus{}}\\PY{n+nb}{\\PYZob{}}t\\PY{n+nb}{\\PYZcb{}}\\PY{k}{\\PYZbs{}wedge} \\PY{k}{\\PYZbs{}boldsymbol}\\PY{n+nb}{\\PYZob{}}e\\PY{n+nb}{\\PYZcb{}}\\PY{n+nb}{\\PYZus{}}\\PY{n+nb}{\\PYZob{}}y\\PY{n+nb}{\\PYZcb{}}\\PY{k}{\\PYZbs{}wedge} \\PY{k}{\\PYZbs{}boldsymbol}\\PY{n+nb}{\\PYZob{}}e\\PY{n+nb}{\\PYZcb{}}\\PY{n+nb}{\\PYZus{}}\\PY{n+nb}{\\PYZob{}}z\\PY{n+nb}{\\PYZcb{}} + M\\PY{n+nb}{\\PYZca{}}\\PY{n+nb}{\\PYZob{}}xyz\\PY{n+nb}{\\PYZcb{}}  \\PY{k}{\\PYZbs{}boldsymbol}\\PY{n+nb}{\\PYZob{}}e\\PY{n+nb}{\\PYZcb{}}\\PY{n+nb}{\\PYZus{}}\\PY{n+nb}{\\PYZob{}}x\\PY{n+nb}{\\PYZcb{}}\\PY{k}{\\PYZbs{}wedge} \\PY{k}{\\PYZbs{}boldsymbol}\\PY{n+nb}{\\PYZob{}}e\\PY{n+nb}{\\PYZcb{}}\\PY{n+nb}{\\PYZus{}}\\PY{n+nb}{\\PYZob{}}y\\PY{n+nb}{\\PYZcb{}}\\PY{k}{\\PYZbs{}wedge} \\PY{k}{\\PYZbs{}boldsymbol}\\PY{n+nb}{\\PYZob{}}e\\PY{n+nb}{\\PYZcb{}}\\PY{n+nb}{\\PYZus{}}\\PY{n+nb}{\\PYZob{}}z\\PY{n+nb}{\\PYZcb{}}\n",
       "\\PYZhy{} M\\PY{n+nb}{\\PYZca{}}\\PY{n+nb}{\\PYZob{}}txy\\PY{n+nb}{\\PYZcb{}} \\PY{n+nb}{\\PYZca{}}2 \\PYZhy{} M\\PY{n+nb}{\\PYZca{}}\\PY{n+nb}{\\PYZob{}}txz\\PY{n+nb}{\\PYZcb{}} \\PY{n+nb}{\\PYZca{}}2 \\PYZhy{} M\\PY{n+nb}{\\PYZca{}}\\PY{n+nb}{\\PYZob{}}tyz\\PY{n+nb}{\\PYZcb{}} \\PY{n+nb}{\\PYZca{}}2 + M\\PY{n+nb}{\\PYZca{}}\\PY{n+nb}{\\PYZob{}}xyz\\PY{n+nb}{\\PYZcb{}} \\PY{n+nb}{\\PYZca{}}2\n",
       " \\PY{k}{\\PYZbs{}begin}\\PY{n+nb}{\\PYZob{}}align*\\PY{n+nb}{\\PYZcb{}}  \\PY{n+nb}{\\PYZam{}} \\PYZhy{} \\PY{k}{\\PYZbs{}frac}\\PY{n+nb}{\\PYZob{}}M\\PY{n+nb}{\\PYZca{}}\\PY{n+nb}{\\PYZob{}}txy\\PY{n+nb}{\\PYZcb{}} \\PY{n+nb}{\\PYZcb{}}\\PY{n+nb}{\\PYZob{}}M\\PY{n+nb}{\\PYZca{}}\\PY{n+nb}{\\PYZob{}}txy\\PY{n+nb}{\\PYZcb{}} \\PY{n+nb}{\\PYZca{}}2 + M\\PY{n+nb}{\\PYZca{}}\\PY{n+nb}{\\PYZob{}}txz\\PY{n+nb}{\\PYZcb{}} \\PY{n+nb}{\\PYZca{}}2 + M\\PY{n+nb}{\\PYZca{}}\\PY{n+nb}{\\PYZob{}}tyz\\PY{n+nb}{\\PYZcb{}} \\PY{n+nb}{\\PYZca{}}2 \\PYZhy{} M\\PY{n+nb}{\\PYZca{}}\\PY{n+nb}{\\PYZob{}}xyz\\PY{n+nb}{\\PYZcb{}} \\PY{n+nb}{\\PYZca{}}2\\PY{n+nb}{\\PYZcb{}} \\PY{k}{\\PYZbs{}boldsymbol}\\PY{n+nb}{\\PYZob{}}e\\PY{n+nb}{\\PYZcb{}}\\PY{n+nb}{\\PYZus{}}\\PY{n+nb}{\\PYZob{}}t\\PY{n+nb}{\\PYZcb{}}\\PY{k}{\\PYZbs{}wedge} \\PY{k}{\\PYZbs{}boldsymbol}\\PY{n+nb}{\\PYZob{}}e\\PY{n+nb}{\\PYZcb{}}\\PY{n+nb}{\\PYZus{}}\\PY{n+nb}{\\PYZob{}}x\\PY{n+nb}{\\PYZcb{}}\\PY{k}{\\PYZbs{}wedge} \\PY{k}{\\PYZbs{}boldsymbol}\\PY{n+nb}{\\PYZob{}}e\\PY{n+nb}{\\PYZcb{}}\\PY{n+nb}{\\PYZus{}}\\PY{n+nb}{\\PYZob{}}y\\PY{n+nb}{\\PYZcb{}} \\PY{k}{\\PYZbs{}\\PYZbs{}}  \\PY{n+nb}{\\PYZam{}}  \\PYZhy{} \\PY{k}{\\PYZbs{}frac}\\PY{n+nb}{\\PYZob{}}M\\PY{n+nb}{\\PYZca{}}\\PY{n+nb}{\\PYZob{}}txz\\PY{n+nb}{\\PYZcb{}} \\PY{n+nb}{\\PYZcb{}}\\PY{n+nb}{\\PYZob{}}M\\PY{n+nb}{\\PYZca{}}\\PY{n+nb}{\\PYZob{}}txy\\PY{n+nb}{\\PYZcb{}} \\PY{n+nb}{\\PYZca{}}2 + M\\PY{n+nb}{\\PYZca{}}\\PY{n+nb}{\\PYZob{}}txz\\PY{n+nb}{\\PYZcb{}} \\PY{n+nb}{\\PYZca{}}2 + M\\PY{n+nb}{\\PYZca{}}\\PY{n+nb}{\\PYZob{}}tyz\\PY{n+nb}{\\PYZcb{}} \\PY{n+nb}{\\PYZca{}}2 \\PYZhy{} M\\PY{n+nb}{\\PYZca{}}\\PY{n+nb}{\\PYZob{}}xyz\\PY{n+nb}{\\PYZcb{}} \\PY{n+nb}{\\PYZca{}}2\\PY{n+nb}{\\PYZcb{}} \\PY{k}{\\PYZbs{}boldsymbol}\\PY{n+nb}{\\PYZob{}}e\\PY{n+nb}{\\PYZcb{}}\\PY{n+nb}{\\PYZus{}}\\PY{n+nb}{\\PYZob{}}t\\PY{n+nb}{\\PYZcb{}}\\PY{k}{\\PYZbs{}wedge} \\PY{k}{\\PYZbs{}boldsymbol}\\PY{n+nb}{\\PYZob{}}e\\PY{n+nb}{\\PYZcb{}}\\PY{n+nb}{\\PYZus{}}\\PY{n+nb}{\\PYZob{}}x\\PY{n+nb}{\\PYZcb{}}\\PY{k}{\\PYZbs{}wedge} \\PY{k}{\\PYZbs{}boldsymbol}\\PY{n+nb}{\\PYZob{}}e\\PY{n+nb}{\\PYZcb{}}\\PY{n+nb}{\\PYZus{}}\\PY{n+nb}{\\PYZob{}}z\\PY{n+nb}{\\PYZcb{}} \\PY{k}{\\PYZbs{}\\PYZbs{}}  \\PY{n+nb}{\\PYZam{}}  \\PYZhy{} \\PY{k}{\\PYZbs{}frac}\\PY{n+nb}{\\PYZob{}}M\\PY{n+nb}{\\PYZca{}}\\PY{n+nb}{\\PYZob{}}tyz\\PY{n+nb}{\\PYZcb{}} \\PY{n+nb}{\\PYZcb{}}\\PY{n+nb}{\\PYZob{}}M\\PY{n+nb}{\\PYZca{}}\\PY{n+nb}{\\PYZob{}}txy\\PY{n+nb}{\\PYZcb{}} \\PY{n+nb}{\\PYZca{}}2 + M\\PY{n+nb}{\\PYZca{}}\\PY{n+nb}{\\PYZob{}}txz\\PY{n+nb}{\\PYZcb{}} \\PY{n+nb}{\\PYZca{}}2 + M\\PY{n+nb}{\\PYZca{}}\\PY{n+nb}{\\PYZob{}}tyz\\PY{n+nb}{\\PYZcb{}} \\PY{n+nb}{\\PYZca{}}2 \\PYZhy{} M\\PY{n+nb}{\\PYZca{}}\\PY{n+nb}{\\PYZob{}}xyz\\PY{n+nb}{\\PYZcb{}} \\PY{n+nb}{\\PYZca{}}2\\PY{n+nb}{\\PYZcb{}} \\PY{k}{\\PYZbs{}boldsymbol}\\PY{n+nb}{\\PYZob{}}e\\PY{n+nb}{\\PYZcb{}}\\PY{n+nb}{\\PYZus{}}\\PY{n+nb}{\\PYZob{}}t\\PY{n+nb}{\\PYZcb{}}\\PY{k}{\\PYZbs{}wedge} \\PY{k}{\\PYZbs{}boldsymbol}\\PY{n+nb}{\\PYZob{}}e\\PY{n+nb}{\\PYZcb{}}\\PY{n+nb}{\\PYZus{}}\\PY{n+nb}{\\PYZob{}}y\\PY{n+nb}{\\PYZcb{}}\\PY{k}{\\PYZbs{}wedge} \\PY{k}{\\PYZbs{}boldsymbol}\\PY{n+nb}{\\PYZob{}}e\\PY{n+nb}{\\PYZcb{}}\\PY{n+nb}{\\PYZus{}}\\PY{n+nb}{\\PYZob{}}z\\PY{n+nb}{\\PYZcb{}} \\PY{k}{\\PYZbs{}\\PYZbs{}}  \\PY{n+nb}{\\PYZam{}}  \\PYZhy{} \\PY{k}{\\PYZbs{}frac}\\PY{n+nb}{\\PYZob{}}M\\PY{n+nb}{\\PYZca{}}\\PY{n+nb}{\\PYZob{}}xyz\\PY{n+nb}{\\PYZcb{}} \\PY{n+nb}{\\PYZcb{}}\\PY{n+nb}{\\PYZob{}}M\\PY{n+nb}{\\PYZca{}}\\PY{n+nb}{\\PYZob{}}txy\\PY{n+nb}{\\PYZcb{}} \\PY{n+nb}{\\PYZca{}}2 + M\\PY{n+nb}{\\PYZca{}}\\PY{n+nb}{\\PYZob{}}txz\\PY{n+nb}{\\PYZcb{}} \\PY{n+nb}{\\PYZca{}}2 + M\\PY{n+nb}{\\PYZca{}}\\PY{n+nb}{\\PYZob{}}tyz\\PY{n+nb}{\\PYZcb{}} \\PY{n+nb}{\\PYZca{}}2 \\PYZhy{} M\\PY{n+nb}{\\PYZca{}}\\PY{n+nb}{\\PYZob{}}xyz\\PY{n+nb}{\\PYZcb{}} \\PY{n+nb}{\\PYZca{}}2\\PY{n+nb}{\\PYZcb{}} \\PY{k}{\\PYZbs{}boldsymbol}\\PY{n+nb}{\\PYZob{}}e\\PY{n+nb}{\\PYZcb{}}\\PY{n+nb}{\\PYZus{}}\\PY{n+nb}{\\PYZob{}}x\\PY{n+nb}{\\PYZcb{}}\\PY{k}{\\PYZbs{}wedge} \\PY{k}{\\PYZbs{}boldsymbol}\\PY{n+nb}{\\PYZob{}}e\\PY{n+nb}{\\PYZcb{}}\\PY{n+nb}{\\PYZus{}}\\PY{n+nb}{\\PYZob{}}y\\PY{n+nb}{\\PYZcb{}}\\PY{k}{\\PYZbs{}wedge} \\PY{k}{\\PYZbs{}boldsymbol}\\PY{n+nb}{\\PYZob{}}e\\PY{n+nb}{\\PYZcb{}}\\PY{n+nb}{\\PYZus{}}\\PY{n+nb}{\\PYZob{}}z\\PY{n+nb}{\\PYZcb{}}  \\PY{k}{\\PYZbs{}end}\\PY{n+nb}{\\PYZob{}}align*\\PY{n+nb}{\\PYZcb{}} \n",
       "\\end{Verbatim}\n"
      ],
      "text/plain": [
       "\\mbox{Python version = } 3.6.2 |Anaconda, Inc.| (default, Sep 19 2017, 08:03:39) [MSC v.1900 64 bit (AMD64)]\n",
       "\\bm{a} =  a^{t}  \\boldsymbol{e}_{t} + a^{x}  \\boldsymbol{e}_{x} + a^{y}  \\boldsymbol{e}_{y} + a^{z}  \\boldsymbol{e}_{z}\n",
       " \\begin{align*}  & M   \\\\  &  + M^{t}  \\boldsymbol{e}_{t} + M^{x}  \\boldsymbol{e}_{x} + M^{y}  \\boldsymbol{e}_{y} + M^{z}  \\boldsymbol{e}_{z} \\\\  &  + M^{tx}  \\boldsymbol{e}_{t}\\wedge \\boldsymbol{e}_{x} + M^{ty}  \\boldsymbol{e}_{t}\\wedge \\boldsymbol{e}_{y} + M^{tz}  \\boldsymbol{e}_{t}\\wedge \\boldsymbol{e}_{z} + M^{xy}  \\boldsymbol{e}_{x}\\wedge \\boldsymbol{e}_{y} + M^{xz}  \\boldsymbol{e}_{x}\\wedge \\boldsymbol{e}_{z} + M^{yz}  \\boldsymbol{e}_{y}\\wedge \\boldsymbol{e}_{z} \\\\  &  + M^{txy}  \\boldsymbol{e}_{t}\\wedge \\boldsymbol{e}_{x}\\wedge \\boldsymbol{e}_{y} + M^{txz}  \\boldsymbol{e}_{t}\\wedge \\boldsymbol{e}_{x}\\wedge \\boldsymbol{e}_{z} + M^{tyz}  \\boldsymbol{e}_{t}\\wedge \\boldsymbol{e}_{y}\\wedge \\boldsymbol{e}_{z} + M^{xyz}  \\boldsymbol{e}_{x}\\wedge \\boldsymbol{e}_{y}\\wedge \\boldsymbol{e}_{z} \\\\  &  + M^{txyz}  \\boldsymbol{e}_{t}\\wedge \\boldsymbol{e}_{x}\\wedge \\boldsymbol{e}_{y}\\wedge \\boldsymbol{e}_{z}  \\end{align*} \n",
       "\n",
       "a^{t} ^2 - a^{x} ^2 - a^{y} ^2 - a^{z} ^2\n",
       " \\begin{align*}  & \\frac{a^{t} }{a^{t} ^2 - a^{x} ^2 - a^{y} ^2 - a^{z} ^2} \\boldsymbol{e}_{t} \\\\  &  + \\frac{a^{x} }{a^{t} ^2 - a^{x} ^2 - a^{y} ^2 - a^{z} ^2} \\boldsymbol{e}_{x} \\\\  &  + \\frac{a^{y} }{a^{t} ^2 - a^{x} ^2 - a^{y} ^2 - a^{z} ^2} \\boldsymbol{e}_{y} \\\\  &  + \\frac{a^{z} }{a^{t} ^2 - a^{x} ^2 - a^{y} ^2 - a^{z} ^2} \\boldsymbol{e}_{z}  \\end{align*} \n",
       "\n",
       "M^{t} ^2 - M^{x} ^2 - M^{y} ^2 - M^{z} ^2\n",
       " \\begin{align*}  & \\frac{M^{t} }{M^{t} ^2 - M^{x} ^2 - M^{y} ^2 - M^{z} ^2} \\boldsymbol{e}_{t} \\\\  &  + \\frac{M^{x} }{M^{t} ^2 - M^{x} ^2 - M^{y} ^2 - M^{z} ^2} \\boldsymbol{e}_{x} \\\\  &  + \\frac{M^{y} }{M^{t} ^2 - M^{x} ^2 - M^{y} ^2 - M^{z} ^2} \\boldsymbol{e}_{y} \\\\  &  + \\frac{M^{z} }{M^{t} ^2 - M^{x} ^2 - M^{y} ^2 - M^{z} ^2} \\boldsymbol{e}_{z}  \\end{align*} \n",
       "\n",
       "M^{txy}  \\boldsymbol{e}_{t}\\wedge \\boldsymbol{e}_{x}\\wedge \\boldsymbol{e}_{y} + M^{txz}  \\boldsymbol{e}_{t}\\wedge \\boldsymbol{e}_{x}\\wedge \\boldsymbol{e}_{z} + M^{tyz}  \\boldsymbol{e}_{t}\\wedge \\boldsymbol{e}_{y}\\wedge \\boldsymbol{e}_{z} + M^{xyz}  \\boldsymbol{e}_{x}\\wedge \\boldsymbol{e}_{y}\\wedge \\boldsymbol{e}_{z}\n",
       "- M^{txy} ^2 - M^{txz} ^2 - M^{tyz} ^2 + M^{xyz} ^2\n",
       " \\begin{align*}  & - \\frac{M^{txy} }{M^{txy} ^2 + M^{txz} ^2 + M^{tyz} ^2 - M^{xyz} ^2} \\boldsymbol{e}_{t}\\wedge \\boldsymbol{e}_{x}\\wedge \\boldsymbol{e}_{y} \\\\  &  - \\frac{M^{txz} }{M^{txy} ^2 + M^{txz} ^2 + M^{tyz} ^2 - M^{xyz} ^2} \\boldsymbol{e}_{t}\\wedge \\boldsymbol{e}_{x}\\wedge \\boldsymbol{e}_{z} \\\\  &  - \\frac{M^{tyz} }{M^{txy} ^2 + M^{txz} ^2 + M^{tyz} ^2 - M^{xyz} ^2} \\boldsymbol{e}_{t}\\wedge \\boldsymbol{e}_{y}\\wedge \\boldsymbol{e}_{z} \\\\  &  - \\frac{M^{xyz} }{M^{txy} ^2 + M^{txz} ^2 + M^{tyz} ^2 - M^{xyz} ^2} \\boldsymbol{e}_{x}\\wedge \\boldsymbol{e}_{y}\\wedge \\boldsymbol{e}_{z}  \\end{align*} \n"
      ]
     },
     "metadata": {},
     "output_type": "display_data"
    }
   ],
   "source": [
    "display(Code(sys.stdout.getvalue(), language='latex'))"
   ]
  },
  {
   "cell_type": "code",
   "execution_count": 9,
   "metadata": {},
   "outputs": [
    {
     "data": {
      "text/latex": [
       "\\mbox{Python version = } 3.6.2 |Anaconda, Inc.| (default, Sep 19 2017, 08:03:39) [MSC v.1900 64 bit (AMD64)]\n",
       "\\bm{a} =  a^{t}  \\boldsymbol{e}_{t} + a^{x}  \\boldsymbol{e}_{x} + a^{y}  \\boldsymbol{e}_{y} + a^{z}  \\boldsymbol{e}_{z}\n",
       " \\begin{align*}  & M   \\\\  &  + M^{t}  \\boldsymbol{e}_{t} + M^{x}  \\boldsymbol{e}_{x} + M^{y}  \\boldsymbol{e}_{y} + M^{z}  \\boldsymbol{e}_{z} \\\\  &  + M^{tx}  \\boldsymbol{e}_{t}\\wedge \\boldsymbol{e}_{x} + M^{ty}  \\boldsymbol{e}_{t}\\wedge \\boldsymbol{e}_{y} + M^{tz}  \\boldsymbol{e}_{t}\\wedge \\boldsymbol{e}_{z} + M^{xy}  \\boldsymbol{e}_{x}\\wedge \\boldsymbol{e}_{y} + M^{xz}  \\boldsymbol{e}_{x}\\wedge \\boldsymbol{e}_{z} + M^{yz}  \\boldsymbol{e}_{y}\\wedge \\boldsymbol{e}_{z} \\\\  &  + M^{txy}  \\boldsymbol{e}_{t}\\wedge \\boldsymbol{e}_{x}\\wedge \\boldsymbol{e}_{y} + M^{txz}  \\boldsymbol{e}_{t}\\wedge \\boldsymbol{e}_{x}\\wedge \\boldsymbol{e}_{z} + M^{tyz}  \\boldsymbol{e}_{t}\\wedge \\boldsymbol{e}_{y}\\wedge \\boldsymbol{e}_{z} + M^{xyz}  \\boldsymbol{e}_{x}\\wedge \\boldsymbol{e}_{y}\\wedge \\boldsymbol{e}_{z} \\\\  &  + M^{txyz}  \\boldsymbol{e}_{t}\\wedge \\boldsymbol{e}_{x}\\wedge \\boldsymbol{e}_{y}\\wedge \\boldsymbol{e}_{z}  \\end{align*} \n",
       "\n",
       "a^{t} ^2 - a^{x} ^2 - a^{y} ^2 - a^{z} ^2\n",
       " \\begin{align*}  & \\frac{a^{t} }{a^{t} ^2 - a^{x} ^2 - a^{y} ^2 - a^{z} ^2} \\boldsymbol{e}_{t} \\\\  &  + \\frac{a^{x} }{a^{t} ^2 - a^{x} ^2 - a^{y} ^2 - a^{z} ^2} \\boldsymbol{e}_{x} \\\\  &  + \\frac{a^{y} }{a^{t} ^2 - a^{x} ^2 - a^{y} ^2 - a^{z} ^2} \\boldsymbol{e}_{y} \\\\  &  + \\frac{a^{z} }{a^{t} ^2 - a^{x} ^2 - a^{y} ^2 - a^{z} ^2} \\boldsymbol{e}_{z}  \\end{align*} \n",
       "\n",
       "M^{t} ^2 - M^{x} ^2 - M^{y} ^2 - M^{z} ^2\n",
       " \\begin{align*}  & \\frac{M^{t} }{M^{t} ^2 - M^{x} ^2 - M^{y} ^2 - M^{z} ^2} \\boldsymbol{e}_{t} \\\\  &  + \\frac{M^{x} }{M^{t} ^2 - M^{x} ^2 - M^{y} ^2 - M^{z} ^2} \\boldsymbol{e}_{x} \\\\  &  + \\frac{M^{y} }{M^{t} ^2 - M^{x} ^2 - M^{y} ^2 - M^{z} ^2} \\boldsymbol{e}_{y} \\\\  &  + \\frac{M^{z} }{M^{t} ^2 - M^{x} ^2 - M^{y} ^2 - M^{z} ^2} \\boldsymbol{e}_{z}  \\end{align*} \n",
       "\n",
       "M^{txy}  \\boldsymbol{e}_{t}\\wedge \\boldsymbol{e}_{x}\\wedge \\boldsymbol{e}_{y} + M^{txz}  \\boldsymbol{e}_{t}\\wedge \\boldsymbol{e}_{x}\\wedge \\boldsymbol{e}_{z} + M^{tyz}  \\boldsymbol{e}_{t}\\wedge \\boldsymbol{e}_{y}\\wedge \\boldsymbol{e}_{z} + M^{xyz}  \\boldsymbol{e}_{x}\\wedge \\boldsymbol{e}_{y}\\wedge \\boldsymbol{e}_{z}\n",
       "- M^{txy} ^2 - M^{txz} ^2 - M^{tyz} ^2 + M^{xyz} ^2\n",
       " \\begin{align*}  & - \\frac{M^{txy} }{M^{txy} ^2 + M^{txz} ^2 + M^{tyz} ^2 - M^{xyz} ^2} \\boldsymbol{e}_{t}\\wedge \\boldsymbol{e}_{x}\\wedge \\boldsymbol{e}_{y} \\\\  &  - \\frac{M^{txz} }{M^{txy} ^2 + M^{txz} ^2 + M^{tyz} ^2 - M^{xyz} ^2} \\boldsymbol{e}_{t}\\wedge \\boldsymbol{e}_{x}\\wedge \\boldsymbol{e}_{z} \\\\  &  - \\frac{M^{tyz} }{M^{txy} ^2 + M^{txz} ^2 + M^{tyz} ^2 - M^{xyz} ^2} \\boldsymbol{e}_{t}\\wedge \\boldsymbol{e}_{y}\\wedge \\boldsymbol{e}_{z} \\\\  &  - \\frac{M^{xyz} }{M^{txy} ^2 + M^{txz} ^2 + M^{tyz} ^2 - M^{xyz} ^2} \\boldsymbol{e}_{x}\\wedge \\boldsymbol{e}_{y}\\wedge \\boldsymbol{e}_{z}  \\end{align*} \n",
       "\n"
      ],
      "text/plain": [
       "<IPython.core.display.Latex object>"
      ]
     },
     "metadata": {},
     "output_type": "display_data"
    }
   ],
   "source": [
    "display(Latex(sys.stdout.getvalue()))"
   ]
  },
  {
   "cell_type": "code",
   "execution_count": 30,
   "metadata": {},
   "outputs": [],
   "source": [
    "import io\n",
    "sys.stdout = io.StringIO()"
   ]
  },
  {
   "cell_type": "code",
   "execution_count": 33,
   "metadata": {},
   "outputs": [],
   "source": [
    "print((a*a).Fmt(1,r'\\bm{a} \\bm{a}'))\n",
    "\n",
    "print(a.inv().Fmt(3,r'\\bm{a}^{-1}'))\n",
    "\n",
    "print((M.grade(1) * M.grade(1)).\\\n",
    " Fmt(1,r'\\langle \\bm{M} \\rangle _1 \\langle \\bm{M} \\rangle _1'))\n",
    "\n",
    "M1inv = M.grade(1).inv()\n",
    "print(M1inv.Fmt(3,r'\\langle \\bm{M} \\rangle _1 ^{-1}'))\n",
    "\n",
    "print(M.grade(3).Fmt(2,r'\\langle \\bm{M} \\rangle _3'))\n",
    "\n",
    "print((M.grade(3) * M.grade(3)).\\\n",
    " Fmt(1,r'\\langle \\bm{M} \\rangle _3 \\langle \\bm{M} \\rangle _3'))\n",
    "\n",
    "M3inv = M.grade(3).inv()\n",
    "print(M3inv.Fmt(3,r'\\langle \\bm{M} \\rangle _3^{-1}'))"
   ]
  },
  {
   "cell_type": "code",
   "execution_count": 32,
   "metadata": {},
   "outputs": [
    {
     "data": {
      "text/latex": [
       " \\begin{align*}  & - \\frac{M^{txy} }{M^{txy} ^2 + M^{txz} ^2 + M^{tyz} ^2 - M^{xyz} ^2} \\boldsymbol{e}_{t}\\wedge \\boldsymbol{e}_{x}\\wedge \\boldsymbol{e}_{y} \\\\  &  - \\frac{M^{txz} }{M^{txy} ^2 + M^{txz} ^2 + M^{tyz} ^2 - M^{xyz} ^2} \\boldsymbol{e}_{t}\\wedge \\boldsymbol{e}_{x}\\wedge \\boldsymbol{e}_{z} \\\\  &  - \\frac{M^{tyz} }{M^{txy} ^2 + M^{txz} ^2 + M^{tyz} ^2 - M^{xyz} ^2} \\boldsymbol{e}_{t}\\wedge \\boldsymbol{e}_{y}\\wedge \\boldsymbol{e}_{z} \\\\  &  - \\frac{M^{xyz} }{M^{txy} ^2 + M^{txz} ^2 + M^{tyz} ^2 - M^{xyz} ^2} \\boldsymbol{e}_{x}\\wedge \\boldsymbol{e}_{y}\\wedge \\boldsymbol{e}_{z}  \\end{align*} \n",
       "\n"
      ],
      "text/plain": [
       "<IPython.core.display.Latex object>"
      ]
     },
     "metadata": {},
     "output_type": "display_data"
    }
   ],
   "source": [
    "display(Latex(sys.stdout.getvalue()))"
   ]
  },
  {
   "cell_type": "code",
   "execution_count": 34,
   "metadata": {},
   "outputs": [],
   "source": [
    "from galgebra.printer import GaLatexPrinter"
   ]
  },
  {
   "cell_type": "code",
   "execution_count": 35,
   "metadata": {},
   "outputs": [],
   "source": [
    "GaLatexPrinter.restore()"
   ]
  },
  {
   "cell_type": "code",
   "execution_count": 43,
   "metadata": {},
   "outputs": [
    {
     "name": "stdout",
     "output_type": "stream",
     "text": [
      "a__t**2 - a__x**2 - a__y**2 - a__z**2\n"
     ]
    }
   ],
   "source": [
    "print((a*a).Fmt(1,r'\\bm{a} \\bm{a}'))"
   ]
  },
  {
   "cell_type": "code",
   "execution_count": 44,
   "metadata": {},
   "outputs": [
    {
     "data": {
      "text/latex": [
       "\\begin{equation*} a^{t} ^2 - a^{x} ^2 - a^{y} ^2 - a^{z} ^2 \\end{equation*}"
      ],
      "text/plain": [
       "a__t**2 - a__x**2 - a__y**2 - a__z**2"
      ]
     },
     "execution_count": 44,
     "metadata": {},
     "output_type": "execute_result"
    }
   ],
   "source": [
    "(a*a).Fmt(1)"
   ]
  },
  {
   "cell_type": "code",
   "execution_count": 45,
   "metadata": {},
   "outputs": [
    {
     "name": "stdout",
     "output_type": "stream",
     "text": [
      " a__t*e_t/(a__t**2 - a__x**2 - a__y**2 - a__z**2)\n",
      " + a__x*e_x/(a__t**2 - a__x**2 - a__y**2 - a__z**2)\n",
      " + a__y*e_y/(a__t**2 - a__x**2 - a__y**2 - a__z**2)\n",
      " + a__z*e_z/(a__t**2 - a__x**2 - a__y**2 - a__z**2)\n"
     ]
    }
   ],
   "source": [
    "print(a.inv().Fmt(3,r'\\bm{a}^{-1}'))"
   ]
  },
  {
   "cell_type": "code",
   "execution_count": 39,
   "metadata": {},
   "outputs": [
    {
     "data": {
      "text/latex": [
       " \\begin{align*}   \\bm{a}^{-1} =& \\frac{a^{t} }{a^{t} ^2 - a^{x} ^2 - a^{y} ^2 - a^{z} ^2} \\boldsymbol{e}_{t} \\\\  &  + \\frac{a^{x} }{a^{t} ^2 - a^{x} ^2 - a^{y} ^2 - a^{z} ^2} \\boldsymbol{e}_{x} \\\\  &  + \\frac{a^{y} }{a^{t} ^2 - a^{x} ^2 - a^{y} ^2 - a^{z} ^2} \\boldsymbol{e}_{y} \\\\  &  + \\frac{a^{z} }{a^{t} ^2 - a^{x} ^2 - a^{y} ^2 - a^{z} ^2} \\boldsymbol{e}_{z}  \\end{align*} \n"
      ],
      "text/plain": [
       " a__t*e_t/(a__t**2 - a__x**2 - a__y**2 - a__z**2)\n",
       " + a__x*e_x/(a__t**2 - a__x**2 - a__y**2 - a__z**2)\n",
       " + a__y*e_y/(a__t**2 - a__x**2 - a__y**2 - a__z**2)\n",
       " + a__z*e_z/(a__t**2 - a__x**2 - a__y**2 - a__z**2)"
      ]
     },
     "execution_count": 39,
     "metadata": {},
     "output_type": "execute_result"
    }
   ],
   "source": [
    "a.inv().Fmt(3,r'\\bm{a}^{-1}')"
   ]
  },
  {
   "cell_type": "code",
   "execution_count": null,
   "metadata": {},
   "outputs": [],
   "source": []
  }
 ],
 "metadata": {
  "kernelspec": {
   "display_name": "Python 3",
   "language": "python",
   "name": "python3"
  },
  "language_info": {
   "codemirror_mode": {
    "name": "ipython",
    "version": 3
   },
   "file_extension": ".py",
   "mimetype": "text/x-python",
   "name": "python",
   "nbconvert_exporter": "python",
   "pygments_lexer": "ipython3",
   "version": "3.6.2"
  }
 },
 "nbformat": 4,
 "nbformat_minor": 2
}
