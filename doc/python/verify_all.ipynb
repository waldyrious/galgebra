{
 "cells": [
  {
   "cell_type": "markdown",
   "metadata": {},
   "source": [
    "# BACCAB.py"
   ]
  },
  {
   "cell_type": "code",
   "execution_count": 1,
   "metadata": {},
   "outputs": [],
   "source": [
    "import sympy"
   ]
  },
  {
   "cell_type": "code",
   "execution_count": 2,
   "metadata": {},
   "outputs": [],
   "source": [
    "from __future__ import absolute_import, division\n",
    "from __future__ import print_function\n",
    "from galgebra.printer import Format, xpdf\n",
    "from galgebra.ga import Ga"
   ]
  },
  {
   "cell_type": "code",
   "execution_count": 3,
   "metadata": {},
   "outputs": [],
   "source": [
    "Format()"
   ]
  },
  {
   "cell_type": "code",
   "execution_count": 4,
   "metadata": {},
   "outputs": [],
   "source": [
    "g4d = Ga('a b c d')"
   ]
  },
  {
   "cell_type": "code",
   "execution_count": 5,
   "metadata": {},
   "outputs": [],
   "source": [
    "(a, b, c, d) = g4d.mv()"
   ]
  },
  {
   "cell_type": "code",
   "execution_count": 6,
   "metadata": {},
   "outputs": [
    {
     "data": {
      "text/plain": [
       "' \\\\left [ \\\\begin{array}{cccc} \\\\left ( a\\\\cdot a\\\\right )  & \\\\left ( a\\\\cdot b\\\\right )  & \\\\left ( a\\\\cdot c\\\\right )  & \\\\left ( a\\\\cdot d\\\\right )   \\\\\\\\ \\\\left ( a\\\\cdot b\\\\right )  & \\\\left ( b\\\\cdot b\\\\right )  & \\\\left ( b\\\\cdot c\\\\right )  & \\\\left ( b\\\\cdot d\\\\right )   \\\\\\\\ \\\\left ( a\\\\cdot c\\\\right )  & \\\\left ( b\\\\cdot c\\\\right )  & \\\\left ( c\\\\cdot c\\\\right )  & \\\\left ( c\\\\cdot d\\\\right )   \\\\\\\\ \\\\left ( a\\\\cdot d\\\\right )  & \\\\left ( b\\\\cdot d\\\\right )  & \\\\left ( c\\\\cdot d\\\\right )  & \\\\left ( d\\\\cdot d\\\\right )   \\\\end{array}\\\\right ] '"
      ]
     },
     "metadata": {},
     "output_type": "display_data"
    },
    {
     "data": {
      "text/latex": [
       "$$\\left[\\begin{matrix}(a.a) & (a.b) & (a.c) & (a.d)\\\\(a.b) & (b.b) & (b.c) & (b.d)\\\\(a.c) & (b.c) & (c.c) & (c.d)\\\\(a.d) & (b.d) & (c.d) & (d.d)\\end{matrix}\\right]$$"
      ],
      "text/plain": [
       "None"
      ]
     },
     "execution_count": 6,
     "metadata": {},
     "output_type": "execute_result"
    }
   ],
   "source": [
    "g4d.g"
   ]
  },
  {
   "cell_type": "code",
   "execution_count": 7,
   "metadata": {},
   "outputs": [
    {
     "data": {
      "text/latex": [
       "\\begin{equation*} - \\left ( a\\cdot c\\right )  \\boldsymbol{b} + \\left ( a\\cdot b\\right )  \\boldsymbol{c} \\end{equation*}"
      ],
      "text/plain": [
       "- \\left ( a\\cdot c\\right )  \\boldsymbol{b} + \\left ( a\\cdot b\\right )  \\boldsymbol{c}"
      ]
     },
     "execution_count": 7,
     "metadata": {},
     "output_type": "execute_result"
    }
   ],
   "source": [
    "a | (b * c)"
   ]
  },
  {
   "cell_type": "code",
   "execution_count": 8,
   "metadata": {},
   "outputs": [
    {
     "data": {
      "text/latex": [
       "\\begin{equation*} - \\left ( a\\cdot c\\right )  \\boldsymbol{b} + \\left ( a\\cdot b\\right )  \\boldsymbol{c} \\end{equation*}"
      ],
      "text/plain": [
       "- \\left ( a\\cdot c\\right )  \\boldsymbol{b} + \\left ( a\\cdot b\\right )  \\boldsymbol{c}"
      ]
     },
     "execution_count": 8,
     "metadata": {},
     "output_type": "execute_result"
    }
   ],
   "source": [
    "a | (b ^ c)"
   ]
  },
  {
   "cell_type": "code",
   "execution_count": 9,
   "metadata": {},
   "outputs": [
    {
     "data": {
      "text/latex": [
       "\\begin{equation*} \\left ( a\\cdot d\\right )  \\boldsymbol{b}\\wedge \\boldsymbol{c} - \\left ( a\\cdot c\\right )  \\boldsymbol{b}\\wedge \\boldsymbol{d} + \\left ( a\\cdot b\\right )  \\boldsymbol{c}\\wedge \\boldsymbol{d} \\end{equation*}"
      ],
      "text/plain": [
       "\\left ( a\\cdot d\\right )  \\boldsymbol{b}\\wedge \\boldsymbol{c} - \\left ( a\\cdot c\\right )  \\boldsymbol{b}\\wedge \\boldsymbol{d} + \\left ( a\\cdot b\\right )  \\boldsymbol{c}\\wedge \\boldsymbol{d}"
      ]
     },
     "execution_count": 9,
     "metadata": {},
     "output_type": "execute_result"
    }
   ],
   "source": [
    "a | (b ^ c ^ d)"
   ]
  },
  {
   "cell_type": "code",
   "execution_count": 10,
   "metadata": {},
   "outputs": [
    {
     "data": {
      "text/latex": [
       "\\begin{equation*} 0 \n",
       " \\end{equation*}"
      ],
      "text/plain": [
       " 0 "
      ]
     },
     "execution_count": 10,
     "metadata": {},
     "output_type": "execute_result"
    }
   ],
   "source": [
    "(a | (b ^ c)) + (c | (a ^ b)) + (b | (c ^ a))"
   ]
  },
  {
   "cell_type": "code",
   "execution_count": 11,
   "metadata": {},
   "outputs": [
    {
     "data": {
      "text/latex": [
       "\\begin{equation*} 3 \\boldsymbol{a}\\wedge \\boldsymbol{b}\\wedge \\boldsymbol{c} \\end{equation*}"
      ],
      "text/plain": [
       "3 \\boldsymbol{a}\\wedge \\boldsymbol{b}\\wedge \\boldsymbol{c}"
      ]
     },
     "execution_count": 11,
     "metadata": {},
     "output_type": "execute_result"
    }
   ],
   "source": [
    "a * (b ^ c) - b * (a ^ c) + c * (a ^ b)"
   ]
  },
  {
   "cell_type": "code",
   "execution_count": 12,
   "metadata": {},
   "outputs": [
    {
     "data": {
      "text/latex": [
       "\\begin{equation*} 4 \\boldsymbol{a}\\wedge \\boldsymbol{b}\\wedge \\boldsymbol{c}\\wedge \\boldsymbol{d} \\end{equation*}"
      ],
      "text/plain": [
       "4 \\boldsymbol{a}\\wedge \\boldsymbol{b}\\wedge \\boldsymbol{c}\\wedge \\boldsymbol{d}"
      ]
     },
     "execution_count": 12,
     "metadata": {},
     "output_type": "execute_result"
    }
   ],
   "source": [
    "a * (b ^ c ^ d) - b * (a ^ c ^ d) + c * (a ^ b ^ d) - d * (a ^ b ^ c)"
   ]
  },
  {
   "cell_type": "code",
   "execution_count": 13,
   "metadata": {},
   "outputs": [
    {
     "data": {
      "text/latex": [
       "\\begin{equation*} - \\left ( a\\cdot c\\right )  \\left ( b\\cdot d\\right )  + \\left ( a\\cdot d\\right )  \\left ( b\\cdot c\\right )  \\end{equation*}"
      ],
      "text/plain": [
       "- \\left ( a\\cdot c\\right )  \\left ( b\\cdot d\\right )  + \\left ( a\\cdot d\\right )  \\left ( b\\cdot c\\right ) "
      ]
     },
     "execution_count": 13,
     "metadata": {},
     "output_type": "execute_result"
    }
   ],
   "source": [
    "(a ^ b) | (c ^ d)"
   ]
  },
  {
   "cell_type": "code",
   "execution_count": 14,
   "metadata": {},
   "outputs": [
    {
     "data": {
      "text/latex": [
       "\\begin{equation*} - \\left ( a\\cdot c\\right )  \\left ( b\\cdot d\\right )  + \\left ( a\\cdot d\\right )  \\left ( b\\cdot c\\right )  \\end{equation*}"
      ],
      "text/plain": [
       "- \\left ( a\\cdot c\\right )  \\left ( b\\cdot d\\right )  + \\left ( a\\cdot d\\right )  \\left ( b\\cdot c\\right ) "
      ]
     },
     "execution_count": 14,
     "metadata": {},
     "output_type": "execute_result"
    }
   ],
   "source": [
    "((a ^ b) | c) | d"
   ]
  },
  {
   "cell_type": "code",
   "execution_count": 15,
   "metadata": {},
   "outputs": [
    {
     "data": {
      "text/latex": [
       "\\begin{equation*} - \\left ( b\\cdot d\\right )  \\boldsymbol{a}\\wedge \\boldsymbol{c} + \\left ( b\\cdot c\\right )  \\boldsymbol{a}\\wedge \\boldsymbol{d} + \\left ( a\\cdot d\\right )  \\boldsymbol{b}\\wedge \\boldsymbol{c} - \\left ( a\\cdot c\\right )  \\boldsymbol{b}\\wedge \\boldsymbol{d} \\end{equation*}"
      ],
      "text/plain": [
       "- \\left ( b\\cdot d\\right )  \\boldsymbol{a}\\wedge \\boldsymbol{c} + \\left ( b\\cdot c\\right )  \\boldsymbol{a}\\wedge \\boldsymbol{d} + \\left ( a\\cdot d\\right )  \\boldsymbol{b}\\wedge \\boldsymbol{c} - \\left ( a\\cdot c\\right )  \\boldsymbol{b}\\wedge \\boldsymbol{d}"
      ]
     },
     "execution_count": 15,
     "metadata": {},
     "output_type": "execute_result"
    }
   ],
   "source": [
    "Ga.com(a ^ b, c ^ d)"
   ]
  },
  {
   "cell_type": "markdown",
   "metadata": {},
   "source": [
    "# Dirac.py"
   ]
  },
  {
   "cell_type": "code",
   "execution_count": 16,
   "metadata": {},
   "outputs": [],
   "source": [
    "from __future__ import absolute_import, division\n",
    "from __future__ import print_function\n",
    "import sys\n",
    "from sympy import symbols, sin, cos\n",
    "from galgebra.printer import Format, xpdf, Get_Program, Print_Function\n",
    "from galgebra.ga import Ga"
   ]
  },
  {
   "cell_type": "code",
   "execution_count": 17,
   "metadata": {},
   "outputs": [
    {
     "data": {
      "text/latex": [
       "$$\\left ( t, \\quad x, \\quad y, \\quad z\\right )$$"
      ],
      "text/plain": [
       "(t, x, y, z)"
      ]
     },
     "execution_count": 17,
     "metadata": {},
     "output_type": "execute_result"
    }
   ],
   "source": [
    "Format()\n",
    "coords = symbols('t x y z', real=True)\n",
    "coords"
   ]
  },
  {
   "cell_type": "code",
   "execution_count": 18,
   "metadata": {},
   "outputs": [],
   "source": [
    "(st4d, g0, g1, g2, g3) = Ga.build(\n",
    "    'gamma*t|x|y|z', g=[1, -1, -1, -1], coords=coords)"
   ]
  },
  {
   "cell_type": "code",
   "execution_count": 19,
   "metadata": {},
   "outputs": [
    {
     "data": {
      "text/latex": [
       "\\begin{equation*}  \\boldsymbol{\\gamma }_{t} \\end{equation*}"
      ],
      "text/plain": [
       " \\boldsymbol{\\gamma }_{t}"
      ]
     },
     "execution_count": 19,
     "metadata": {},
     "output_type": "execute_result"
    }
   ],
   "source": [
    "g0"
   ]
  },
  {
   "cell_type": "code",
   "execution_count": 20,
   "metadata": {},
   "outputs": [
    {
     "data": {
      "text/latex": [
       "\\begin{equation*}  \\boldsymbol{\\gamma }_{x} \\end{equation*}"
      ],
      "text/plain": [
       " \\boldsymbol{\\gamma }_{x}"
      ]
     },
     "execution_count": 20,
     "metadata": {},
     "output_type": "execute_result"
    }
   ],
   "source": [
    "g1"
   ]
  },
  {
   "cell_type": "code",
   "execution_count": 21,
   "metadata": {},
   "outputs": [
    {
     "data": {
      "text/latex": [
       "\\begin{equation*}  \\boldsymbol{\\gamma }_{y} \\end{equation*}"
      ],
      "text/plain": [
       " \\boldsymbol{\\gamma }_{y}"
      ]
     },
     "execution_count": 21,
     "metadata": {},
     "output_type": "execute_result"
    }
   ],
   "source": [
    "g2"
   ]
  },
  {
   "cell_type": "code",
   "execution_count": 22,
   "metadata": {},
   "outputs": [
    {
     "data": {
      "text/latex": [
       "\\begin{equation*}  \\boldsymbol{\\gamma }_{z} \\end{equation*}"
      ],
      "text/plain": [
       " \\boldsymbol{\\gamma }_{z}"
      ]
     },
     "execution_count": 22,
     "metadata": {},
     "output_type": "execute_result"
    }
   ],
   "source": [
    "g3"
   ]
  },
  {
   "cell_type": "code",
   "execution_count": 23,
   "metadata": {},
   "outputs": [
    {
     "data": {
      "text/latex": [
       "\\begin{equation*}  \\boldsymbol{\\gamma }_{t}\\wedge \\boldsymbol{\\gamma }_{x}\\wedge \\boldsymbol{\\gamma }_{y}\\wedge \\boldsymbol{\\gamma }_{z} \\end{equation*}"
      ],
      "text/plain": [
       " \\boldsymbol{\\gamma }_{t}\\wedge \\boldsymbol{\\gamma }_{x}\\wedge \\boldsymbol{\\gamma }_{y}\\wedge \\boldsymbol{\\gamma }_{z}"
      ]
     },
     "execution_count": 23,
     "metadata": {},
     "output_type": "execute_result"
    }
   ],
   "source": [
    "I = st4d.i\n",
    "I"
   ]
  },
  {
   "cell_type": "code",
   "execution_count": 24,
   "metadata": {},
   "outputs": [],
   "source": [
    "(m, e) = symbols('m e')"
   ]
  },
  {
   "cell_type": "code",
   "execution_count": 25,
   "metadata": {},
   "outputs": [
    {
     "data": {
      "text/latex": [
       "$$m$$"
      ],
      "text/plain": [
       "m"
      ]
     },
     "execution_count": 25,
     "metadata": {},
     "output_type": "execute_result"
    }
   ],
   "source": [
    "m"
   ]
  },
  {
   "cell_type": "code",
   "execution_count": 26,
   "metadata": {},
   "outputs": [
    {
     "data": {
      "text/latex": [
       "$$e$$"
      ],
      "text/plain": [
       "e"
      ]
     },
     "execution_count": 26,
     "metadata": {},
     "output_type": "execute_result"
    }
   ],
   "source": [
    "e"
   ]
  },
  {
   "cell_type": "code",
   "execution_count": 27,
   "metadata": {},
   "outputs": [
    {
     "data": {
      "text/latex": [
       "\\begin{equation*} A = A^{t}  \\boldsymbol{\\gamma }_{t} + A^{x}  \\boldsymbol{\\gamma }_{x} + A^{y}  \\boldsymbol{\\gamma }_{y} + A^{z}  \\boldsymbol{\\gamma }_{z} \\end{equation*}"
      ],
      "text/plain": [
       "A^{t}  \\boldsymbol{\\gamma }_{t} + A^{x}  \\boldsymbol{\\gamma }_{x} + A^{y}  \\boldsymbol{\\gamma }_{y} + A^{z}  \\boldsymbol{\\gamma }_{z}"
      ]
     },
     "execution_count": 27,
     "metadata": {},
     "output_type": "execute_result"
    }
   ],
   "source": [
    "# 4-Vector Potential\n",
    "A = st4d.mv('A', 'vector', f=True)\n",
    "A"
   ]
  },
  {
   "cell_type": "code",
   "execution_count": 28,
   "metadata": {},
   "outputs": [
    {
     "data": {
      "text/latex": [
       "\\begin{equation*} psi = \\psi    + \\psi ^{tx}  \\boldsymbol{\\gamma }_{t}\\wedge \\boldsymbol{\\gamma }_{x} + \\psi ^{ty}  \\boldsymbol{\\gamma }_{t}\\wedge \\boldsymbol{\\gamma }_{y} + \\psi ^{tz}  \\boldsymbol{\\gamma }_{t}\\wedge \\boldsymbol{\\gamma }_{z} + \\psi ^{xy}  \\boldsymbol{\\gamma }_{x}\\wedge \\boldsymbol{\\gamma }_{y} + \\psi ^{xz}  \\boldsymbol{\\gamma }_{x}\\wedge \\boldsymbol{\\gamma }_{z} + \\psi ^{yz}  \\boldsymbol{\\gamma }_{y}\\wedge \\boldsymbol{\\gamma }_{z} + \\psi ^{txyz}  \\boldsymbol{\\gamma }_{t}\\wedge \\boldsymbol{\\gamma }_{x}\\wedge \\boldsymbol{\\gamma }_{y}\\wedge \\boldsymbol{\\gamma }_{z} \\end{equation*}"
      ],
      "text/plain": [
       "\\psi    + \\psi ^{tx}  \\boldsymbol{\\gamma }_{t}\\wedge \\boldsymbol{\\gamma }_{x} + \\psi ^{ty}  \\boldsymbol{\\gamma }_{t}\\wedge \\boldsymbol{\\gamma }_{y} + \\psi ^{tz}  \\boldsymbol{\\gamma }_{t}\\wedge \\boldsymbol{\\gamma }_{z} + \\psi ^{xy}  \\boldsymbol{\\gamma }_{x}\\wedge \\boldsymbol{\\gamma }_{y} + \\psi ^{xz}  \\boldsymbol{\\gamma }_{x}\\wedge \\boldsymbol{\\gamma }_{z} + \\psi ^{yz}  \\boldsymbol{\\gamma }_{y}\\wedge \\boldsymbol{\\gamma }_{z} + \\psi ^{txyz}  \\boldsymbol{\\gamma }_{t}\\wedge \\boldsymbol{\\gamma }_{x}\\wedge \\boldsymbol{\\gamma }_{y}\\wedge \\boldsymbol{\\gamma }_{z}"
      ]
     },
     "execution_count": 28,
     "metadata": {},
     "output_type": "execute_result"
    }
   ],
   "source": [
    "# 8-componentrealspinor\n",
    "psi = st4d.mv('psi', 'spinor', f=True)\n",
    "psi"
   ]
  },
  {
   "cell_type": "code",
   "execution_count": 29,
   "metadata": {},
   "outputs": [
    {
     "data": {
      "text/latex": [
       "\\begin{equation*} - \\boldsymbol{\\gamma }_{t}\\wedge \\boldsymbol{\\gamma }_{z} \\end{equation*}"
      ],
      "text/plain": [
       "- \\boldsymbol{\\gamma }_{t}\\wedge \\boldsymbol{\\gamma }_{z}"
      ]
     },
     "execution_count": 29,
     "metadata": {},
     "output_type": "execute_result"
    }
   ],
   "source": [
    "sig_z = g3 * g0\n",
    "sig_z"
   ]
  },
  {
   "cell_type": "markdown",
   "metadata": {},
   "source": [
    "Dirac Equation $\\newcommand{bm}[1]{\\boldsymbol #1}\n",
    "\\nabla \\bm{\\psi} I \\sigma_{z}-e\\bm{A}\\bm{\\psi}-m\\bm{\\psi}\\gamma_{t} = 0$"
   ]
  },
  {
   "cell_type": "code",
   "execution_count": 30,
   "metadata": {},
   "outputs": [
    {
     "data": {
      "text/latex": [
       "\\begin{equation*} \\left ( - e A^{t}  \\psi   - e A^{x}  \\psi ^{tx}  - e A^{y}  \\psi ^{ty}  - e A^{z}  \\psi ^{tz}  - m \\psi   - \\partial_{y} \\psi ^{tx}  - \\partial_{z} \\psi ^{txyz}  + \\partial_{x} \\psi ^{ty}  + \\partial_{t} \\psi ^{xy} \\right ) \\boldsymbol{\\gamma }_{t} + \\left ( - e A^{t}  \\psi ^{tx}  - e A^{x}  \\psi   - e A^{y}  \\psi ^{xy}  - e A^{z}  \\psi ^{xz}  + m \\psi ^{tx}  + \\partial_{y} \\psi   - \\partial_{t} \\psi ^{ty}  - \\partial_{x} \\psi ^{xy}  + \\partial_{z} \\psi ^{yz} \\right ) \\boldsymbol{\\gamma }_{x} + \\left ( - e A^{t}  \\psi ^{ty}  + e A^{x}  \\psi ^{xy}  - e A^{y}  \\psi   - e A^{z}  \\psi ^{yz}  + m \\psi ^{ty}  - \\partial_{x} \\psi   + \\partial_{t} \\psi ^{tx}  - \\partial_{y} \\psi ^{xy}  - \\partial_{z} \\psi ^{xz} \\right ) \\boldsymbol{\\gamma }_{y} + \\left ( - e A^{t}  \\psi ^{tz}  + e A^{x}  \\psi ^{xz}  + e A^{y}  \\psi ^{yz}  - e A^{z}  \\psi   + m \\psi ^{tz}  + \\partial_{t} \\psi ^{txyz}  - \\partial_{z} \\psi ^{xy}  + \\partial_{y} \\psi ^{xz}  - \\partial_{x} \\psi ^{yz} \\right ) \\boldsymbol{\\gamma }_{z} + \\left ( - e A^{t}  \\psi ^{xy}  + e A^{x}  \\psi ^{ty}  - e A^{y}  \\psi ^{tx}  - e A^{z}  \\psi ^{txyz}  - m \\psi ^{xy}  - \\partial_{t} \\psi   + \\partial_{x} \\psi ^{tx}  + \\partial_{y} \\psi ^{ty}  + \\partial_{z} \\psi ^{tz} \\right ) \\boldsymbol{\\gamma }_{t}\\wedge \\boldsymbol{\\gamma }_{x}\\wedge \\boldsymbol{\\gamma }_{y} + \\left ( - e A^{t}  \\psi ^{xz}  + e A^{x}  \\psi ^{tz}  + e A^{y}  \\psi ^{txyz}  - e A^{z}  \\psi ^{tx}  - m \\psi ^{xz}  + \\partial_{x} \\psi ^{txyz}  + \\partial_{z} \\psi ^{ty}  - \\partial_{y} \\psi ^{tz}  - \\partial_{t} \\psi ^{yz} \\right ) \\boldsymbol{\\gamma }_{t}\\wedge \\boldsymbol{\\gamma }_{x}\\wedge \\boldsymbol{\\gamma }_{z} + \\left ( - e A^{t}  \\psi ^{yz}  - e A^{x}  \\psi ^{txyz}  + e A^{y}  \\psi ^{tz}  - e A^{z}  \\psi ^{ty}  - m \\psi ^{yz}  - \\partial_{z} \\psi ^{tx}  + \\partial_{y} \\psi ^{txyz}  + \\partial_{x} \\psi ^{tz}  + \\partial_{t} \\psi ^{xz} \\right ) \\boldsymbol{\\gamma }_{t}\\wedge \\boldsymbol{\\gamma }_{y}\\wedge \\boldsymbol{\\gamma }_{z} + \\left ( - e A^{t}  \\psi ^{txyz}  - e A^{x}  \\psi ^{yz}  + e A^{y}  \\psi ^{xz}  - e A^{z}  \\psi ^{xy}  + m \\psi ^{txyz}  + \\partial_{z} \\psi   - \\partial_{t} \\psi ^{tz}  - \\partial_{x} \\psi ^{xz}  - \\partial_{y} \\psi ^{yz} \\right ) \\boldsymbol{\\gamma }_{x}\\wedge \\boldsymbol{\\gamma }_{y}\\wedge \\boldsymbol{\\gamma }_{z} \\end{equation*}"
      ],
      "text/plain": [
       "\\left ( - e A^{t}  \\psi   - e A^{x}  \\psi ^{tx}  - e A^{y}  \\psi ^{ty}  - e A^{z}  \\psi ^{tz}  - m \\psi   - \\partial_{y} \\psi ^{tx}  - \\partial_{z} \\psi ^{txyz}  + \\partial_{x} \\psi ^{ty}  + \\partial_{t} \\psi ^{xy} \\right ) \\boldsymbol{\\gamma }_{t} + \\left ( - e A^{t}  \\psi ^{tx}  - e A^{x}  \\psi   - e A^{y}  \\psi ^{xy}  - e A^{z}  \\psi ^{xz}  + m \\psi ^{tx}  + \\partial_{y} \\psi   - \\partial_{t} \\psi ^{ty}  - \\partial_{x} \\psi ^{xy}  + \\partial_{z} \\psi ^{yz} \\right ) \\boldsymbol{\\gamma }_{x} + \\left ( - e A^{t}  \\psi ^{ty}  + e A^{x}  \\psi ^{xy}  - e A^{y}  \\psi   - e A^{z}  \\psi ^{yz}  + m \\psi ^{ty}  - \\partial_{x} \\psi   + \\partial_{t} \\psi ^{tx}  - \\partial_{y} \\psi ^{xy}  - \\partial_{z} \\psi ^{xz} \\right ) \\boldsymbol{\\gamma }_{y} + \\left ( - e A^{t}  \\psi ^{tz}  + e A^{x}  \\psi ^{xz}  + e A^{y}  \\psi ^{yz}  - e A^{z}  \\psi   + m \\psi ^{tz}  + \\partial_{t} \\psi ^{txyz}  - \\partial_{z} \\psi ^{xy}  + \\partial_{y} \\psi ^{xz}  - \\partial_{x} \\psi ^{yz} \\right ) \\boldsymbol{\\gamma }_{z} + \\left ( - e A^{t}  \\psi ^{xy}  + e A^{x}  \\psi ^{ty}  - e A^{y}  \\psi ^{tx}  - e A^{z}  \\psi ^{txyz}  - m \\psi ^{xy}  - \\partial_{t} \\psi   + \\partial_{x} \\psi ^{tx}  + \\partial_{y} \\psi ^{ty}  + \\partial_{z} \\psi ^{tz} \\right ) \\boldsymbol{\\gamma }_{t}\\wedge \\boldsymbol{\\gamma }_{x}\\wedge \\boldsymbol{\\gamma }_{y} + \\left ( - e A^{t}  \\psi ^{xz}  + e A^{x}  \\psi ^{tz}  + e A^{y}  \\psi ^{txyz}  - e A^{z}  \\psi ^{tx}  - m \\psi ^{xz}  + \\partial_{x} \\psi ^{txyz}  + \\partial_{z} \\psi ^{ty}  - \\partial_{y} \\psi ^{tz}  - \\partial_{t} \\psi ^{yz} \\right ) \\boldsymbol{\\gamma }_{t}\\wedge \\boldsymbol{\\gamma }_{x}\\wedge \\boldsymbol{\\gamma }_{z} + \\left ( - e A^{t}  \\psi ^{yz}  - e A^{x}  \\psi ^{txyz}  + e A^{y}  \\psi ^{tz}  - e A^{z}  \\psi ^{ty}  - m \\psi ^{yz}  - \\partial_{z} \\psi ^{tx}  + \\partial_{y} \\psi ^{txyz}  + \\partial_{x} \\psi ^{tz}  + \\partial_{t} \\psi ^{xz} \\right ) \\boldsymbol{\\gamma }_{t}\\wedge \\boldsymbol{\\gamma }_{y}\\wedge \\boldsymbol{\\gamma }_{z} + \\left ( - e A^{t}  \\psi ^{txyz}  - e A^{x}  \\psi ^{yz}  + e A^{y}  \\psi ^{xz}  - e A^{z}  \\psi ^{xy}  + m \\psi ^{txyz}  + \\partial_{z} \\psi   - \\partial_{t} \\psi ^{tz}  - \\partial_{x} \\psi ^{xz}  - \\partial_{y} \\psi ^{yz} \\right ) \\boldsymbol{\\gamma }_{x}\\wedge \\boldsymbol{\\gamma }_{y}\\wedge \\boldsymbol{\\gamma }_{z}"
      ]
     },
     "execution_count": 30,
     "metadata": {},
     "output_type": "execute_result"
    }
   ],
   "source": [
    "dirac_eq = (st4d.grad * psi) * I * sig_z - e * A * psi - m * psi * g0\n",
    "dirac_eq"
   ]
  },
  {
   "cell_type": "code",
   "execution_count": 31,
   "metadata": {},
   "outputs": [
    {
     "data": {
      "text/latex": [
       "\\begin{equation*} \\left ( - e A^{t}  \\psi   - e A^{x}  \\psi ^{tx}  - e A^{y}  \\psi ^{ty}  - e A^{z}  \\psi ^{tz}  - m \\psi   - \\partial_{y} \\psi ^{tx}  - \\partial_{z} \\psi ^{txyz}  + \\partial_{x} \\psi ^{ty}  + \\partial_{t} \\psi ^{xy} \\right ) \\boldsymbol{\\gamma }_{t} + \\left ( - e A^{t}  \\psi ^{tx}  - e A^{x}  \\psi   - e A^{y}  \\psi ^{xy}  - e A^{z}  \\psi ^{xz}  + m \\psi ^{tx}  + \\partial_{y} \\psi   - \\partial_{t} \\psi ^{ty}  - \\partial_{x} \\psi ^{xy}  + \\partial_{z} \\psi ^{yz} \\right ) \\boldsymbol{\\gamma }_{x} + \\left ( - e A^{t}  \\psi ^{ty}  + e A^{x}  \\psi ^{xy}  - e A^{y}  \\psi   - e A^{z}  \\psi ^{yz}  + m \\psi ^{ty}  - \\partial_{x} \\psi   + \\partial_{t} \\psi ^{tx}  - \\partial_{y} \\psi ^{xy}  - \\partial_{z} \\psi ^{xz} \\right ) \\boldsymbol{\\gamma }_{y} + \\left ( - e A^{t}  \\psi ^{tz}  + e A^{x}  \\psi ^{xz}  + e A^{y}  \\psi ^{yz}  - e A^{z}  \\psi   + m \\psi ^{tz}  + \\partial_{t} \\psi ^{txyz}  - \\partial_{z} \\psi ^{xy}  + \\partial_{y} \\psi ^{xz}  - \\partial_{x} \\psi ^{yz} \\right ) \\boldsymbol{\\gamma }_{z} + \\left ( - e A^{t}  \\psi ^{xy}  + e A^{x}  \\psi ^{ty}  - e A^{y}  \\psi ^{tx}  - e A^{z}  \\psi ^{txyz}  - m \\psi ^{xy}  - \\partial_{t} \\psi   + \\partial_{x} \\psi ^{tx}  + \\partial_{y} \\psi ^{ty}  + \\partial_{z} \\psi ^{tz} \\right ) \\boldsymbol{\\gamma }_{t}\\wedge \\boldsymbol{\\gamma }_{x}\\wedge \\boldsymbol{\\gamma }_{y} + \\left ( - e A^{t}  \\psi ^{xz}  + e A^{x}  \\psi ^{tz}  + e A^{y}  \\psi ^{txyz}  - e A^{z}  \\psi ^{tx}  - m \\psi ^{xz}  + \\partial_{x} \\psi ^{txyz}  + \\partial_{z} \\psi ^{ty}  - \\partial_{y} \\psi ^{tz}  - \\partial_{t} \\psi ^{yz} \\right ) \\boldsymbol{\\gamma }_{t}\\wedge \\boldsymbol{\\gamma }_{x}\\wedge \\boldsymbol{\\gamma }_{z} + \\left ( - e A^{t}  \\psi ^{yz}  - e A^{x}  \\psi ^{txyz}  + e A^{y}  \\psi ^{tz}  - e A^{z}  \\psi ^{ty}  - m \\psi ^{yz}  - \\partial_{z} \\psi ^{tx}  + \\partial_{y} \\psi ^{txyz}  + \\partial_{x} \\psi ^{tz}  + \\partial_{t} \\psi ^{xz} \\right ) \\boldsymbol{\\gamma }_{t}\\wedge \\boldsymbol{\\gamma }_{y}\\wedge \\boldsymbol{\\gamma }_{z} + \\left ( - e A^{t}  \\psi ^{txyz}  - e A^{x}  \\psi ^{yz}  + e A^{y}  \\psi ^{xz}  - e A^{z}  \\psi ^{xy}  + m \\psi ^{txyz}  + \\partial_{z} \\psi   - \\partial_{t} \\psi ^{tz}  - \\partial_{x} \\psi ^{xz}  - \\partial_{y} \\psi ^{yz} \\right ) \\boldsymbol{\\gamma }_{x}\\wedge \\boldsymbol{\\gamma }_{y}\\wedge \\boldsymbol{\\gamma }_{z} \\end{equation*}"
      ],
      "text/plain": [
       "\\left ( - e A^{t}  \\psi   - e A^{x}  \\psi ^{tx}  - e A^{y}  \\psi ^{ty}  - e A^{z}  \\psi ^{tz}  - m \\psi   - \\partial_{y} \\psi ^{tx}  - \\partial_{z} \\psi ^{txyz}  + \\partial_{x} \\psi ^{ty}  + \\partial_{t} \\psi ^{xy} \\right ) \\boldsymbol{\\gamma }_{t} + \\left ( - e A^{t}  \\psi ^{tx}  - e A^{x}  \\psi   - e A^{y}  \\psi ^{xy}  - e A^{z}  \\psi ^{xz}  + m \\psi ^{tx}  + \\partial_{y} \\psi   - \\partial_{t} \\psi ^{ty}  - \\partial_{x} \\psi ^{xy}  + \\partial_{z} \\psi ^{yz} \\right ) \\boldsymbol{\\gamma }_{x} + \\left ( - e A^{t}  \\psi ^{ty}  + e A^{x}  \\psi ^{xy}  - e A^{y}  \\psi   - e A^{z}  \\psi ^{yz}  + m \\psi ^{ty}  - \\partial_{x} \\psi   + \\partial_{t} \\psi ^{tx}  - \\partial_{y} \\psi ^{xy}  - \\partial_{z} \\psi ^{xz} \\right ) \\boldsymbol{\\gamma }_{y} + \\left ( - e A^{t}  \\psi ^{tz}  + e A^{x}  \\psi ^{xz}  + e A^{y}  \\psi ^{yz}  - e A^{z}  \\psi   + m \\psi ^{tz}  + \\partial_{t} \\psi ^{txyz}  - \\partial_{z} \\psi ^{xy}  + \\partial_{y} \\psi ^{xz}  - \\partial_{x} \\psi ^{yz} \\right ) \\boldsymbol{\\gamma }_{z} + \\left ( - e A^{t}  \\psi ^{xy}  + e A^{x}  \\psi ^{ty}  - e A^{y}  \\psi ^{tx}  - e A^{z}  \\psi ^{txyz}  - m \\psi ^{xy}  - \\partial_{t} \\psi   + \\partial_{x} \\psi ^{tx}  + \\partial_{y} \\psi ^{ty}  + \\partial_{z} \\psi ^{tz} \\right ) \\boldsymbol{\\gamma }_{t}\\wedge \\boldsymbol{\\gamma }_{x}\\wedge \\boldsymbol{\\gamma }_{y} + \\left ( - e A^{t}  \\psi ^{xz}  + e A^{x}  \\psi ^{tz}  + e A^{y}  \\psi ^{txyz}  - e A^{z}  \\psi ^{tx}  - m \\psi ^{xz}  + \\partial_{x} \\psi ^{txyz}  + \\partial_{z} \\psi ^{ty}  - \\partial_{y} \\psi ^{tz}  - \\partial_{t} \\psi ^{yz} \\right ) \\boldsymbol{\\gamma }_{t}\\wedge \\boldsymbol{\\gamma }_{x}\\wedge \\boldsymbol{\\gamma }_{z} + \\left ( - e A^{t}  \\psi ^{yz}  - e A^{x}  \\psi ^{txyz}  + e A^{y}  \\psi ^{tz}  - e A^{z}  \\psi ^{ty}  - m \\psi ^{yz}  - \\partial_{z} \\psi ^{tx}  + \\partial_{y} \\psi ^{txyz}  + \\partial_{x} \\psi ^{tz}  + \\partial_{t} \\psi ^{xz} \\right ) \\boldsymbol{\\gamma }_{t}\\wedge \\boldsymbol{\\gamma }_{y}\\wedge \\boldsymbol{\\gamma }_{z} + \\left ( - e A^{t}  \\psi ^{txyz}  - e A^{x}  \\psi ^{yz}  + e A^{y}  \\psi ^{xz}  - e A^{z}  \\psi ^{xy}  + m \\psi ^{txyz}  + \\partial_{z} \\psi   - \\partial_{t} \\psi ^{tz}  - \\partial_{x} \\psi ^{xz}  - \\partial_{y} \\psi ^{yz} \\right ) \\boldsymbol{\\gamma }_{x}\\wedge \\boldsymbol{\\gamma }_{y}\\wedge \\boldsymbol{\\gamma }_{z}"
      ]
     },
     "execution_count": 31,
     "metadata": {},
     "output_type": "execute_result"
    }
   ],
   "source": [
    "dirac_eq = dirac_eq.simplify()\n",
    "dirac_eq"
   ]
  },
  {
   "cell_type": "code",
   "execution_count": 32,
   "metadata": {},
   "outputs": [
    {
     "data": {
      "text/latex": [
       "$$\\left(- e \\operatorname{A^{t}}{\\left (t,x,y,z \\right )} \\psi{\\left (t,x,y,z \\right )} - e \\operatorname{A^{x}}{\\left (t,x,y,z \\right )} \\psi^{tx}{\\left (t,x,y,z \\right )} - e \\operatorname{A^{y}}{\\left (t,x,y,z \\right )} \\psi^{ty}{\\left (t,x,y,z \\right )} - e \\operatorname{A^{z}}{\\left (t,x,y,z \\right )} \\psi^{tz}{\\left (t,x,y,z \\right )} - m \\psi{\\left (t,x,y,z \\right )} - \\frac{\\partial}{\\partial y} \\psi^{tx}{\\left (t,x,y,z \\right )} - \\frac{\\partial}{\\partial z} \\psi^{txyz}{\\left (t,x,y,z \\right )} + \\frac{\\partial}{\\partial x} \\psi^{ty}{\\left (t,x,y,z \\right )} + \\frac{\\partial}{\\partial t} \\psi^{xy}{\\left (t,x,y,z \\right )}\\right) \\gamma_{t} + \\left(- e \\operatorname{A^{t}}{\\left (t,x,y,z \\right )} \\psi^{tx}{\\left (t,x,y,z \\right )} - e \\operatorname{A^{x}}{\\left (t,x,y,z \\right )} \\psi{\\left (t,x,y,z \\right )} - e \\operatorname{A^{y}}{\\left (t,x,y,z \\right )} \\psi^{xy}{\\left (t,x,y,z \\right )} - e \\operatorname{A^{z}}{\\left (t,x,y,z \\right )} \\psi^{xz}{\\left (t,x,y,z \\right )} + m \\psi^{tx}{\\left (t,x,y,z \\right )} + \\frac{\\partial}{\\partial y} \\psi{\\left (t,x,y,z \\right )} - \\frac{\\partial}{\\partial t} \\psi^{ty}{\\left (t,x,y,z \\right )} - \\frac{\\partial}{\\partial x} \\psi^{xy}{\\left (t,x,y,z \\right )} + \\frac{\\partial}{\\partial z} \\psi^{yz}{\\left (t,x,y,z \\right )}\\right) \\gamma_{x} + \\left(- e \\operatorname{A^{t}}{\\left (t,x,y,z \\right )} \\psi^{txyz}{\\left (t,x,y,z \\right )} - e \\operatorname{A^{x}}{\\left (t,x,y,z \\right )} \\psi^{yz}{\\left (t,x,y,z \\right )} + e \\operatorname{A^{y}}{\\left (t,x,y,z \\right )} \\psi^{xz}{\\left (t,x,y,z \\right )} - e \\operatorname{A^{z}}{\\left (t,x,y,z \\right )} \\psi^{xy}{\\left (t,x,y,z \\right )} + m \\psi^{txyz}{\\left (t,x,y,z \\right )} + \\frac{\\partial}{\\partial z} \\psi{\\left (t,x,y,z \\right )} - \\frac{\\partial}{\\partial t} \\psi^{tz}{\\left (t,x,y,z \\right )} - \\frac{\\partial}{\\partial x} \\psi^{xz}{\\left (t,x,y,z \\right )} - \\frac{\\partial}{\\partial y} \\psi^{yz}{\\left (t,x,y,z \\right )}\\right) \\gamma^{\\gamma \\gamma}_{x y z} + \\left(- e \\operatorname{A^{t}}{\\left (t,x,y,z \\right )} \\psi^{ty}{\\left (t,x,y,z \\right )} + e \\operatorname{A^{x}}{\\left (t,x,y,z \\right )} \\psi^{xy}{\\left (t,x,y,z \\right )} - e \\operatorname{A^{y}}{\\left (t,x,y,z \\right )} \\psi{\\left (t,x,y,z \\right )} - e \\operatorname{A^{z}}{\\left (t,x,y,z \\right )} \\psi^{yz}{\\left (t,x,y,z \\right )} + m \\psi^{ty}{\\left (t,x,y,z \\right )} - \\frac{\\partial}{\\partial x} \\psi{\\left (t,x,y,z \\right )} + \\frac{\\partial}{\\partial t} \\psi^{tx}{\\left (t,x,y,z \\right )} - \\frac{\\partial}{\\partial y} \\psi^{xy}{\\left (t,x,y,z \\right )} - \\frac{\\partial}{\\partial z} \\psi^{xz}{\\left (t,x,y,z \\right )}\\right) \\gamma_{y} + \\left(- e \\operatorname{A^{t}}{\\left (t,x,y,z \\right )} \\psi^{tz}{\\left (t,x,y,z \\right )} + e \\operatorname{A^{x}}{\\left (t,x,y,z \\right )} \\psi^{xz}{\\left (t,x,y,z \\right )} + e \\operatorname{A^{y}}{\\left (t,x,y,z \\right )} \\psi^{yz}{\\left (t,x,y,z \\right )} - e \\operatorname{A^{z}}{\\left (t,x,y,z \\right )} \\psi{\\left (t,x,y,z \\right )} + m \\psi^{tz}{\\left (t,x,y,z \\right )} + \\frac{\\partial}{\\partial t} \\psi^{txyz}{\\left (t,x,y,z \\right )} - \\frac{\\partial}{\\partial z} \\psi^{xy}{\\left (t,x,y,z \\right )} + \\frac{\\partial}{\\partial y} \\psi^{xz}{\\left (t,x,y,z \\right )} - \\frac{\\partial}{\\partial x} \\psi^{yz}{\\left (t,x,y,z \\right )}\\right) \\gamma_{z} + \\left(- e \\operatorname{A^{t}}{\\left (t,x,y,z \\right )} \\psi^{xy}{\\left (t,x,y,z \\right )} + e \\operatorname{A^{x}}{\\left (t,x,y,z \\right )} \\psi^{ty}{\\left (t,x,y,z \\right )} - e \\operatorname{A^{y}}{\\left (t,x,y,z \\right )} \\psi^{tx}{\\left (t,x,y,z \\right )} - e \\operatorname{A^{z}}{\\left (t,x,y,z \\right )} \\psi^{txyz}{\\left (t,x,y,z \\right )} - m \\psi^{xy}{\\left (t,x,y,z \\right )} - \\frac{\\partial}{\\partial t} \\psi{\\left (t,x,y,z \\right )} + \\frac{\\partial}{\\partial x} \\psi^{tx}{\\left (t,x,y,z \\right )} + \\frac{\\partial}{\\partial y} \\psi^{ty}{\\left (t,x,y,z \\right )} + \\frac{\\partial}{\\partial z} \\psi^{tz}{\\left (t,x,y,z \\right )}\\right) \\gamma^{\\gamma \\gamma}_{t x y} + \\left(- e \\operatorname{A^{t}}{\\left (t,x,y,z \\right )} \\psi^{xz}{\\left (t,x,y,z \\right )} + e \\operatorname{A^{x}}{\\left (t,x,y,z \\right )} \\psi^{tz}{\\left (t,x,y,z \\right )} + e \\operatorname{A^{y}}{\\left (t,x,y,z \\right )} \\psi^{txyz}{\\left (t,x,y,z \\right )} - e \\operatorname{A^{z}}{\\left (t,x,y,z \\right )} \\psi^{tx}{\\left (t,x,y,z \\right )} - m \\psi^{xz}{\\left (t,x,y,z \\right )} + \\frac{\\partial}{\\partial x} \\psi^{txyz}{\\left (t,x,y,z \\right )} + \\frac{\\partial}{\\partial z} \\psi^{ty}{\\left (t,x,y,z \\right )} - \\frac{\\partial}{\\partial y} \\psi^{tz}{\\left (t,x,y,z \\right )} - \\frac{\\partial}{\\partial t} \\psi^{yz}{\\left (t,x,y,z \\right )}\\right) \\gamma^{\\gamma \\gamma}_{t x z} + \\left(- e \\operatorname{A^{t}}{\\left (t,x,y,z \\right )} \\psi^{yz}{\\left (t,x,y,z \\right )} - e \\operatorname{A^{x}}{\\left (t,x,y,z \\right )} \\psi^{txyz}{\\left (t,x,y,z \\right )} + e \\operatorname{A^{y}}{\\left (t,x,y,z \\right )} \\psi^{tz}{\\left (t,x,y,z \\right )} - e \\operatorname{A^{z}}{\\left (t,x,y,z \\right )} \\psi^{ty}{\\left (t,x,y,z \\right )} - m \\psi^{yz}{\\left (t,x,y,z \\right )} - \\frac{\\partial}{\\partial z} \\psi^{tx}{\\left (t,x,y,z \\right )} + \\frac{\\partial}{\\partial y} \\psi^{txyz}{\\left (t,x,y,z \\right )} + \\frac{\\partial}{\\partial x} \\psi^{tz}{\\left (t,x,y,z \\right )} + \\frac{\\partial}{\\partial t} \\psi^{xz}{\\left (t,x,y,z \\right )}\\right) \\gamma^{\\gamma \\gamma}_{t y z}$$"
      ],
      "text/plain": [
       "⎛                                                                             \n",
       "⎜-e⋅A__t(t, x, y, z)⋅ψ(t, x, y, z) - e⋅A__x(t, x, y, z)⋅ψ__tx(t, x, y, z) - e⋅\n",
       "⎝                                                                             \n",
       "\n",
       "                                                                              \n",
       "A__y(t, x, y, z)⋅ψ__ty(t, x, y, z) - e⋅A__z(t, x, y, z)⋅ψ__tz(t, x, y, z) - m⋅\n",
       "                                                                              \n",
       "\n",
       "                ∂                       ∂                         ∂           \n",
       "ψ(t, x, y, z) - ──(ψ__tx(t, x, y, z)) - ──(ψ__txyz(t, x, y, z)) + ──(ψ__ty(t, \n",
       "                ∂y                      ∂z                        ∂x          \n",
       "\n",
       "            ∂                    ⎞      ⎛                                     \n",
       "x, y, z)) + ──(ψ__xy(t, x, y, z))⎟⋅γₜ + ⎜-e⋅A__t(t, x, y, z)⋅ψ__tx(t, x, y, z)\n",
       "            ∂t                   ⎠      ⎝                                     \n",
       "\n",
       "                                                                              \n",
       " - e⋅A__x(t, x, y, z)⋅ψ(t, x, y, z) - e⋅A__y(t, x, y, z)⋅ψ__xy(t, x, y, z) - e\n",
       "                                                                              \n",
       "\n",
       "                                                            ∂                 \n",
       "⋅A__z(t, x, y, z)⋅ψ__xz(t, x, y, z) + m⋅ψ__tx(t, x, y, z) + ──(ψ(t, x, y, z)) \n",
       "                                                            ∂y                \n",
       "\n",
       "  ∂                       ∂                       ∂                    ⎞      \n",
       "- ──(ψ__ty(t, x, y, z)) - ──(ψ__xy(t, x, y, z)) + ──(ψ__yz(t, x, y, z))⎟⋅γₓ + \n",
       "  ∂t                      ∂x                      ∂z                   ⎠      \n",
       "\n",
       "⎛                                                                             \n",
       "⎜-e⋅A__t(t, x, y, z)⋅ψ__txyz(t, x, y, z) - e⋅A__x(t, x, y, z)⋅ψ__yz(t, x, y, z\n",
       "⎝                                                                             \n",
       "\n",
       "                                                                              \n",
       ") + e⋅A__y(t, x, y, z)⋅ψ__xz(t, x, y, z) - e⋅A__z(t, x, y, z)⋅ψ__xy(t, x, y, z\n",
       "                                                                              \n",
       "\n",
       "                            ∂                   ∂                       ∂     \n",
       ") + m⋅ψ__txyz(t, x, y, z) + ──(ψ(t, x, y, z)) - ──(ψ__tz(t, x, y, z)) - ──(ψ__\n",
       "                            ∂z                  ∂t                      ∂x    \n",
       "\n",
       "                  ∂                    ⎞                 ⎛                    \n",
       "xz(t, x, y, z)) - ──(ψ__yz(t, x, y, z))⎟⋅γ_x_y_z__γ__γ + ⎜-e⋅A__t(t, x, y, z)⋅\n",
       "                  ∂y                   ⎠                 ⎝                    \n",
       "\n",
       "                                                                              \n",
       "ψ__ty(t, x, y, z) + e⋅A__x(t, x, y, z)⋅ψ__xy(t, x, y, z) - e⋅A__y(t, x, y, z)⋅\n",
       "                                                                              \n",
       "\n",
       "                                                                             ∂\n",
       "ψ(t, x, y, z) - e⋅A__z(t, x, y, z)⋅ψ__yz(t, x, y, z) + m⋅ψ__ty(t, x, y, z) - ─\n",
       "                                                                             ∂\n",
       "\n",
       "                   ∂                       ∂                       ∂          \n",
       "─(ψ(t, x, y, z)) + ──(ψ__tx(t, x, y, z)) - ──(ψ__xy(t, x, y, z)) - ──(ψ__xz(t,\n",
       "x                  ∂t                      ∂y                      ∂z         \n",
       "\n",
       "          ⎞       ⎛                                                           \n",
       " x, y, z))⎟⋅γ_y + ⎜-e⋅A__t(t, x, y, z)⋅ψ__tz(t, x, y, z) + e⋅A__x(t, x, y, z)⋅\n",
       "          ⎠       ⎝                                                           \n",
       "\n",
       "                                                                              \n",
       "ψ__xz(t, x, y, z) + e⋅A__y(t, x, y, z)⋅ψ__yz(t, x, y, z) - e⋅A__z(t, x, y, z)⋅\n",
       "                                                                              \n",
       "\n",
       "                                      ∂                         ∂             \n",
       "ψ(t, x, y, z) + m⋅ψ__tz(t, x, y, z) + ──(ψ__txyz(t, x, y, z)) - ──(ψ__xy(t, x,\n",
       "                                      ∂t                        ∂z            \n",
       "\n",
       "          ∂                       ∂                    ⎞       ⎛              \n",
       " y, z)) + ──(ψ__xz(t, x, y, z)) - ──(ψ__yz(t, x, y, z))⎟⋅γ_z + ⎜-e⋅A__t(t, x, \n",
       "          ∂y                      ∂x                   ⎠       ⎝              \n",
       "\n",
       "                                                                              \n",
       "y, z)⋅ψ__xy(t, x, y, z) + e⋅A__x(t, x, y, z)⋅ψ__ty(t, x, y, z) - e⋅A__y(t, x, \n",
       "                                                                              \n",
       "\n",
       "                                                                              \n",
       "y, z)⋅ψ__tx(t, x, y, z) - e⋅A__z(t, x, y, z)⋅ψ__txyz(t, x, y, z) - m⋅ψ__xy(t, \n",
       "                                                                              \n",
       "\n",
       "           ∂                   ∂                       ∂                      \n",
       "x, y, z) - ──(ψ(t, x, y, z)) + ──(ψ__tx(t, x, y, z)) + ──(ψ__ty(t, x, y, z)) +\n",
       "           ∂t                  ∂x                      ∂y                     \n",
       "\n",
       " ∂                    ⎞                 ⎛                                     \n",
       " ──(ψ__tz(t, x, y, z))⎟⋅γ_t_x_y__γ__γ + ⎜-e⋅A__t(t, x, y, z)⋅ψ__xz(t, x, y, z)\n",
       " ∂z                   ⎠                 ⎝                                     \n",
       "\n",
       "                                                                              \n",
       " + e⋅A__x(t, x, y, z)⋅ψ__tz(t, x, y, z) + e⋅A__y(t, x, y, z)⋅ψ__txyz(t, x, y, \n",
       "                                                                              \n",
       "\n",
       "                                                                  ∂           \n",
       "z) - e⋅A__z(t, x, y, z)⋅ψ__tx(t, x, y, z) - m⋅ψ__xz(t, x, y, z) + ──(ψ__txyz(t\n",
       "                                                                  ∂x          \n",
       "\n",
       "              ∂                       ∂                       ∂               \n",
       ", x, y, z)) + ──(ψ__ty(t, x, y, z)) - ──(ψ__tz(t, x, y, z)) - ──(ψ__yz(t, x, y\n",
       "              ∂z                      ∂y                      ∂t              \n",
       "\n",
       "     ⎞                 ⎛                                                      \n",
       ", z))⎟⋅γ_t_x_z__γ__γ + ⎜-e⋅A__t(t, x, y, z)⋅ψ__yz(t, x, y, z) - e⋅A__x(t, x, y\n",
       "     ⎠                 ⎝                                                      \n",
       "\n",
       "                                                                              \n",
       ", z)⋅ψ__txyz(t, x, y, z) + e⋅A__y(t, x, y, z)⋅ψ__tz(t, x, y, z) - e⋅A__z(t, x,\n",
       "                                                                              \n",
       "\n",
       "                                                 ∂                       ∂    \n",
       " y, z)⋅ψ__ty(t, x, y, z) - m⋅ψ__yz(t, x, y, z) - ──(ψ__tx(t, x, y, z)) + ──(ψ_\n",
       "                                                 ∂z                      ∂y   \n",
       "\n",
       "                     ∂                       ∂                    ⎞           \n",
       "_txyz(t, x, y, z)) + ──(ψ__tz(t, x, y, z)) + ──(ψ__xz(t, x, y, z))⎟⋅γ_t_y_z__γ\n",
       "                     ∂x                      ∂t                   ⎠           \n",
       "\n",
       "   \n",
       "__γ\n",
       "   "
      ]
     },
     "execution_count": 32,
     "metadata": {},
     "output_type": "execute_result"
    }
   ],
   "source": [
    "dirac_eq.obj"
   ]
  },
  {
   "cell_type": "code",
   "execution_count": 33,
   "metadata": {},
   "outputs": [
    {
     "data": {
      "text/plain": [
       "True"
      ]
     },
     "execution_count": 33,
     "metadata": {},
     "output_type": "execute_result"
    }
   ],
   "source": [
    "dirac_eq.is_blade_rep"
   ]
  },
  {
   "cell_type": "code",
   "execution_count": 34,
   "metadata": {},
   "outputs": [
    {
     "data": {
      "text/plain": [
       "True"
      ]
     },
     "execution_count": 34,
     "metadata": {},
     "output_type": "execute_result"
    }
   ],
   "source": [
    "dirac_eq.Ga.is_ortho"
   ]
  },
  {
   "cell_type": "code",
   "execution_count": 35,
   "metadata": {},
   "outputs": [
    {
     "data": {
      "text/latex": [
       "$$\\left [ \\gamma_{t}, \\quad \\gamma_{x}, \\quad \\gamma_{y}, \\quad \\gamma_{z}, \\quad \\gamma^{\\gamma}_{t x}, \\quad \\gamma^{\\gamma}_{t y}, \\quad \\gamma^{\\gamma}_{t z}, \\quad \\gamma^{\\gamma}_{x y}, \\quad \\gamma^{\\gamma}_{x z}, \\quad \\gamma^{\\gamma}_{y z}, \\quad \\gamma^{\\gamma \\gamma}_{t x y}, \\quad \\gamma^{\\gamma \\gamma}_{t x z}, \\quad \\gamma^{\\gamma \\gamma}_{t y z}, \\quad \\gamma^{\\gamma \\gamma}_{x y z}, \\quad \\gamma^{\\gamma \\gamma \\gamma}_{t x y z}\\right ]$$"
      ],
      "text/plain": [
       "[γₜ, γₓ, γ_y, γ_z, γ_t_x__γ, γ_t_y__γ, γ_t_z__γ, γ_x_y__γ, γ_x_z__γ, γ_y_z__γ,\n",
       " γ_t_x_y__γ__γ, γ_t_x_z__γ__γ, γ_t_y_z__γ__γ, γ_x_y_z__γ__γ, γ_t_x_y_z__γ__γ__\n",
       "γ]"
      ]
     },
     "execution_count": 35,
     "metadata": {},
     "output_type": "execute_result"
    }
   ],
   "source": [
    "dirac_eq.Ga.blades_lst"
   ]
  },
  {
   "cell_type": "code",
   "execution_count": 36,
   "metadata": {},
   "outputs": [
    {
     "data": {
      "text/latex": [
       "$$\\left \\{ \\gamma_{t} : 1, \\quad \\gamma^{\\gamma}_{t x} : 2, \\quad \\gamma^{\\gamma \\gamma}_{t x y} : 3, \\quad \\gamma^{\\gamma \\gamma \\gamma}_{t x y z} : 4, \\quad \\gamma^{\\gamma \\gamma}_{t x z} : 3, \\quad \\gamma^{\\gamma}_{t y} : 2, \\quad \\gamma^{\\gamma \\gamma}_{t y z} : 3, \\quad \\gamma^{\\gamma}_{t z} : 2, \\quad \\gamma_{x} : 1, \\quad \\gamma^{\\gamma}_{x y} : 2, \\quad \\gamma^{\\gamma \\gamma}_{x y z} : 3, \\quad \\gamma^{\\gamma}_{x z} : 2, \\quad \\gamma_{y} : 1, \\quad \\gamma^{\\gamma}_{y z} : 2, \\quad \\gamma_{z} : 1\\right \\}$$"
      ],
      "text/plain": [
       "{γₜ: 1, γ_t_x__γ: 2, γ_t_x_y__γ__γ: 3, γ_t_x_y_z__γ__γ__γ: 4, γ_t_x_z__γ__γ: 3\n",
       ", γ_t_y__γ: 2, γ_t_y_z__γ__γ: 3, γ_t_z__γ: 2, γₓ: 1, γ_x_y__γ: 2, γ_x_y_z__γ__\n",
       "γ: 3, γ_x_z__γ: 2, γ_y: 1, γ_y_z__γ: 2, γ_z: 1}"
      ]
     },
     "execution_count": 36,
     "metadata": {},
     "output_type": "execute_result"
    }
   ],
   "source": [
    "dirac_eq.Ga.blades_to_grades_dict"
   ]
  },
  {
   "cell_type": "code",
   "execution_count": 37,
   "metadata": {},
   "outputs": [
    {
     "data": {
      "text/plain": [
       "True"
      ]
     },
     "execution_count": 37,
     "metadata": {},
     "output_type": "execute_result"
    }
   ],
   "source": [
    "isinstance(dirac_eq.obj, sympy.Add)"
   ]
  },
  {
   "cell_type": "code",
   "execution_count": 38,
   "metadata": {},
   "outputs": [
    {
     "data": {
      "text/plain": [
       "False"
      ]
     },
     "execution_count": 38,
     "metadata": {},
     "output_type": "execute_result"
    }
   ],
   "source": [
    "dirac_eq.obj.is_commutative"
   ]
  },
  {
   "cell_type": "code",
   "execution_count": 39,
   "metadata": {},
   "outputs": [
    {
     "data": {
      "text/latex": [
       "$$\\left ( \\left(- e \\operatorname{A^{t}}{\\left (t,x,y,z \\right )} \\psi^{xy}{\\left (t,x,y,z \\right )} + e \\operatorname{A^{x}}{\\left (t,x,y,z \\right )} \\psi^{ty}{\\left (t,x,y,z \\right )} - e \\operatorname{A^{y}}{\\left (t,x,y,z \\right )} \\psi^{tx}{\\left (t,x,y,z \\right )} - e \\operatorname{A^{z}}{\\left (t,x,y,z \\right )} \\psi^{txyz}{\\left (t,x,y,z \\right )} - m \\psi^{xy}{\\left (t,x,y,z \\right )} - \\frac{\\partial}{\\partial t} \\psi{\\left (t,x,y,z \\right )} + \\frac{\\partial}{\\partial x} \\psi^{tx}{\\left (t,x,y,z \\right )} + \\frac{\\partial}{\\partial y} \\psi^{ty}{\\left (t,x,y,z \\right )} + \\frac{\\partial}{\\partial z} \\psi^{tz}{\\left (t,x,y,z \\right )}\\right) \\gamma^{\\gamma \\gamma}_{t x y}, \\quad \\left(- e \\operatorname{A^{t}}{\\left (t,x,y,z \\right )} \\psi^{ty}{\\left (t,x,y,z \\right )} + e \\operatorname{A^{x}}{\\left (t,x,y,z \\right )} \\psi^{xy}{\\left (t,x,y,z \\right )} - e \\operatorname{A^{y}}{\\left (t,x,y,z \\right )} \\psi{\\left (t,x,y,z \\right )} - e \\operatorname{A^{z}}{\\left (t,x,y,z \\right )} \\psi^{yz}{\\left (t,x,y,z \\right )} + m \\psi^{ty}{\\left (t,x,y,z \\right )} - \\frac{\\partial}{\\partial x} \\psi{\\left (t,x,y,z \\right )} + \\frac{\\partial}{\\partial t} \\psi^{tx}{\\left (t,x,y,z \\right )} - \\frac{\\partial}{\\partial y} \\psi^{xy}{\\left (t,x,y,z \\right )} - \\frac{\\partial}{\\partial z} \\psi^{xz}{\\left (t,x,y,z \\right )}\\right) \\gamma_{y}, \\quad \\left(- e \\operatorname{A^{t}}{\\left (t,x,y,z \\right )} \\psi{\\left (t,x,y,z \\right )} - e \\operatorname{A^{x}}{\\left (t,x,y,z \\right )} \\psi^{tx}{\\left (t,x,y,z \\right )} - e \\operatorname{A^{y}}{\\left (t,x,y,z \\right )} \\psi^{ty}{\\left (t,x,y,z \\right )} - e \\operatorname{A^{z}}{\\left (t,x,y,z \\right )} \\psi^{tz}{\\left (t,x,y,z \\right )} - m \\psi{\\left (t,x,y,z \\right )} - \\frac{\\partial}{\\partial y} \\psi^{tx}{\\left (t,x,y,z \\right )} - \\frac{\\partial}{\\partial z} \\psi^{txyz}{\\left (t,x,y,z \\right )} + \\frac{\\partial}{\\partial x} \\psi^{ty}{\\left (t,x,y,z \\right )} + \\frac{\\partial}{\\partial t} \\psi^{xy}{\\left (t,x,y,z \\right )}\\right) \\gamma_{t}, \\quad \\left(- e \\operatorname{A^{t}}{\\left (t,x,y,z \\right )} \\psi^{yz}{\\left (t,x,y,z \\right )} - e \\operatorname{A^{x}}{\\left (t,x,y,z \\right )} \\psi^{txyz}{\\left (t,x,y,z \\right )} + e \\operatorname{A^{y}}{\\left (t,x,y,z \\right )} \\psi^{tz}{\\left (t,x,y,z \\right )} - e \\operatorname{A^{z}}{\\left (t,x,y,z \\right )} \\psi^{ty}{\\left (t,x,y,z \\right )} - m \\psi^{yz}{\\left (t,x,y,z \\right )} - \\frac{\\partial}{\\partial z} \\psi^{tx}{\\left (t,x,y,z \\right )} + \\frac{\\partial}{\\partial y} \\psi^{txyz}{\\left (t,x,y,z \\right )} + \\frac{\\partial}{\\partial x} \\psi^{tz}{\\left (t,x,y,z \\right )} + \\frac{\\partial}{\\partial t} \\psi^{xz}{\\left (t,x,y,z \\right )}\\right) \\gamma^{\\gamma \\gamma}_{t y z}, \\quad \\left(- e \\operatorname{A^{t}}{\\left (t,x,y,z \\right )} \\psi^{tx}{\\left (t,x,y,z \\right )} - e \\operatorname{A^{x}}{\\left (t,x,y,z \\right )} \\psi{\\left (t,x,y,z \\right )} - e \\operatorname{A^{y}}{\\left (t,x,y,z \\right )} \\psi^{xy}{\\left (t,x,y,z \\right )} - e \\operatorname{A^{z}}{\\left (t,x,y,z \\right )} \\psi^{xz}{\\left (t,x,y,z \\right )} + m \\psi^{tx}{\\left (t,x,y,z \\right )} + \\frac{\\partial}{\\partial y} \\psi{\\left (t,x,y,z \\right )} - \\frac{\\partial}{\\partial t} \\psi^{ty}{\\left (t,x,y,z \\right )} - \\frac{\\partial}{\\partial x} \\psi^{xy}{\\left (t,x,y,z \\right )} + \\frac{\\partial}{\\partial z} \\psi^{yz}{\\left (t,x,y,z \\right )}\\right) \\gamma_{x}, \\quad \\left(- e \\operatorname{A^{t}}{\\left (t,x,y,z \\right )} \\psi^{txyz}{\\left (t,x,y,z \\right )} - e \\operatorname{A^{x}}{\\left (t,x,y,z \\right )} \\psi^{yz}{\\left (t,x,y,z \\right )} + e \\operatorname{A^{y}}{\\left (t,x,y,z \\right )} \\psi^{xz}{\\left (t,x,y,z \\right )} - e \\operatorname{A^{z}}{\\left (t,x,y,z \\right )} \\psi^{xy}{\\left (t,x,y,z \\right )} + m \\psi^{txyz}{\\left (t,x,y,z \\right )} + \\frac{\\partial}{\\partial z} \\psi{\\left (t,x,y,z \\right )} - \\frac{\\partial}{\\partial t} \\psi^{tz}{\\left (t,x,y,z \\right )} - \\frac{\\partial}{\\partial x} \\psi^{xz}{\\left (t,x,y,z \\right )} - \\frac{\\partial}{\\partial y} \\psi^{yz}{\\left (t,x,y,z \\right )}\\right) \\gamma^{\\gamma \\gamma}_{x y z}, \\quad \\left(- e \\operatorname{A^{t}}{\\left (t,x,y,z \\right )} \\psi^{xz}{\\left (t,x,y,z \\right )} + e \\operatorname{A^{x}}{\\left (t,x,y,z \\right )} \\psi^{tz}{\\left (t,x,y,z \\right )} + e \\operatorname{A^{y}}{\\left (t,x,y,z \\right )} \\psi^{txyz}{\\left (t,x,y,z \\right )} - e \\operatorname{A^{z}}{\\left (t,x,y,z \\right )} \\psi^{tx}{\\left (t,x,y,z \\right )} - m \\psi^{xz}{\\left (t,x,y,z \\right )} + \\frac{\\partial}{\\partial x} \\psi^{txyz}{\\left (t,x,y,z \\right )} + \\frac{\\partial}{\\partial z} \\psi^{ty}{\\left (t,x,y,z \\right )} - \\frac{\\partial}{\\partial y} \\psi^{tz}{\\left (t,x,y,z \\right )} - \\frac{\\partial}{\\partial t} \\psi^{yz}{\\left (t,x,y,z \\right )}\\right) \\gamma^{\\gamma \\gamma}_{t x z}, \\quad \\left(- e \\operatorname{A^{t}}{\\left (t,x,y,z \\right )} \\psi^{tz}{\\left (t,x,y,z \\right )} + e \\operatorname{A^{x}}{\\left (t,x,y,z \\right )} \\psi^{xz}{\\left (t,x,y,z \\right )} + e \\operatorname{A^{y}}{\\left (t,x,y,z \\right )} \\psi^{yz}{\\left (t,x,y,z \\right )} - e \\operatorname{A^{z}}{\\left (t,x,y,z \\right )} \\psi{\\left (t,x,y,z \\right )} + m \\psi^{tz}{\\left (t,x,y,z \\right )} + \\frac{\\partial}{\\partial t} \\psi^{txyz}{\\left (t,x,y,z \\right )} - \\frac{\\partial}{\\partial z} \\psi^{xy}{\\left (t,x,y,z \\right )} + \\frac{\\partial}{\\partial y} \\psi^{xz}{\\left (t,x,y,z \\right )} - \\frac{\\partial}{\\partial x} \\psi^{yz}{\\left (t,x,y,z \\right )}\\right) \\gamma_{z}\\right )$$"
      ],
      "text/plain": [
       "⎛⎛                                                                            \n",
       "⎜⎜-e⋅A__t(t, x, y, z)⋅ψ__xy(t, x, y, z) + e⋅A__x(t, x, y, z)⋅ψ__ty(t, x, y, z)\n",
       "⎝⎝                                                                            \n",
       "\n",
       "                                                                              \n",
       " - e⋅A__y(t, x, y, z)⋅ψ__tx(t, x, y, z) - e⋅A__z(t, x, y, z)⋅ψ__txyz(t, x, y, \n",
       "                                                                              \n",
       "\n",
       "                           ∂                   ∂                       ∂      \n",
       "z) - m⋅ψ__xy(t, x, y, z) - ──(ψ(t, x, y, z)) + ──(ψ__tx(t, x, y, z)) + ──(ψ__t\n",
       "                           ∂t                  ∂x                      ∂y     \n",
       "\n",
       "                 ∂                    ⎞                ⎛                      \n",
       "y(t, x, y, z)) + ──(ψ__tz(t, x, y, z))⎟⋅γ_t_x_y__γ__γ, ⎜-e⋅A__t(t, x, y, z)⋅ψ_\n",
       "                 ∂z                   ⎠                ⎝                      \n",
       "\n",
       "                                                                              \n",
       "_ty(t, x, y, z) + e⋅A__x(t, x, y, z)⋅ψ__xy(t, x, y, z) - e⋅A__y(t, x, y, z)⋅ψ(\n",
       "                                                                              \n",
       "\n",
       "                                                                           ∂  \n",
       "t, x, y, z) - e⋅A__z(t, x, y, z)⋅ψ__yz(t, x, y, z) + m⋅ψ__ty(t, x, y, z) - ──(\n",
       "                                                                           ∂x \n",
       "\n",
       "                 ∂                       ∂                       ∂            \n",
       "ψ(t, x, y, z)) + ──(ψ__tx(t, x, y, z)) - ──(ψ__xy(t, x, y, z)) - ──(ψ__xz(t, x\n",
       "                 ∂t                      ∂y                      ∂z           \n",
       "\n",
       "        ⎞      ⎛                                                              \n",
       ", y, z))⎟⋅γ_y, ⎜-e⋅A__t(t, x, y, z)⋅ψ(t, x, y, z) - e⋅A__x(t, x, y, z)⋅ψ__tx(t\n",
       "        ⎠      ⎝                                                              \n",
       "\n",
       "                                                                              \n",
       ", x, y, z) - e⋅A__y(t, x, y, z)⋅ψ__ty(t, x, y, z) - e⋅A__z(t, x, y, z)⋅ψ__tz(t\n",
       "                                                                              \n",
       "\n",
       "                               ∂                       ∂                      \n",
       ", x, y, z) - m⋅ψ(t, x, y, z) - ──(ψ__tx(t, x, y, z)) - ──(ψ__txyz(t, x, y, z))\n",
       "                               ∂y                      ∂z                     \n",
       "\n",
       "   ∂                       ∂                    ⎞     ⎛                       \n",
       " + ──(ψ__ty(t, x, y, z)) + ──(ψ__xy(t, x, y, z))⎟⋅γₜ, ⎜-e⋅A__t(t, x, y, z)⋅ψ__\n",
       "   ∂x                      ∂t                   ⎠     ⎝                       \n",
       "\n",
       "                                                                              \n",
       "yz(t, x, y, z) - e⋅A__x(t, x, y, z)⋅ψ__txyz(t, x, y, z) + e⋅A__y(t, x, y, z)⋅ψ\n",
       "                                                                              \n",
       "\n",
       "                                                                              \n",
       "__tz(t, x, y, z) - e⋅A__z(t, x, y, z)⋅ψ__ty(t, x, y, z) - m⋅ψ__yz(t, x, y, z) \n",
       "                                                                              \n",
       "\n",
       "  ∂                       ∂                         ∂                       ∂ \n",
       "- ──(ψ__tx(t, x, y, z)) + ──(ψ__txyz(t, x, y, z)) + ──(ψ__tz(t, x, y, z)) + ──\n",
       "  ∂z                      ∂y                        ∂x                      ∂t\n",
       "\n",
       "                   ⎞                ⎛                                         \n",
       "(ψ__xz(t, x, y, z))⎟⋅γ_t_y_z__γ__γ, ⎜-e⋅A__t(t, x, y, z)⋅ψ__tx(t, x, y, z) - e\n",
       "                   ⎠                ⎝                                         \n",
       "\n",
       "                                                                              \n",
       "⋅A__x(t, x, y, z)⋅ψ(t, x, y, z) - e⋅A__y(t, x, y, z)⋅ψ__xy(t, x, y, z) - e⋅A__\n",
       "                                                                              \n",
       "\n",
       "                                                        ∂                   ∂ \n",
       "z(t, x, y, z)⋅ψ__xz(t, x, y, z) + m⋅ψ__tx(t, x, y, z) + ──(ψ(t, x, y, z)) - ──\n",
       "                                                        ∂y                  ∂t\n",
       "\n",
       "                      ∂                       ∂                    ⎞     ⎛    \n",
       "(ψ__ty(t, x, y, z)) - ──(ψ__xy(t, x, y, z)) + ──(ψ__yz(t, x, y, z))⎟⋅γₓ, ⎜-e⋅A\n",
       "                      ∂x                      ∂z                   ⎠     ⎝    \n",
       "\n",
       "                                                                              \n",
       "__t(t, x, y, z)⋅ψ__txyz(t, x, y, z) - e⋅A__x(t, x, y, z)⋅ψ__yz(t, x, y, z) + e\n",
       "                                                                              \n",
       "\n",
       "                                                                              \n",
       "⋅A__y(t, x, y, z)⋅ψ__xz(t, x, y, z) - e⋅A__z(t, x, y, z)⋅ψ__xy(t, x, y, z) + m\n",
       "                                                                              \n",
       "\n",
       "                       ∂                   ∂                       ∂          \n",
       "⋅ψ__txyz(t, x, y, z) + ──(ψ(t, x, y, z)) - ──(ψ__tz(t, x, y, z)) - ──(ψ__xz(t,\n",
       "                       ∂z                  ∂t                      ∂x         \n",
       "\n",
       "             ∂                    ⎞                ⎛                          \n",
       " x, y, z)) - ──(ψ__yz(t, x, y, z))⎟⋅γ_x_y_z__γ__γ, ⎜-e⋅A__t(t, x, y, z)⋅ψ__xz(\n",
       "             ∂y                   ⎠                ⎝                          \n",
       "\n",
       "                                                                              \n",
       "t, x, y, z) + e⋅A__x(t, x, y, z)⋅ψ__tz(t, x, y, z) + e⋅A__y(t, x, y, z)⋅ψ__txy\n",
       "                                                                              \n",
       "\n",
       "                                                                             ∂\n",
       "z(t, x, y, z) - e⋅A__z(t, x, y, z)⋅ψ__tx(t, x, y, z) - m⋅ψ__xz(t, x, y, z) + ─\n",
       "                                                                             ∂\n",
       "\n",
       "                         ∂                       ∂                       ∂    \n",
       "─(ψ__txyz(t, x, y, z)) + ──(ψ__ty(t, x, y, z)) - ──(ψ__tz(t, x, y, z)) - ──(ψ_\n",
       "x                        ∂z                      ∂y                      ∂t   \n",
       "\n",
       "                ⎞                ⎛                                            \n",
       "_yz(t, x, y, z))⎟⋅γ_t_x_z__γ__γ, ⎜-e⋅A__t(t, x, y, z)⋅ψ__tz(t, x, y, z) + e⋅A_\n",
       "                ⎠                ⎝                                            \n",
       "\n",
       "                                                                              \n",
       "_x(t, x, y, z)⋅ψ__xz(t, x, y, z) + e⋅A__y(t, x, y, z)⋅ψ__yz(t, x, y, z) - e⋅A_\n",
       "                                                                              \n",
       "\n",
       "                                                     ∂                        \n",
       "_z(t, x, y, z)⋅ψ(t, x, y, z) + m⋅ψ__tz(t, x, y, z) + ──(ψ__txyz(t, x, y, z)) -\n",
       "                                                     ∂t                       \n",
       "\n",
       " ∂                       ∂                       ∂                    ⎞    ⎞\n",
       " ──(ψ__xy(t, x, y, z)) + ──(ψ__xz(t, x, y, z)) - ──(ψ__yz(t, x, y, z))⎟⋅γ_z⎟\n",
       " ∂z                      ∂y                      ∂x                   ⎠    ⎠"
      ]
     },
     "execution_count": 39,
     "metadata": {},
     "output_type": "execute_result"
    }
   ],
   "source": [
    "dirac_eq.obj.args"
   ]
  },
  {
   "cell_type": "code",
   "execution_count": 40,
   "metadata": {},
   "outputs": [
    {
     "data": {
      "text/latex": [
       "$$\\left(- e \\operatorname{A^{t}}{\\left (t,x,y,z \\right )} \\psi^{xy}{\\left (t,x,y,z \\right )} + e \\operatorname{A^{x}}{\\left (t,x,y,z \\right )} \\psi^{ty}{\\left (t,x,y,z \\right )} - e \\operatorname{A^{y}}{\\left (t,x,y,z \\right )} \\psi^{tx}{\\left (t,x,y,z \\right )} - e \\operatorname{A^{z}}{\\left (t,x,y,z \\right )} \\psi^{txyz}{\\left (t,x,y,z \\right )} - m \\psi^{xy}{\\left (t,x,y,z \\right )} - \\frac{\\partial}{\\partial t} \\psi{\\left (t,x,y,z \\right )} + \\frac{\\partial}{\\partial x} \\psi^{tx}{\\left (t,x,y,z \\right )} + \\frac{\\partial}{\\partial y} \\psi^{ty}{\\left (t,x,y,z \\right )} + \\frac{\\partial}{\\partial z} \\psi^{tz}{\\left (t,x,y,z \\right )}\\right) \\gamma^{\\gamma \\gamma}_{t x y}$$"
      ],
      "text/plain": [
       "⎛                                                                             \n",
       "⎜-e⋅A__t(t, x, y, z)⋅ψ__xy(t, x, y, z) + e⋅A__x(t, x, y, z)⋅ψ__ty(t, x, y, z) \n",
       "⎝                                                                             \n",
       "\n",
       "                                                                              \n",
       "- e⋅A__y(t, x, y, z)⋅ψ__tx(t, x, y, z) - e⋅A__z(t, x, y, z)⋅ψ__txyz(t, x, y, z\n",
       "                                                                              \n",
       "\n",
       "                          ∂                   ∂                       ∂       \n",
       ") - m⋅ψ__xy(t, x, y, z) - ──(ψ(t, x, y, z)) + ──(ψ__tx(t, x, y, z)) + ──(ψ__ty\n",
       "                          ∂t                  ∂x                      ∂y      \n",
       "\n",
       "                ∂                    ⎞              \n",
       "(t, x, y, z)) + ──(ψ__tz(t, x, y, z))⎟⋅γ_t_x_y__γ__γ\n",
       "                ∂z                   ⎠              "
      ]
     },
     "execution_count": 40,
     "metadata": {},
     "output_type": "execute_result"
    }
   ],
   "source": [
    "arg = dirac_eq.obj.args[0]\n",
    "arg"
   ]
  },
  {
   "cell_type": "code",
   "execution_count": 41,
   "metadata": {},
   "outputs": [],
   "source": [
    "c, nc = arg.args_cnc()"
   ]
  },
  {
   "cell_type": "code",
   "execution_count": 42,
   "metadata": {},
   "outputs": [
    {
     "data": {
      "text/latex": [
       "$$\\left [ - e \\operatorname{A^{t}}{\\left (t,x,y,z \\right )} \\psi^{xy}{\\left (t,x,y,z \\right )} + e \\operatorname{A^{x}}{\\left (t,x,y,z \\right )} \\psi^{ty}{\\left (t,x,y,z \\right )} - e \\operatorname{A^{y}}{\\left (t,x,y,z \\right )} \\psi^{tx}{\\left (t,x,y,z \\right )} - e \\operatorname{A^{z}}{\\left (t,x,y,z \\right )} \\psi^{txyz}{\\left (t,x,y,z \\right )} - m \\psi^{xy}{\\left (t,x,y,z \\right )} - \\frac{\\partial}{\\partial t} \\psi{\\left (t,x,y,z \\right )} + \\frac{\\partial}{\\partial x} \\psi^{tx}{\\left (t,x,y,z \\right )} + \\frac{\\partial}{\\partial y} \\psi^{ty}{\\left (t,x,y,z \\right )} + \\frac{\\partial}{\\partial z} \\psi^{tz}{\\left (t,x,y,z \\right )}\\right ]$$"
      ],
      "text/plain": [
       "⎡                                                                             \n",
       "⎢-e⋅A__t(t, x, y, z)⋅ψ__xy(t, x, y, z) + e⋅A__x(t, x, y, z)⋅ψ__ty(t, x, y, z) \n",
       "⎣                                                                             \n",
       "\n",
       "                                                                              \n",
       "- e⋅A__y(t, x, y, z)⋅ψ__tx(t, x, y, z) - e⋅A__z(t, x, y, z)⋅ψ__txyz(t, x, y, z\n",
       "                                                                              \n",
       "\n",
       "                          ∂                   ∂                       ∂       \n",
       ") - m⋅ψ__xy(t, x, y, z) - ──(ψ(t, x, y, z)) + ──(ψ__tx(t, x, y, z)) + ──(ψ__ty\n",
       "                          ∂t                  ∂x                      ∂y      \n",
       "\n",
       "                ∂                    ⎤\n",
       "(t, x, y, z)) + ──(ψ__tz(t, x, y, z))⎥\n",
       "                ∂z                   ⎦"
      ]
     },
     "execution_count": 42,
     "metadata": {},
     "output_type": "execute_result"
    }
   ],
   "source": [
    "c"
   ]
  },
  {
   "cell_type": "code",
   "execution_count": 43,
   "metadata": {},
   "outputs": [
    {
     "data": {
      "text/latex": [
       "$$\\left [ \\gamma^{\\gamma \\gamma}_{t x y}\\right ]$$"
      ],
      "text/plain": [
       "[γ_t_x_y__γ__γ]"
      ]
     },
     "execution_count": 43,
     "metadata": {},
     "output_type": "execute_result"
    }
   ],
   "source": [
    "nc"
   ]
  },
  {
   "cell_type": "code",
   "execution_count": 44,
   "metadata": {},
   "outputs": [],
   "source": [
    "from functools import reduce"
   ]
  },
  {
   "cell_type": "code",
   "execution_count": 45,
   "metadata": {},
   "outputs": [],
   "source": [
    "c = reduce(sympy.mul, c)"
   ]
  },
  {
   "cell_type": "code",
   "execution_count": 46,
   "metadata": {},
   "outputs": [
    {
     "data": {
      "text/latex": [
       "$$- e \\operatorname{A^{t}}{\\left (t,x,y,z \\right )} \\psi^{xy}{\\left (t,x,y,z \\right )} + e \\operatorname{A^{x}}{\\left (t,x,y,z \\right )} \\psi^{ty}{\\left (t,x,y,z \\right )} - e \\operatorname{A^{y}}{\\left (t,x,y,z \\right )} \\psi^{tx}{\\left (t,x,y,z \\right )} - e \\operatorname{A^{z}}{\\left (t,x,y,z \\right )} \\psi^{txyz}{\\left (t,x,y,z \\right )} - m \\psi^{xy}{\\left (t,x,y,z \\right )} - \\frac{\\partial}{\\partial t} \\psi{\\left (t,x,y,z \\right )} + \\frac{\\partial}{\\partial x} \\psi^{tx}{\\left (t,x,y,z \\right )} + \\frac{\\partial}{\\partial y} \\psi^{ty}{\\left (t,x,y,z \\right )} + \\frac{\\partial}{\\partial z} \\psi^{tz}{\\left (t,x,y,z \\right )}$$"
      ],
      "text/plain": [
       "                                                                              \n",
       "-e⋅A__t(t, x, y, z)⋅ψ__xy(t, x, y, z) + e⋅A__x(t, x, y, z)⋅ψ__ty(t, x, y, z) -\n",
       "                                                                              \n",
       "\n",
       "                                                                              \n",
       " e⋅A__y(t, x, y, z)⋅ψ__tx(t, x, y, z) - e⋅A__z(t, x, y, z)⋅ψ__txyz(t, x, y, z)\n",
       "                                                                              \n",
       "\n",
       "                         ∂                   ∂                       ∂        \n",
       " - m⋅ψ__xy(t, x, y, z) - ──(ψ(t, x, y, z)) + ──(ψ__tx(t, x, y, z)) + ──(ψ__ty(\n",
       "                         ∂t                  ∂x                      ∂y       \n",
       "\n",
       "               ∂                    \n",
       "t, x, y, z)) + ──(ψ__tz(t, x, y, z))\n",
       "               ∂z                   "
      ]
     },
     "execution_count": 46,
     "metadata": {},
     "output_type": "execute_result"
    }
   ],
   "source": [
    "c"
   ]
  },
  {
   "cell_type": "code",
   "execution_count": 47,
   "metadata": {},
   "outputs": [
    {
     "data": {
      "text/plain": [
       "True"
      ]
     },
     "execution_count": 47,
     "metadata": {},
     "output_type": "execute_result"
    }
   ],
   "source": [
    "nc[0] in dirac_eq.Ga.blades_lst"
   ]
  },
  {
   "cell_type": "code",
   "execution_count": 48,
   "metadata": {},
   "outputs": [
    {
     "data": {
      "text/latex": [
       "$$10$$"
      ],
      "text/plain": [
       "10"
      ]
     },
     "execution_count": 48,
     "metadata": {},
     "output_type": "execute_result"
    }
   ],
   "source": [
    "dirac_eq.Ga.blades_lst.index(nc[0])"
   ]
  },
  {
   "cell_type": "code",
   "execution_count": 49,
   "metadata": {},
   "outputs": [
    {
     "data": {
      "text/latex": [
       "$$- e \\operatorname{A^{t}}{\\left (t,x,y,z \\right )} \\psi^{xy}{\\left (t,x,y,z \\right )} + e \\operatorname{A^{x}}{\\left (t,x,y,z \\right )} \\psi^{ty}{\\left (t,x,y,z \\right )} - e \\operatorname{A^{y}}{\\left (t,x,y,z \\right )} \\psi^{tx}{\\left (t,x,y,z \\right )} - e \\operatorname{A^{z}}{\\left (t,x,y,z \\right )} \\psi^{txyz}{\\left (t,x,y,z \\right )} - m \\psi^{xy}{\\left (t,x,y,z \\right )} - \\frac{\\partial}{\\partial t} \\psi{\\left (t,x,y,z \\right )} + \\frac{\\partial}{\\partial x} \\psi^{tx}{\\left (t,x,y,z \\right )} + \\frac{\\partial}{\\partial y} \\psi^{ty}{\\left (t,x,y,z \\right )} + \\frac{\\partial}{\\partial z} \\psi^{tz}{\\left (t,x,y,z \\right )}$$"
      ],
      "text/plain": [
       "                                                                              \n",
       "-e⋅A__t(t, x, y, z)⋅ψ__xy(t, x, y, z) + e⋅A__x(t, x, y, z)⋅ψ__ty(t, x, y, z) -\n",
       "                                                                              \n",
       "\n",
       "                                                                              \n",
       " e⋅A__y(t, x, y, z)⋅ψ__tx(t, x, y, z) - e⋅A__z(t, x, y, z)⋅ψ__txyz(t, x, y, z)\n",
       "                                                                              \n",
       "\n",
       "                         ∂                   ∂                       ∂        \n",
       " - m⋅ψ__xy(t, x, y, z) - ──(ψ(t, x, y, z)) + ──(ψ__tx(t, x, y, z)) + ──(ψ__ty(\n",
       "                         ∂t                  ∂x                      ∂y       \n",
       "\n",
       "               ∂                    \n",
       "t, x, y, z)) + ──(ψ__tz(t, x, y, z))\n",
       "               ∂z                   "
      ]
     },
     "execution_count": 49,
     "metadata": {},
     "output_type": "execute_result"
    }
   ],
   "source": [
    "c = reduce(sympy.mul, [c])\n",
    "c"
   ]
  },
  {
   "cell_type": "code",
   "execution_count": 50,
   "metadata": {},
   "outputs": [
    {
     "data": {
      "text/latex": [
       "$$- e \\operatorname{A^{t}}{\\left (t,x,y,z \\right )} \\psi^{xy}{\\left (t,x,y,z \\right )} + e \\operatorname{A^{x}}{\\left (t,x,y,z \\right )} \\psi^{ty}{\\left (t,x,y,z \\right )} - e \\operatorname{A^{y}}{\\left (t,x,y,z \\right )} \\psi^{tx}{\\left (t,x,y,z \\right )} - e \\operatorname{A^{z}}{\\left (t,x,y,z \\right )} \\psi^{txyz}{\\left (t,x,y,z \\right )} - m \\psi^{xy}{\\left (t,x,y,z \\right )} - \\frac{\\partial}{\\partial t} \\psi{\\left (t,x,y,z \\right )} + \\frac{\\partial}{\\partial x} \\psi^{tx}{\\left (t,x,y,z \\right )} + \\frac{\\partial}{\\partial y} \\psi^{ty}{\\left (t,x,y,z \\right )} + \\frac{\\partial}{\\partial z} \\psi^{tz}{\\left (t,x,y,z \\right )}$$"
      ],
      "text/plain": [
       "                                                                              \n",
       "-e⋅A__t(t, x, y, z)⋅ψ__xy(t, x, y, z) + e⋅A__x(t, x, y, z)⋅ψ__ty(t, x, y, z) -\n",
       "                                                                              \n",
       "\n",
       "                                                                              \n",
       " e⋅A__y(t, x, y, z)⋅ψ__tx(t, x, y, z) - e⋅A__z(t, x, y, z)⋅ψ__txyz(t, x, y, z)\n",
       "                                                                              \n",
       "\n",
       "                         ∂                   ∂                       ∂        \n",
       " - m⋅ψ__xy(t, x, y, z) - ──(ψ(t, x, y, z)) + ──(ψ__tx(t, x, y, z)) + ──(ψ__ty(\n",
       "                         ∂t                  ∂x                      ∂y       \n",
       "\n",
       "               ∂                    \n",
       "t, x, y, z)) + ──(ψ__tz(t, x, y, z))\n",
       "               ∂z                   "
      ]
     },
     "execution_count": 50,
     "metadata": {},
     "output_type": "execute_result"
    }
   ],
   "source": [
    "c.simplify()"
   ]
  },
  {
   "cell_type": "code",
   "execution_count": 51,
   "metadata": {},
   "outputs": [
    {
     "data": {
      "text/latex": [
       "$$\\left ( - \\frac{\\partial}{\\partial t} \\psi{\\left (t,x,y,z \\right )}, \\quad - m \\psi^{xy}{\\left (t,x,y,z \\right )}, \\quad e \\operatorname{A^{x}}{\\left (t,x,y,z \\right )} \\psi^{ty}{\\left (t,x,y,z \\right )}, \\quad - e \\operatorname{A^{t}}{\\left (t,x,y,z \\right )} \\psi^{xy}{\\left (t,x,y,z \\right )}, \\quad - e \\operatorname{A^{y}}{\\left (t,x,y,z \\right )} \\psi^{tx}{\\left (t,x,y,z \\right )}, \\quad - e \\operatorname{A^{z}}{\\left (t,x,y,z \\right )} \\psi^{txyz}{\\left (t,x,y,z \\right )}, \\quad \\frac{\\partial}{\\partial x} \\psi^{tx}{\\left (t,x,y,z \\right )}, \\quad \\frac{\\partial}{\\partial y} \\psi^{ty}{\\left (t,x,y,z \\right )}, \\quad \\frac{\\partial}{\\partial z} \\psi^{tz}{\\left (t,x,y,z \\right )}\\right )$$"
      ],
      "text/plain": [
       "⎛ ∂                                                                           \n",
       "⎜-──(ψ(t, x, y, z)), -m⋅ψ__xy(t, x, y, z), e⋅A__x(t, x, y, z)⋅ψ__ty(t, x, y, z\n",
       "⎝ ∂t                                                                          \n",
       "\n",
       "                                                                              \n",
       "), -e⋅A__t(t, x, y, z)⋅ψ__xy(t, x, y, z), -e⋅A__y(t, x, y, z)⋅ψ__tx(t, x, y, z\n",
       "                                                                              \n",
       "\n",
       "                                            ∂                      ∂          \n",
       "), -e⋅A__z(t, x, y, z)⋅ψ__txyz(t, x, y, z), ──(ψ__tx(t, x, y, z)), ──(ψ__ty(t,\n",
       "                                            ∂x                     ∂y         \n",
       "\n",
       "            ∂                    ⎞\n",
       " x, y, z)), ──(ψ__tz(t, x, y, z))⎟\n",
       "            ∂z                   ⎠"
      ]
     },
     "execution_count": 51,
     "metadata": {},
     "output_type": "execute_result"
    }
   ],
   "source": [
    "c.args"
   ]
  },
  {
   "cell_type": "code",
   "execution_count": 52,
   "metadata": {},
   "outputs": [],
   "source": [
    "from galgebra.mv import Mv"
   ]
  },
  {
   "cell_type": "code",
   "execution_count": 53,
   "metadata": {},
   "outputs": [
    {
     "data": {
      "text/plain": [
       "False"
      ]
     },
     "execution_count": 53,
     "metadata": {},
     "output_type": "execute_result"
    }
   ],
   "source": [
    "isinstance(c, Mv)"
   ]
  },
  {
   "cell_type": "code",
   "execution_count": 54,
   "metadata": {},
   "outputs": [
    {
     "data": {
      "text/plain": [
       "sympy.core.add.Add"
      ]
     },
     "execution_count": 54,
     "metadata": {},
     "output_type": "execute_result"
    }
   ],
   "source": [
    "type(c)"
   ]
  },
  {
   "cell_type": "code",
   "execution_count": 55,
   "metadata": {},
   "outputs": [
    {
     "data": {
      "text/latex": [
       "$$- e \\operatorname{A^{t}}{\\left (t,x,y,z \\right )} \\psi^{xy}{\\left (t,x,y,z \\right )} - m \\psi^{xy}{\\left (t,x,y,z \\right )}$$"
      ],
      "text/plain": [
       "-e⋅A__t(t, x, y, z)⋅ψ__xy(t, x, y, z) - m⋅ψ__xy(t, x, y, z)"
      ]
     },
     "execution_count": 55,
     "metadata": {},
     "output_type": "execute_result"
    }
   ],
   "source": [
    "c.args[1] + c.args[3]"
   ]
  },
  {
   "cell_type": "code",
   "execution_count": 56,
   "metadata": {},
   "outputs": [
    {
     "data": {
      "text/latex": [
       "$$- e \\operatorname{A^{t}}{\\left (t,x,y,z \\right )} \\psi^{xy}{\\left (t,x,y,z \\right )} - m \\psi^{xy}{\\left (t,x,y,z \\right )}$$"
      ],
      "text/plain": [
       "-e⋅A__t(t, x, y, z)⋅ψ__xy(t, x, y, z) - m⋅ψ__xy(t, x, y, z)"
      ]
     },
     "execution_count": 56,
     "metadata": {},
     "output_type": "execute_result"
    }
   ],
   "source": [
    "(c.args[1] + c.args[3]).expand()"
   ]
  },
  {
   "cell_type": "code",
   "execution_count": 57,
   "metadata": {},
   "outputs": [
    {
     "data": {
      "text/latex": [
       "$$- \\left(e \\operatorname{A^{t}}{\\left (t,x,y,z \\right )} + m\\right) \\psi^{xy}{\\left (t,x,y,z \\right )}$$"
      ],
      "text/plain": [
       "-(e⋅A__t(t, x, y, z) + m)⋅ψ__xy(t, x, y, z)"
      ]
     },
     "execution_count": 57,
     "metadata": {},
     "output_type": "execute_result"
    }
   ],
   "source": [
    "(c.args[1] + c.args[3]).simplify()"
   ]
  },
  {
   "cell_type": "code",
   "execution_count": 58,
   "metadata": {},
   "outputs": [
    {
     "data": {
      "text/latex": [
       "$$- e \\operatorname{A^{t}}{\\left (t,x,y,z \\right )} \\psi^{xy}{\\left (t,x,y,z \\right )} + e \\operatorname{A^{x}}{\\left (t,x,y,z \\right )} \\psi^{ty}{\\left (t,x,y,z \\right )} - e \\operatorname{A^{y}}{\\left (t,x,y,z \\right )} \\psi^{tx}{\\left (t,x,y,z \\right )} - e \\operatorname{A^{z}}{\\left (t,x,y,z \\right )} \\psi^{txyz}{\\left (t,x,y,z \\right )} - m \\psi^{xy}{\\left (t,x,y,z \\right )} - \\frac{\\partial}{\\partial t} \\psi{\\left (t,x,y,z \\right )} + \\frac{\\partial}{\\partial x} \\psi^{tx}{\\left (t,x,y,z \\right )} + \\frac{\\partial}{\\partial y} \\psi^{ty}{\\left (t,x,y,z \\right )} + \\frac{\\partial}{\\partial z} \\psi^{tz}{\\left (t,x,y,z \\right )}$$"
      ],
      "text/plain": [
       "                                                                              \n",
       "-e⋅A__t(t, x, y, z)⋅ψ__xy(t, x, y, z) + e⋅A__x(t, x, y, z)⋅ψ__ty(t, x, y, z) -\n",
       "                                                                              \n",
       "\n",
       "                                                                              \n",
       " e⋅A__y(t, x, y, z)⋅ψ__tx(t, x, y, z) - e⋅A__z(t, x, y, z)⋅ψ__txyz(t, x, y, z)\n",
       "                                                                              \n",
       "\n",
       "                         ∂                   ∂                       ∂        \n",
       " - m⋅ψ__xy(t, x, y, z) - ──(ψ(t, x, y, z)) + ──(ψ__tx(t, x, y, z)) + ──(ψ__ty(\n",
       "                         ∂t                  ∂x                      ∂y       \n",
       "\n",
       "               ∂                    \n",
       "t, x, y, z)) + ──(ψ__tz(t, x, y, z))\n",
       "               ∂z                   "
      ]
     },
     "execution_count": 58,
     "metadata": {},
     "output_type": "execute_result"
    }
   ],
   "source": [
    "c.simplify()"
   ]
  },
  {
   "cell_type": "code",
   "execution_count": 59,
   "metadata": {},
   "outputs": [
    {
     "data": {
      "text/plain": [
       "\"Add(Mul(Integer(-1), Symbol('e'), Function('A__t')(Symbol('t', real=True), Symbol('x', real=True), Symbol('y', real=True), Symbol('z', real=True)), Function('psi__xy')(Symbol('t', real=True), Symbol('x', real=True), Symbol('y', real=True), Symbol('z', real=True))), Mul(Symbol('e'), Function('A__x')(Symbol('t', real=True), Symbol('x', real=True), Symbol('y', real=True), Symbol('z', real=True)), Function('psi__ty')(Symbol('t', real=True), Symbol('x', real=True), Symbol('y', real=True), Symbol('z', real=True))), Mul(Integer(-1), Symbol('e'), Function('A__y')(Symbol('t', real=True), Symbol('x', real=True), Symbol('y', real=True), Symbol('z', real=True)), Function('psi__tx')(Symbol('t', real=True), Symbol('x', real=True), Symbol('y', real=True), Symbol('z', real=True))), Mul(Integer(-1), Symbol('e'), Function('A__z')(Symbol('t', real=True), Symbol('x', real=True), Symbol('y', real=True), Symbol('z', real=True)), Function('psi__txyz')(Symbol('t', real=True), Symbol('x', real=True), Symbol('y', real=True), Symbol('z', real=True))), Mul(Integer(-1), Symbol('m'), Function('psi__xy')(Symbol('t', real=True), Symbol('x', real=True), Symbol('y', real=True), Symbol('z', real=True))), Mul(Integer(-1), Derivative(Function('psi')(Symbol('t', real=True), Symbol('x', real=True), Symbol('y', real=True), Symbol('z', real=True)), Tuple(Symbol('t', real=True), Integer(1)))), Derivative(Function('psi__tx')(Symbol('t', real=True), Symbol('x', real=True), Symbol('y', real=True), Symbol('z', real=True)), Tuple(Symbol('x', real=True), Integer(1))), Derivative(Function('psi__ty')(Symbol('t', real=True), Symbol('x', real=True), Symbol('y', real=True), Symbol('z', real=True)), Tuple(Symbol('y', real=True), Integer(1))), Derivative(Function('psi__tz')(Symbol('t', real=True), Symbol('x', real=True), Symbol('y', real=True), Symbol('z', real=True)), Tuple(Symbol('z', real=True), Integer(1))))\""
      ]
     },
     "execution_count": 59,
     "metadata": {},
     "output_type": "execute_result"
    }
   ],
   "source": [
    "sympy.srepr(c)"
   ]
  },
  {
   "cell_type": "code",
   "execution_count": 60,
   "metadata": {},
   "outputs": [
    {
     "data": {
      "text/plain": [
       "\"Mul(Integer(-1), Symbol('m'), Function('psi__xy')(Symbol('t', real=True), Symbol('x', real=True), Symbol('y', real=True), Symbol('z', real=True)))\""
      ]
     },
     "execution_count": 60,
     "metadata": {},
     "output_type": "execute_result"
    }
   ],
   "source": [
    "sympy.srepr(c.args[1])"
   ]
  },
  {
   "cell_type": "code",
   "execution_count": 61,
   "metadata": {},
   "outputs": [
    {
     "data": {
      "text/plain": [
       "\"Mul(Integer(-1), Symbol('e'), Function('A__t')(Symbol('t', real=True), Symbol('x', real=True), Symbol('y', real=True), Symbol('z', real=True)), Function('psi__xy')(Symbol('t', real=True), Symbol('x', real=True), Symbol('y', real=True), Symbol('z', real=True)))\""
      ]
     },
     "execution_count": 61,
     "metadata": {},
     "output_type": "execute_result"
    }
   ],
   "source": [
    "sympy.srepr(c.args[3])"
   ]
  },
  {
   "cell_type": "code",
   "execution_count": 62,
   "metadata": {},
   "outputs": [
    {
     "data": {
      "text/latex": [
       "$$\\left ( -1, \\quad e, \\quad \\operatorname{A^{t}}{\\left (t,x,y,z \\right )}, \\quad \\psi^{xy}{\\left (t,x,y,z \\right )}\\right )$$"
      ],
      "text/plain": [
       "(-1, e, A__t(t, x, y, z), ψ__xy(t, x, y, z))"
      ]
     },
     "execution_count": 62,
     "metadata": {},
     "output_type": "execute_result"
    }
   ],
   "source": [
    "c.args[3].args"
   ]
  },
  {
   "cell_type": "code",
   "execution_count": 63,
   "metadata": {},
   "outputs": [
    {
     "data": {
      "text/latex": [
       "$$\\left [ \\left [ -1, \\quad e, \\quad \\operatorname{A^{t}}{\\left (t,x,y,z \\right )}, \\quad \\psi^{xy}{\\left (t,x,y,z \\right )}\\right ], \\quad \\left [ \\right ]\\right ]$$"
      ],
      "text/plain": [
       "[[-1, e, A__t(t, x, y, z), ψ__xy(t, x, y, z)], []]"
      ]
     },
     "execution_count": 63,
     "metadata": {},
     "output_type": "execute_result"
    }
   ],
   "source": [
    "c.args[3].args_cnc()"
   ]
  },
  {
   "cell_type": "code",
   "execution_count": 64,
   "metadata": {},
   "outputs": [
    {
     "data": {
      "text/latex": [
       "$$\\psi{\\left (t,x,y,z \\right )} + \\psi^{tx}{\\left (t,x,y,z \\right )} \\gamma^{\\gamma}_{t x} + \\psi^{txyz}{\\left (t,x,y,z \\right )} \\gamma^{\\gamma \\gamma \\gamma}_{t x y z} + \\psi^{ty}{\\left (t,x,y,z \\right )} \\gamma^{\\gamma}_{t y} + \\psi^{tz}{\\left (t,x,y,z \\right )} \\gamma^{\\gamma}_{t z} + \\psi^{xy}{\\left (t,x,y,z \\right )} \\gamma^{\\gamma}_{x y} + \\psi^{xz}{\\left (t,x,y,z \\right )} \\gamma^{\\gamma}_{x z} + \\psi^{yz}{\\left (t,x,y,z \\right )} \\gamma^{\\gamma}_{y z}$$"
      ],
      "text/plain": [
       "ψ(t, x, y, z) + ψ__tx(t, x, y, z)⋅γ_t_x__γ + ψ__txyz(t, x, y, z)⋅γ_t_x_y_z__γ_\n",
       "_γ__γ + ψ__ty(t, x, y, z)⋅γ_t_y__γ + ψ__tz(t, x, y, z)⋅γ_t_z__γ + ψ__xy(t, x, \n",
       "y, z)⋅γ_x_y__γ + ψ__xz(t, x, y, z)⋅γ_x_z__γ + ψ__yz(t, x, y, z)⋅γ_y_z__γ"
      ]
     },
     "execution_count": 64,
     "metadata": {},
     "output_type": "execute_result"
    }
   ],
   "source": [
    "psi.obj.collect(psi.Ga.blades_lst)"
   ]
  },
  {
   "cell_type": "code",
   "execution_count": 65,
   "metadata": {},
   "outputs": [
    {
     "data": {
      "text/plain": [
       "True"
      ]
     },
     "execution_count": 65,
     "metadata": {},
     "output_type": "execute_result"
    }
   ],
   "source": [
    "isinstance(psi, Mv)"
   ]
  },
  {
   "cell_type": "code",
   "execution_count": 66,
   "metadata": {},
   "outputs": [
    {
     "data": {
      "text/plain": [
       "[[],\n",
       " ['t', 'x', 'y', 'z'],\n",
       " ['tx', 'ty', 'tz', 'xy', 'xz', 'yz'],\n",
       " ['txy', 'txz', 'tyz', 'xyz'],\n",
       " ['txyz']]"
      ]
     },
     "execution_count": 66,
     "metadata": {},
     "output_type": "execute_result"
    }
   ],
   "source": [
    "psi.Ga.blade_super_scripts"
   ]
  },
  {
   "cell_type": "code",
   "execution_count": 67,
   "metadata": {},
   "outputs": [
    {
     "data": {
      "text/latex": [
       "$$\\left [ \\left [ \\right ], \\quad \\left [ \\gamma_{t}, \\quad \\gamma_{x}, \\quad \\gamma_{y}, \\quad \\gamma_{z}\\right ], \\quad \\left [ \\gamma^{\\gamma}_{t x}, \\quad \\gamma^{\\gamma}_{t y}, \\quad \\gamma^{\\gamma}_{t z}, \\quad \\gamma^{\\gamma}_{x y}, \\quad \\gamma^{\\gamma}_{x z}, \\quad \\gamma^{\\gamma}_{y z}\\right ], \\quad \\left [ \\gamma^{\\gamma \\gamma}_{t x y}, \\quad \\gamma^{\\gamma \\gamma}_{t x z}, \\quad \\gamma^{\\gamma \\gamma}_{t y z}, \\quad \\gamma^{\\gamma \\gamma}_{x y z}\\right ], \\quad \\left [ \\gamma^{\\gamma \\gamma \\gamma}_{t x y z}\\right ]\\right ]$$"
      ],
      "text/plain": [
       "[[], [γₜ, γₓ, γ_y, γ_z], [γ_t_x__γ, γ_t_y__γ, γ_t_z__γ, γ_x_y__γ, γ_x_z__γ, γ_\n",
       "y_z__γ], [γ_t_x_y__γ__γ, γ_t_x_z__γ__γ, γ_t_y_z__γ__γ, γ_x_y_z__γ__γ], [γ_t_x_\n",
       "y_z__γ__γ__γ]]"
      ]
     },
     "execution_count": 67,
     "metadata": {},
     "output_type": "execute_result"
    }
   ],
   "source": [
    "psi.Ga.blades"
   ]
  },
  {
   "cell_type": "code",
   "execution_count": 68,
   "metadata": {},
   "outputs": [
    {
     "data": {
      "text/plain": [
       "True"
      ]
     },
     "execution_count": 68,
     "metadata": {},
     "output_type": "execute_result"
    }
   ],
   "source": [
    "dirac_eq.Ga.wedge_print"
   ]
  },
  {
   "cell_type": "code",
   "execution_count": 69,
   "metadata": {},
   "outputs": [],
   "source": [
    "dirac_eq.Ga.wedge_print = False"
   ]
  },
  {
   "cell_type": "code",
   "execution_count": 70,
   "metadata": {},
   "outputs": [
    {
     "data": {
      "text/latex": [
       "\\begin{equation*} \\left ( - e A^{t}  \\psi   - e A^{x}  \\psi ^{tx}  - e A^{y}  \\psi ^{ty}  - e A^{z}  \\psi ^{tz}  - m \\psi   - \\partial_{y} \\psi ^{tx}  - \\partial_{z} \\psi ^{txyz}  + \\partial_{x} \\psi ^{ty}  + \\partial_{t} \\psi ^{xy} \\right ) \\boldsymbol{\\gamma }_{t} + \\left ( - e A^{t}  \\psi ^{tx}  - e A^{x}  \\psi   - e A^{y}  \\psi ^{xy}  - e A^{z}  \\psi ^{xz}  + m \\psi ^{tx}  + \\partial_{y} \\psi   - \\partial_{t} \\psi ^{ty}  - \\partial_{x} \\psi ^{xy}  + \\partial_{z} \\psi ^{yz} \\right ) \\boldsymbol{\\gamma }_{x} + \\left ( - e A^{t}  \\psi ^{ty}  + e A^{x}  \\psi ^{xy}  - e A^{y}  \\psi   - e A^{z}  \\psi ^{yz}  + m \\psi ^{ty}  - \\partial_{x} \\psi   + \\partial_{t} \\psi ^{tx}  - \\partial_{y} \\psi ^{xy}  - \\partial_{z} \\psi ^{xz} \\right ) \\boldsymbol{\\gamma }_{y} + \\left ( - e A^{t}  \\psi ^{tz}  + e A^{x}  \\psi ^{xz}  + e A^{y}  \\psi ^{yz}  - e A^{z}  \\psi   + m \\psi ^{tz}  + \\partial_{t} \\psi ^{txyz}  - \\partial_{z} \\psi ^{xy}  + \\partial_{y} \\psi ^{xz}  - \\partial_{x} \\psi ^{yz} \\right ) \\boldsymbol{\\gamma }_{z} + \\left ( - e A^{t}  \\psi ^{xy}  + e A^{x}  \\psi ^{ty}  - e A^{y}  \\psi ^{tx}  - e A^{z}  \\psi ^{txyz}  - m \\psi ^{xy}  - \\partial_{t} \\psi   + \\partial_{x} \\psi ^{tx}  + \\partial_{y} \\psi ^{ty}  + \\partial_{z} \\psi ^{tz} \\right ) \\boldsymbol{\\gamma }_{t}\\wedge \\boldsymbol{\\gamma }_{x}\\wedge \\boldsymbol{\\gamma }_{y} + \\left ( - e A^{t}  \\psi ^{xz}  + e A^{x}  \\psi ^{tz}  + e A^{y}  \\psi ^{txyz}  - e A^{z}  \\psi ^{tx}  - m \\psi ^{xz}  + \\partial_{x} \\psi ^{txyz}  + \\partial_{z} \\psi ^{ty}  - \\partial_{y} \\psi ^{tz}  - \\partial_{t} \\psi ^{yz} \\right ) \\boldsymbol{\\gamma }_{t}\\wedge \\boldsymbol{\\gamma }_{x}\\wedge \\boldsymbol{\\gamma }_{z} + \\left ( - e A^{t}  \\psi ^{yz}  - e A^{x}  \\psi ^{txyz}  + e A^{y}  \\psi ^{tz}  - e A^{z}  \\psi ^{ty}  - m \\psi ^{yz}  - \\partial_{z} \\psi ^{tx}  + \\partial_{y} \\psi ^{txyz}  + \\partial_{x} \\psi ^{tz}  + \\partial_{t} \\psi ^{xz} \\right ) \\boldsymbol{\\gamma }_{t}\\wedge \\boldsymbol{\\gamma }_{y}\\wedge \\boldsymbol{\\gamma }_{z} + \\left ( - e A^{t}  \\psi ^{txyz}  - e A^{x}  \\psi ^{yz}  + e A^{y}  \\psi ^{xz}  - e A^{z}  \\psi ^{xy}  + m \\psi ^{txyz}  + \\partial_{z} \\psi   - \\partial_{t} \\psi ^{tz}  - \\partial_{x} \\psi ^{xz}  - \\partial_{y} \\psi ^{yz} \\right ) \\boldsymbol{\\gamma }_{x}\\wedge \\boldsymbol{\\gamma }_{y}\\wedge \\boldsymbol{\\gamma }_{z} \\end{equation*}"
      ],
      "text/plain": [
       "\\left ( - e A^{t}  \\psi   - e A^{x}  \\psi ^{tx}  - e A^{y}  \\psi ^{ty}  - e A^{z}  \\psi ^{tz}  - m \\psi   - \\partial_{y} \\psi ^{tx}  - \\partial_{z} \\psi ^{txyz}  + \\partial_{x} \\psi ^{ty}  + \\partial_{t} \\psi ^{xy} \\right ) \\boldsymbol{\\gamma }_{t} + \\left ( - e A^{t}  \\psi ^{tx}  - e A^{x}  \\psi   - e A^{y}  \\psi ^{xy}  - e A^{z}  \\psi ^{xz}  + m \\psi ^{tx}  + \\partial_{y} \\psi   - \\partial_{t} \\psi ^{ty}  - \\partial_{x} \\psi ^{xy}  + \\partial_{z} \\psi ^{yz} \\right ) \\boldsymbol{\\gamma }_{x} + \\left ( - e A^{t}  \\psi ^{ty}  + e A^{x}  \\psi ^{xy}  - e A^{y}  \\psi   - e A^{z}  \\psi ^{yz}  + m \\psi ^{ty}  - \\partial_{x} \\psi   + \\partial_{t} \\psi ^{tx}  - \\partial_{y} \\psi ^{xy}  - \\partial_{z} \\psi ^{xz} \\right ) \\boldsymbol{\\gamma }_{y} + \\left ( - e A^{t}  \\psi ^{tz}  + e A^{x}  \\psi ^{xz}  + e A^{y}  \\psi ^{yz}  - e A^{z}  \\psi   + m \\psi ^{tz}  + \\partial_{t} \\psi ^{txyz}  - \\partial_{z} \\psi ^{xy}  + \\partial_{y} \\psi ^{xz}  - \\partial_{x} \\psi ^{yz} \\right ) \\boldsymbol{\\gamma }_{z} + \\left ( - e A^{t}  \\psi ^{xy}  + e A^{x}  \\psi ^{ty}  - e A^{y}  \\psi ^{tx}  - e A^{z}  \\psi ^{txyz}  - m \\psi ^{xy}  - \\partial_{t} \\psi   + \\partial_{x} \\psi ^{tx}  + \\partial_{y} \\psi ^{ty}  + \\partial_{z} \\psi ^{tz} \\right ) \\boldsymbol{\\gamma }_{t}\\wedge \\boldsymbol{\\gamma }_{x}\\wedge \\boldsymbol{\\gamma }_{y} + \\left ( - e A^{t}  \\psi ^{xz}  + e A^{x}  \\psi ^{tz}  + e A^{y}  \\psi ^{txyz}  - e A^{z}  \\psi ^{tx}  - m \\psi ^{xz}  + \\partial_{x} \\psi ^{txyz}  + \\partial_{z} \\psi ^{ty}  - \\partial_{y} \\psi ^{tz}  - \\partial_{t} \\psi ^{yz} \\right ) \\boldsymbol{\\gamma }_{t}\\wedge \\boldsymbol{\\gamma }_{x}\\wedge \\boldsymbol{\\gamma }_{z} + \\left ( - e A^{t}  \\psi ^{yz}  - e A^{x}  \\psi ^{txyz}  + e A^{y}  \\psi ^{tz}  - e A^{z}  \\psi ^{ty}  - m \\psi ^{yz}  - \\partial_{z} \\psi ^{tx}  + \\partial_{y} \\psi ^{txyz}  + \\partial_{x} \\psi ^{tz}  + \\partial_{t} \\psi ^{xz} \\right ) \\boldsymbol{\\gamma }_{t}\\wedge \\boldsymbol{\\gamma }_{y}\\wedge \\boldsymbol{\\gamma }_{z} + \\left ( - e A^{t}  \\psi ^{txyz}  - e A^{x}  \\psi ^{yz}  + e A^{y}  \\psi ^{xz}  - e A^{z}  \\psi ^{xy}  + m \\psi ^{txyz}  + \\partial_{z} \\psi   - \\partial_{t} \\psi ^{tz}  - \\partial_{x} \\psi ^{xz}  - \\partial_{y} \\psi ^{yz} \\right ) \\boldsymbol{\\gamma }_{x}\\wedge \\boldsymbol{\\gamma }_{y}\\wedge \\boldsymbol{\\gamma }_{z}"
      ]
     },
     "execution_count": 70,
     "metadata": {},
     "output_type": "execute_result"
    }
   ],
   "source": [
    "dirac_eq"
   ]
  },
  {
   "cell_type": "code",
   "execution_count": 71,
   "metadata": {},
   "outputs": [],
   "source": [
    "gamma__gamma_tx = psi.Ga.blades[2][0]"
   ]
  },
  {
   "cell_type": "code",
   "execution_count": 72,
   "metadata": {},
   "outputs": [
    {
     "data": {
      "text/plain": [
       "\"Symbol('gamma_t^gamma_x', commutative=False)\""
      ]
     },
     "execution_count": 72,
     "metadata": {},
     "output_type": "execute_result"
    }
   ],
   "source": [
    "sympy.srepr(gamma__gamma_tx)"
   ]
  },
  {
   "cell_type": "code",
   "execution_count": 73,
   "metadata": {},
   "outputs": [
    {
     "data": {
      "text/plain": [
       "'\\\\boldsymbol{\\\\gamma }_{t}\\\\wedge \\\\boldsymbol{\\\\gamma }_{x}'"
      ]
     },
     "execution_count": 73,
     "metadata": {},
     "output_type": "execute_result"
    }
   ],
   "source": [
    "str(gamma__gamma_tx)"
   ]
  },
  {
   "cell_type": "code",
   "execution_count": 74,
   "metadata": {},
   "outputs": [
    {
     "data": {
      "text/latex": [
       "$$\\gamma^{\\gamma}_{t x}$$"
      ],
      "text/plain": [
       "γ_t_x__γ"
      ]
     },
     "execution_count": 74,
     "metadata": {},
     "output_type": "execute_result"
    }
   ],
   "source": [
    "gamma__gamma_tx"
   ]
  },
  {
   "cell_type": "code",
   "execution_count": 75,
   "metadata": {},
   "outputs": [
    {
     "data": {
      "text/plain": [
       "sympy.core.symbol.Symbol"
      ]
     },
     "execution_count": 75,
     "metadata": {},
     "output_type": "execute_result"
    }
   ],
   "source": [
    "type(gamma__gamma_tx)"
   ]
  },
  {
   "cell_type": "code",
   "execution_count": 76,
   "metadata": {},
   "outputs": [],
   "source": [
    "from galgebra.printer import GaLatexPrinter"
   ]
  },
  {
   "cell_type": "code",
   "execution_count": 77,
   "metadata": {},
   "outputs": [],
   "source": [
    "glp = GaLatexPrinter()"
   ]
  },
  {
   "cell_type": "code",
   "execution_count": 78,
   "metadata": {
    "scrolled": true
   },
   "outputs": [
    {
     "data": {
      "text/plain": [
       "'\\\\boldsymbol{\\\\gamma }_{t}\\\\wedge \\\\boldsymbol{\\\\gamma }_{x}'"
      ]
     },
     "execution_count": 78,
     "metadata": {},
     "output_type": "execute_result"
    }
   ],
   "source": [
    "glp._print_Symbol(gamma__gamma_tx)"
   ]
  },
  {
   "cell_type": "code",
   "execution_count": 79,
   "metadata": {},
   "outputs": [
    {
     "data": {
      "text/plain": [
       "'gamma_t^gamma_x'"
      ]
     },
     "execution_count": 79,
     "metadata": {},
     "output_type": "execute_result"
    }
   ],
   "source": [
    "gamma__gamma_tx.name"
   ]
  },
  {
   "cell_type": "code",
   "execution_count": 80,
   "metadata": {},
   "outputs": [
    {
     "data": {
      "text/plain": [
       "('^', ['gamma', 'gamma'], [[], []], [['t'], ['x']])"
      ]
     },
     "execution_count": 80,
     "metadata": {},
     "output_type": "execute_result"
    }
   ],
   "source": [
    "GaLatexPrinter.split_super_sub(gamma__gamma_tx.name)"
   ]
  },
  {
   "cell_type": "code",
   "execution_count": 81,
   "metadata": {},
   "outputs": [
    {
     "data": {
      "text/plain": [
       "'\\\\boldsymbol{\\\\gamma }_{t}\\\\wedge \\\\boldsymbol{\\\\gamma }_{x}'"
      ]
     },
     "execution_count": 81,
     "metadata": {},
     "output_type": "execute_result"
    }
   ],
   "source": [
    "glp.doprint(gamma__gamma_tx)"
   ]
  },
  {
   "cell_type": "code",
   "execution_count": 82,
   "metadata": {},
   "outputs": [
    {
     "data": {
      "text/plain": [
       "\"Symbol('gamma_t^gamma_x', commutative=False)\""
      ]
     },
     "execution_count": 82,
     "metadata": {},
     "output_type": "execute_result"
    }
   ],
   "source": [
    "sympy.srepr(gamma__gamma_tx)"
   ]
  },
  {
   "cell_type": "code",
   "execution_count": 83,
   "metadata": {},
   "outputs": [
    {
     "data": {
      "text/plain": [
       "False"
      ]
     },
     "execution_count": 83,
     "metadata": {},
     "output_type": "execute_result"
    }
   ],
   "source": [
    "gamma__gamma_tx.is_commutative"
   ]
  },
  {
   "cell_type": "code",
   "execution_count": 84,
   "metadata": {},
   "outputs": [],
   "source": [
    "(mode, name_lst, supers_lst, subs_lst) = GaLatexPrinter.split_super_sub(gamma__gamma_tx.name)"
   ]
  },
  {
   "cell_type": "code",
   "execution_count": 85,
   "metadata": {},
   "outputs": [
    {
     "data": {
      "text/plain": [
       "[('gamma', [], ['t']), ('gamma', [], ['x'])]"
      ]
     },
     "execution_count": 85,
     "metadata": {},
     "output_type": "execute_result"
    }
   ],
   "source": [
    "list(zip(name_lst, supers_lst, subs_lst))"
   ]
  },
  {
   "cell_type": "code",
   "execution_count": 86,
   "metadata": {},
   "outputs": [
    {
     "data": {
      "text/plain": [
       "'\\\\boldsymbol{\\\\gamma }_{t}\\\\wedge \\\\boldsymbol{\\\\gamma }_{x}'"
      ]
     },
     "execution_count": 86,
     "metadata": {},
     "output_type": "execute_result"
    }
   ],
   "source": [
    "glp._print(gamma__gamma_tx)"
   ]
  },
  {
   "cell_type": "code",
   "execution_count": 87,
   "metadata": {},
   "outputs": [
    {
     "data": {
      "text/latex": [
       "$$\\gamma^{\\gamma}_{t x}$$"
      ],
      "text/plain": [
       "γ_t_x__γ"
      ]
     },
     "execution_count": 87,
     "metadata": {},
     "output_type": "execute_result"
    }
   ],
   "source": [
    "gamma__gamma_tx"
   ]
  },
  {
   "cell_type": "code",
   "execution_count": 88,
   "metadata": {},
   "outputs": [
    {
     "data": {
      "text/plain": [
       "sympy.core.symbol.Symbol"
      ]
     },
     "execution_count": 88,
     "metadata": {},
     "output_type": "execute_result"
    }
   ],
   "source": [
    "type(gamma__gamma_tx)"
   ]
  },
  {
   "cell_type": "code",
   "execution_count": 89,
   "metadata": {},
   "outputs": [
    {
     "data": {
      "text/latex": [
       "$$\\left ( \\right )$$"
      ],
      "text/plain": [
       "()"
      ]
     },
     "execution_count": 89,
     "metadata": {},
     "output_type": "execute_result"
    }
   ],
   "source": [
    "gamma__gamma_tx.args"
   ]
  },
  {
   "cell_type": "code",
   "execution_count": 90,
   "metadata": {},
   "outputs": [
    {
     "data": {
      "text/plain": [
       "True"
      ]
     },
     "execution_count": 90,
     "metadata": {},
     "output_type": "execute_result"
    }
   ],
   "source": [
    "gamma__gamma_tx.args_cnc()[1][0] == gamma__gamma_tx"
   ]
  },
  {
   "cell_type": "code",
   "execution_count": 91,
   "metadata": {},
   "outputs": [
    {
     "data": {
      "text/latex": [
       "$$\\left ( \\gamma^{\\gamma}_{t x}, \\quad 1\\right )$$"
      ],
      "text/plain": [
       "(γ_t_x__γ, 1)"
      ]
     },
     "execution_count": 91,
     "metadata": {},
     "output_type": "execute_result"
    }
   ],
   "source": [
    "gamma__gamma_tx.as_base_exp()"
   ]
  },
  {
   "cell_type": "code",
   "execution_count": 92,
   "metadata": {},
   "outputs": [
    {
     "data": {
      "text/latex": [
       "$$\\left [ \\gamma^{\\gamma}_{t x}\\right ]$$"
      ],
      "text/plain": [
       "[γ_t_x__γ]"
      ]
     },
     "execution_count": 92,
     "metadata": {},
     "output_type": "execute_result"
    }
   ],
   "source": [
    "gamma__gamma_tx.as_ordered_terms()"
   ]
  },
  {
   "cell_type": "code",
   "execution_count": 93,
   "metadata": {},
   "outputs": [],
   "source": [
    "from sympy.printing.latex import LatexPrinter"
   ]
  },
  {
   "cell_type": "code",
   "execution_count": 94,
   "metadata": {},
   "outputs": [
    {
     "data": {
      "text/plain": [
       "'\\\\gamma^{\\\\gamma}_{t x}'"
      ]
     },
     "execution_count": 94,
     "metadata": {},
     "output_type": "execute_result"
    }
   ],
   "source": [
    "LatexPrinter()._print_Symbol(gamma__gamma_tx)"
   ]
  },
  {
   "cell_type": "code",
   "execution_count": 95,
   "metadata": {},
   "outputs": [
    {
     "data": {
      "text/plain": [
       "('gamma', ['gamma'], ['t', 'x'])"
      ]
     },
     "execution_count": 95,
     "metadata": {},
     "output_type": "execute_result"
    }
   ],
   "source": [
    "sympy.printing.conventions.split_super_sub(gamma__gamma_tx.name)"
   ]
  },
  {
   "cell_type": "code",
   "execution_count": 96,
   "metadata": {},
   "outputs": [
    {
     "data": {
      "text/plain": [
       "'\\\\boldsymbol{\\\\gamma }_{t}\\\\wedge \\\\boldsymbol{\\\\gamma }_{x}'"
      ]
     },
     "execution_count": 96,
     "metadata": {},
     "output_type": "execute_result"
    }
   ],
   "source": [
    "str(gamma__gamma_tx)"
   ]
  },
  {
   "cell_type": "code",
   "execution_count": 97,
   "metadata": {},
   "outputs": [
    {
     "data": {
      "text/plain": [
       "\"Symbol('gamma_t^gamma_x', commutative=False)\""
      ]
     },
     "execution_count": 97,
     "metadata": {},
     "output_type": "execute_result"
    }
   ],
   "source": [
    "sympy.srepr(gamma__gamma_tx)"
   ]
  },
  {
   "cell_type": "code",
   "execution_count": 98,
   "metadata": {
    "scrolled": true
   },
   "outputs": [
    {
     "data": {
      "text/plain": [
       "{'commutative': False,\n",
       " 'transcendental': False,\n",
       " 'composite': False,\n",
       " 'even': False,\n",
       " 'nonpositive': False,\n",
       " 'negative': False,\n",
       " 'nonzero': False,\n",
       " 'positive': False,\n",
       " 'noninteger': False,\n",
       " 'imaginary': False,\n",
       " 'real': False,\n",
       " 'zero': False,\n",
       " 'irrational': False,\n",
       " 'prime': False,\n",
       " 'rational': False,\n",
       " 'complex': False,\n",
       " 'odd': False,\n",
       " 'algebraic': False,\n",
       " 'nonnegative': False,\n",
       " 'integer': False}"
      ]
     },
     "execution_count": 98,
     "metadata": {},
     "output_type": "execute_result"
    }
   ],
   "source": [
    "gamma__gamma_tx.assumptions0"
   ]
  },
  {
   "cell_type": "code",
   "execution_count": null,
   "metadata": {},
   "outputs": [],
   "source": []
  }
 ],
 "metadata": {
  "kernelspec": {
   "display_name": "Python 3",
   "language": "python",
   "name": "python3"
  },
  "language_info": {
   "codemirror_mode": {
    "name": "ipython",
    "version": 3
   },
   "file_extension": ".py",
   "mimetype": "text/x-python",
   "name": "python",
   "nbconvert_exporter": "python",
   "pygments_lexer": "ipython3",
   "version": "3.6.2"
  }
 },
 "nbformat": 4,
 "nbformat_minor": 2
}
